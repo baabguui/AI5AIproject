{
  "nbformat": 4,
  "nbformat_minor": 0,
  "metadata": {
    "colab": {
      "provenance": []
    },
    "kernelspec": {
      "name": "python3",
      "display_name": "Python 3"
    },
    "language_info": {
      "name": "python"
    },
    "gpuClass": "standard",
    "widgets": {
      "application/vnd.jupyter.widget-state+json": {
        "7659d1e371ba420b9fca5b70c92a2a7d": {
          "model_module": "@jupyter-widgets/controls",
          "model_name": "HBoxModel",
          "model_module_version": "1.5.0",
          "state": {
            "_dom_classes": [],
            "_model_module": "@jupyter-widgets/controls",
            "_model_module_version": "1.5.0",
            "_model_name": "HBoxModel",
            "_view_count": null,
            "_view_module": "@jupyter-widgets/controls",
            "_view_module_version": "1.5.0",
            "_view_name": "HBoxView",
            "box_style": "",
            "children": [
              "IPY_MODEL_acccd4419dae445581a720eef3a46209",
              "IPY_MODEL_4bbaf03d4f4d484685f88d70848f10b5",
              "IPY_MODEL_20f680d7f08b4e2abbe3dab0b02ad7e5"
            ],
            "layout": "IPY_MODEL_1859fc6ca93a4187b810b237d9d60ae3"
          }
        },
        "acccd4419dae445581a720eef3a46209": {
          "model_module": "@jupyter-widgets/controls",
          "model_name": "HTMLModel",
          "model_module_version": "1.5.0",
          "state": {
            "_dom_classes": [],
            "_model_module": "@jupyter-widgets/controls",
            "_model_module_version": "1.5.0",
            "_model_name": "HTMLModel",
            "_view_count": null,
            "_view_module": "@jupyter-widgets/controls",
            "_view_module_version": "1.5.0",
            "_view_name": "HTMLView",
            "description": "",
            "description_tooltip": null,
            "layout": "IPY_MODEL_e87a9e5647fc47b09295db481dc17d32",
            "placeholder": "​",
            "style": "IPY_MODEL_69c79bec61d045ea809223d83dc12574",
            "value": "Epoch: 100%"
          }
        },
        "4bbaf03d4f4d484685f88d70848f10b5": {
          "model_module": "@jupyter-widgets/controls",
          "model_name": "FloatProgressModel",
          "model_module_version": "1.5.0",
          "state": {
            "_dom_classes": [],
            "_model_module": "@jupyter-widgets/controls",
            "_model_module_version": "1.5.0",
            "_model_name": "FloatProgressModel",
            "_view_count": null,
            "_view_module": "@jupyter-widgets/controls",
            "_view_module_version": "1.5.0",
            "_view_name": "ProgressView",
            "bar_style": "success",
            "description": "",
            "description_tooltip": null,
            "layout": "IPY_MODEL_24e4cc56116647b88aa0bbc0136f9edf",
            "max": 3,
            "min": 0,
            "orientation": "horizontal",
            "style": "IPY_MODEL_090fc3ffa52f4cc6ad1d221311d100d7",
            "value": 3
          }
        },
        "20f680d7f08b4e2abbe3dab0b02ad7e5": {
          "model_module": "@jupyter-widgets/controls",
          "model_name": "HTMLModel",
          "model_module_version": "1.5.0",
          "state": {
            "_dom_classes": [],
            "_model_module": "@jupyter-widgets/controls",
            "_model_module_version": "1.5.0",
            "_model_name": "HTMLModel",
            "_view_count": null,
            "_view_module": "@jupyter-widgets/controls",
            "_view_module_version": "1.5.0",
            "_view_name": "HTMLView",
            "description": "",
            "description_tooltip": null,
            "layout": "IPY_MODEL_1c200253b10f4d29b3a1362251e81218",
            "placeholder": "​",
            "style": "IPY_MODEL_6835631a24704efba970da2613872741",
            "value": " 3/3 [54:18&lt;00:00, 1085.74s/it]"
          }
        },
        "1859fc6ca93a4187b810b237d9d60ae3": {
          "model_module": "@jupyter-widgets/base",
          "model_name": "LayoutModel",
          "model_module_version": "1.2.0",
          "state": {
            "_model_module": "@jupyter-widgets/base",
            "_model_module_version": "1.2.0",
            "_model_name": "LayoutModel",
            "_view_count": null,
            "_view_module": "@jupyter-widgets/base",
            "_view_module_version": "1.2.0",
            "_view_name": "LayoutView",
            "align_content": null,
            "align_items": null,
            "align_self": null,
            "border": null,
            "bottom": null,
            "display": null,
            "flex": null,
            "flex_flow": null,
            "grid_area": null,
            "grid_auto_columns": null,
            "grid_auto_flow": null,
            "grid_auto_rows": null,
            "grid_column": null,
            "grid_gap": null,
            "grid_row": null,
            "grid_template_areas": null,
            "grid_template_columns": null,
            "grid_template_rows": null,
            "height": null,
            "justify_content": null,
            "justify_items": null,
            "left": null,
            "margin": null,
            "max_height": null,
            "max_width": null,
            "min_height": null,
            "min_width": null,
            "object_fit": null,
            "object_position": null,
            "order": null,
            "overflow": null,
            "overflow_x": null,
            "overflow_y": null,
            "padding": null,
            "right": null,
            "top": null,
            "visibility": null,
            "width": null
          }
        },
        "e87a9e5647fc47b09295db481dc17d32": {
          "model_module": "@jupyter-widgets/base",
          "model_name": "LayoutModel",
          "model_module_version": "1.2.0",
          "state": {
            "_model_module": "@jupyter-widgets/base",
            "_model_module_version": "1.2.0",
            "_model_name": "LayoutModel",
            "_view_count": null,
            "_view_module": "@jupyter-widgets/base",
            "_view_module_version": "1.2.0",
            "_view_name": "LayoutView",
            "align_content": null,
            "align_items": null,
            "align_self": null,
            "border": null,
            "bottom": null,
            "display": null,
            "flex": null,
            "flex_flow": null,
            "grid_area": null,
            "grid_auto_columns": null,
            "grid_auto_flow": null,
            "grid_auto_rows": null,
            "grid_column": null,
            "grid_gap": null,
            "grid_row": null,
            "grid_template_areas": null,
            "grid_template_columns": null,
            "grid_template_rows": null,
            "height": null,
            "justify_content": null,
            "justify_items": null,
            "left": null,
            "margin": null,
            "max_height": null,
            "max_width": null,
            "min_height": null,
            "min_width": null,
            "object_fit": null,
            "object_position": null,
            "order": null,
            "overflow": null,
            "overflow_x": null,
            "overflow_y": null,
            "padding": null,
            "right": null,
            "top": null,
            "visibility": null,
            "width": null
          }
        },
        "69c79bec61d045ea809223d83dc12574": {
          "model_module": "@jupyter-widgets/controls",
          "model_name": "DescriptionStyleModel",
          "model_module_version": "1.5.0",
          "state": {
            "_model_module": "@jupyter-widgets/controls",
            "_model_module_version": "1.5.0",
            "_model_name": "DescriptionStyleModel",
            "_view_count": null,
            "_view_module": "@jupyter-widgets/base",
            "_view_module_version": "1.2.0",
            "_view_name": "StyleView",
            "description_width": ""
          }
        },
        "24e4cc56116647b88aa0bbc0136f9edf": {
          "model_module": "@jupyter-widgets/base",
          "model_name": "LayoutModel",
          "model_module_version": "1.2.0",
          "state": {
            "_model_module": "@jupyter-widgets/base",
            "_model_module_version": "1.2.0",
            "_model_name": "LayoutModel",
            "_view_count": null,
            "_view_module": "@jupyter-widgets/base",
            "_view_module_version": "1.2.0",
            "_view_name": "LayoutView",
            "align_content": null,
            "align_items": null,
            "align_self": null,
            "border": null,
            "bottom": null,
            "display": null,
            "flex": null,
            "flex_flow": null,
            "grid_area": null,
            "grid_auto_columns": null,
            "grid_auto_flow": null,
            "grid_auto_rows": null,
            "grid_column": null,
            "grid_gap": null,
            "grid_row": null,
            "grid_template_areas": null,
            "grid_template_columns": null,
            "grid_template_rows": null,
            "height": null,
            "justify_content": null,
            "justify_items": null,
            "left": null,
            "margin": null,
            "max_height": null,
            "max_width": null,
            "min_height": null,
            "min_width": null,
            "object_fit": null,
            "object_position": null,
            "order": null,
            "overflow": null,
            "overflow_x": null,
            "overflow_y": null,
            "padding": null,
            "right": null,
            "top": null,
            "visibility": null,
            "width": null
          }
        },
        "090fc3ffa52f4cc6ad1d221311d100d7": {
          "model_module": "@jupyter-widgets/controls",
          "model_name": "ProgressStyleModel",
          "model_module_version": "1.5.0",
          "state": {
            "_model_module": "@jupyter-widgets/controls",
            "_model_module_version": "1.5.0",
            "_model_name": "ProgressStyleModel",
            "_view_count": null,
            "_view_module": "@jupyter-widgets/base",
            "_view_module_version": "1.2.0",
            "_view_name": "StyleView",
            "bar_color": null,
            "description_width": ""
          }
        },
        "1c200253b10f4d29b3a1362251e81218": {
          "model_module": "@jupyter-widgets/base",
          "model_name": "LayoutModel",
          "model_module_version": "1.2.0",
          "state": {
            "_model_module": "@jupyter-widgets/base",
            "_model_module_version": "1.2.0",
            "_model_name": "LayoutModel",
            "_view_count": null,
            "_view_module": "@jupyter-widgets/base",
            "_view_module_version": "1.2.0",
            "_view_name": "LayoutView",
            "align_content": null,
            "align_items": null,
            "align_self": null,
            "border": null,
            "bottom": null,
            "display": null,
            "flex": null,
            "flex_flow": null,
            "grid_area": null,
            "grid_auto_columns": null,
            "grid_auto_flow": null,
            "grid_auto_rows": null,
            "grid_column": null,
            "grid_gap": null,
            "grid_row": null,
            "grid_template_areas": null,
            "grid_template_columns": null,
            "grid_template_rows": null,
            "height": null,
            "justify_content": null,
            "justify_items": null,
            "left": null,
            "margin": null,
            "max_height": null,
            "max_width": null,
            "min_height": null,
            "min_width": null,
            "object_fit": null,
            "object_position": null,
            "order": null,
            "overflow": null,
            "overflow_x": null,
            "overflow_y": null,
            "padding": null,
            "right": null,
            "top": null,
            "visibility": null,
            "width": null
          }
        },
        "6835631a24704efba970da2613872741": {
          "model_module": "@jupyter-widgets/controls",
          "model_name": "DescriptionStyleModel",
          "model_module_version": "1.5.0",
          "state": {
            "_model_module": "@jupyter-widgets/controls",
            "_model_module_version": "1.5.0",
            "_model_name": "DescriptionStyleModel",
            "_view_count": null,
            "_view_module": "@jupyter-widgets/base",
            "_view_module_version": "1.2.0",
            "_view_name": "StyleView",
            "description_width": ""
          }
        },
        "51f9af57834d42f499145b4422a15418": {
          "model_module": "@jupyter-widgets/controls",
          "model_name": "HBoxModel",
          "model_module_version": "1.5.0",
          "state": {
            "_dom_classes": [],
            "_model_module": "@jupyter-widgets/controls",
            "_model_module_version": "1.5.0",
            "_model_name": "HBoxModel",
            "_view_count": null,
            "_view_module": "@jupyter-widgets/controls",
            "_view_module_version": "1.5.0",
            "_view_name": "HBoxView",
            "box_style": "",
            "children": [
              "IPY_MODEL_6d4b11ab805c409dbade9f5f13df6ad6",
              "IPY_MODEL_0a5c3fdce161492d8b04706f357f6f9a",
              "IPY_MODEL_2270bad9f54d49e4a0437b7286d3a6f1"
            ],
            "layout": "IPY_MODEL_c1780e47211d4b1781665970826f7c11"
          }
        },
        "6d4b11ab805c409dbade9f5f13df6ad6": {
          "model_module": "@jupyter-widgets/controls",
          "model_name": "HTMLModel",
          "model_module_version": "1.5.0",
          "state": {
            "_dom_classes": [],
            "_model_module": "@jupyter-widgets/controls",
            "_model_module_version": "1.5.0",
            "_model_name": "HTMLModel",
            "_view_count": null,
            "_view_module": "@jupyter-widgets/controls",
            "_view_module_version": "1.5.0",
            "_view_name": "HTMLView",
            "description": "",
            "description_tooltip": null,
            "layout": "IPY_MODEL_9c65447aa8ea4696a426a1de98c32d28",
            "placeholder": "​",
            "style": "IPY_MODEL_27d407d12e984b78bac3441f42a2c0a0",
            "value": "Downloading: 100%"
          }
        },
        "0a5c3fdce161492d8b04706f357f6f9a": {
          "model_module": "@jupyter-widgets/controls",
          "model_name": "FloatProgressModel",
          "model_module_version": "1.5.0",
          "state": {
            "_dom_classes": [],
            "_model_module": "@jupyter-widgets/controls",
            "_model_module_version": "1.5.0",
            "_model_name": "FloatProgressModel",
            "_view_count": null,
            "_view_module": "@jupyter-widgets/controls",
            "_view_module_version": "1.5.0",
            "_view_name": "ProgressView",
            "bar_style": "success",
            "description": "",
            "description_tooltip": null,
            "layout": "IPY_MODEL_48d85065a2b6437c8e5e51a7a0b7873b",
            "max": 231508,
            "min": 0,
            "orientation": "horizontal",
            "style": "IPY_MODEL_9cae20132e9940f6a634754268d841eb",
            "value": 231508
          }
        },
        "2270bad9f54d49e4a0437b7286d3a6f1": {
          "model_module": "@jupyter-widgets/controls",
          "model_name": "HTMLModel",
          "model_module_version": "1.5.0",
          "state": {
            "_dom_classes": [],
            "_model_module": "@jupyter-widgets/controls",
            "_model_module_version": "1.5.0",
            "_model_name": "HTMLModel",
            "_view_count": null,
            "_view_module": "@jupyter-widgets/controls",
            "_view_module_version": "1.5.0",
            "_view_name": "HTMLView",
            "description": "",
            "description_tooltip": null,
            "layout": "IPY_MODEL_a48ce941e85f4b04a4af943201164e32",
            "placeholder": "​",
            "style": "IPY_MODEL_50b4d1411dbb4485b501684e1e68054d",
            "value": " 232k/232k [00:00&lt;00:00, 7.94kB/s]"
          }
        },
        "c1780e47211d4b1781665970826f7c11": {
          "model_module": "@jupyter-widgets/base",
          "model_name": "LayoutModel",
          "model_module_version": "1.2.0",
          "state": {
            "_model_module": "@jupyter-widgets/base",
            "_model_module_version": "1.2.0",
            "_model_name": "LayoutModel",
            "_view_count": null,
            "_view_module": "@jupyter-widgets/base",
            "_view_module_version": "1.2.0",
            "_view_name": "LayoutView",
            "align_content": null,
            "align_items": null,
            "align_self": null,
            "border": null,
            "bottom": null,
            "display": null,
            "flex": null,
            "flex_flow": null,
            "grid_area": null,
            "grid_auto_columns": null,
            "grid_auto_flow": null,
            "grid_auto_rows": null,
            "grid_column": null,
            "grid_gap": null,
            "grid_row": null,
            "grid_template_areas": null,
            "grid_template_columns": null,
            "grid_template_rows": null,
            "height": null,
            "justify_content": null,
            "justify_items": null,
            "left": null,
            "margin": null,
            "max_height": null,
            "max_width": null,
            "min_height": null,
            "min_width": null,
            "object_fit": null,
            "object_position": null,
            "order": null,
            "overflow": null,
            "overflow_x": null,
            "overflow_y": null,
            "padding": null,
            "right": null,
            "top": null,
            "visibility": null,
            "width": null
          }
        },
        "9c65447aa8ea4696a426a1de98c32d28": {
          "model_module": "@jupyter-widgets/base",
          "model_name": "LayoutModel",
          "model_module_version": "1.2.0",
          "state": {
            "_model_module": "@jupyter-widgets/base",
            "_model_module_version": "1.2.0",
            "_model_name": "LayoutModel",
            "_view_count": null,
            "_view_module": "@jupyter-widgets/base",
            "_view_module_version": "1.2.0",
            "_view_name": "LayoutView",
            "align_content": null,
            "align_items": null,
            "align_self": null,
            "border": null,
            "bottom": null,
            "display": null,
            "flex": null,
            "flex_flow": null,
            "grid_area": null,
            "grid_auto_columns": null,
            "grid_auto_flow": null,
            "grid_auto_rows": null,
            "grid_column": null,
            "grid_gap": null,
            "grid_row": null,
            "grid_template_areas": null,
            "grid_template_columns": null,
            "grid_template_rows": null,
            "height": null,
            "justify_content": null,
            "justify_items": null,
            "left": null,
            "margin": null,
            "max_height": null,
            "max_width": null,
            "min_height": null,
            "min_width": null,
            "object_fit": null,
            "object_position": null,
            "order": null,
            "overflow": null,
            "overflow_x": null,
            "overflow_y": null,
            "padding": null,
            "right": null,
            "top": null,
            "visibility": null,
            "width": null
          }
        },
        "27d407d12e984b78bac3441f42a2c0a0": {
          "model_module": "@jupyter-widgets/controls",
          "model_name": "DescriptionStyleModel",
          "model_module_version": "1.5.0",
          "state": {
            "_model_module": "@jupyter-widgets/controls",
            "_model_module_version": "1.5.0",
            "_model_name": "DescriptionStyleModel",
            "_view_count": null,
            "_view_module": "@jupyter-widgets/base",
            "_view_module_version": "1.2.0",
            "_view_name": "StyleView",
            "description_width": ""
          }
        },
        "48d85065a2b6437c8e5e51a7a0b7873b": {
          "model_module": "@jupyter-widgets/base",
          "model_name": "LayoutModel",
          "model_module_version": "1.2.0",
          "state": {
            "_model_module": "@jupyter-widgets/base",
            "_model_module_version": "1.2.0",
            "_model_name": "LayoutModel",
            "_view_count": null,
            "_view_module": "@jupyter-widgets/base",
            "_view_module_version": "1.2.0",
            "_view_name": "LayoutView",
            "align_content": null,
            "align_items": null,
            "align_self": null,
            "border": null,
            "bottom": null,
            "display": null,
            "flex": null,
            "flex_flow": null,
            "grid_area": null,
            "grid_auto_columns": null,
            "grid_auto_flow": null,
            "grid_auto_rows": null,
            "grid_column": null,
            "grid_gap": null,
            "grid_row": null,
            "grid_template_areas": null,
            "grid_template_columns": null,
            "grid_template_rows": null,
            "height": null,
            "justify_content": null,
            "justify_items": null,
            "left": null,
            "margin": null,
            "max_height": null,
            "max_width": null,
            "min_height": null,
            "min_width": null,
            "object_fit": null,
            "object_position": null,
            "order": null,
            "overflow": null,
            "overflow_x": null,
            "overflow_y": null,
            "padding": null,
            "right": null,
            "top": null,
            "visibility": null,
            "width": null
          }
        },
        "9cae20132e9940f6a634754268d841eb": {
          "model_module": "@jupyter-widgets/controls",
          "model_name": "ProgressStyleModel",
          "model_module_version": "1.5.0",
          "state": {
            "_model_module": "@jupyter-widgets/controls",
            "_model_module_version": "1.5.0",
            "_model_name": "ProgressStyleModel",
            "_view_count": null,
            "_view_module": "@jupyter-widgets/base",
            "_view_module_version": "1.2.0",
            "_view_name": "StyleView",
            "bar_color": null,
            "description_width": ""
          }
        },
        "a48ce941e85f4b04a4af943201164e32": {
          "model_module": "@jupyter-widgets/base",
          "model_name": "LayoutModel",
          "model_module_version": "1.2.0",
          "state": {
            "_model_module": "@jupyter-widgets/base",
            "_model_module_version": "1.2.0",
            "_model_name": "LayoutModel",
            "_view_count": null,
            "_view_module": "@jupyter-widgets/base",
            "_view_module_version": "1.2.0",
            "_view_name": "LayoutView",
            "align_content": null,
            "align_items": null,
            "align_self": null,
            "border": null,
            "bottom": null,
            "display": null,
            "flex": null,
            "flex_flow": null,
            "grid_area": null,
            "grid_auto_columns": null,
            "grid_auto_flow": null,
            "grid_auto_rows": null,
            "grid_column": null,
            "grid_gap": null,
            "grid_row": null,
            "grid_template_areas": null,
            "grid_template_columns": null,
            "grid_template_rows": null,
            "height": null,
            "justify_content": null,
            "justify_items": null,
            "left": null,
            "margin": null,
            "max_height": null,
            "max_width": null,
            "min_height": null,
            "min_width": null,
            "object_fit": null,
            "object_position": null,
            "order": null,
            "overflow": null,
            "overflow_x": null,
            "overflow_y": null,
            "padding": null,
            "right": null,
            "top": null,
            "visibility": null,
            "width": null
          }
        },
        "50b4d1411dbb4485b501684e1e68054d": {
          "model_module": "@jupyter-widgets/controls",
          "model_name": "DescriptionStyleModel",
          "model_module_version": "1.5.0",
          "state": {
            "_model_module": "@jupyter-widgets/controls",
            "_model_module_version": "1.5.0",
            "_model_name": "DescriptionStyleModel",
            "_view_count": null,
            "_view_module": "@jupyter-widgets/base",
            "_view_module_version": "1.2.0",
            "_view_name": "StyleView",
            "description_width": ""
          }
        },
        "c537d1b2f1174c7c94a8ca365f7cda09": {
          "model_module": "@jupyter-widgets/controls",
          "model_name": "HBoxModel",
          "model_module_version": "1.5.0",
          "state": {
            "_dom_classes": [],
            "_model_module": "@jupyter-widgets/controls",
            "_model_module_version": "1.5.0",
            "_model_name": "HBoxModel",
            "_view_count": null,
            "_view_module": "@jupyter-widgets/controls",
            "_view_module_version": "1.5.0",
            "_view_name": "HBoxView",
            "box_style": "",
            "children": [
              "IPY_MODEL_4d5d1e4e923544fe93b45eede1a6253c",
              "IPY_MODEL_54ad4307da4f466281c1289cdbd924b3",
              "IPY_MODEL_0809161988c041f4b7fc5e081e622733"
            ],
            "layout": "IPY_MODEL_57c3c450ac2740b78fa84f10d567b22e"
          }
        },
        "4d5d1e4e923544fe93b45eede1a6253c": {
          "model_module": "@jupyter-widgets/controls",
          "model_name": "HTMLModel",
          "model_module_version": "1.5.0",
          "state": {
            "_dom_classes": [],
            "_model_module": "@jupyter-widgets/controls",
            "_model_module_version": "1.5.0",
            "_model_name": "HTMLModel",
            "_view_count": null,
            "_view_module": "@jupyter-widgets/controls",
            "_view_module_version": "1.5.0",
            "_view_name": "HTMLView",
            "description": "",
            "description_tooltip": null,
            "layout": "IPY_MODEL_229493335fba437985dfaf42dba56fc0",
            "placeholder": "​",
            "style": "IPY_MODEL_ac8a0124f3854c36aabf05b8195fa354",
            "value": "Downloading: 100%"
          }
        },
        "54ad4307da4f466281c1289cdbd924b3": {
          "model_module": "@jupyter-widgets/controls",
          "model_name": "FloatProgressModel",
          "model_module_version": "1.5.0",
          "state": {
            "_dom_classes": [],
            "_model_module": "@jupyter-widgets/controls",
            "_model_module_version": "1.5.0",
            "_model_name": "FloatProgressModel",
            "_view_count": null,
            "_view_module": "@jupyter-widgets/controls",
            "_view_module_version": "1.5.0",
            "_view_name": "ProgressView",
            "bar_style": "success",
            "description": "",
            "description_tooltip": null,
            "layout": "IPY_MODEL_d63f48d020c348608fb5064a213c058b",
            "max": 28,
            "min": 0,
            "orientation": "horizontal",
            "style": "IPY_MODEL_75e4440f198d4cffbac11267aec2a59d",
            "value": 28
          }
        },
        "0809161988c041f4b7fc5e081e622733": {
          "model_module": "@jupyter-widgets/controls",
          "model_name": "HTMLModel",
          "model_module_version": "1.5.0",
          "state": {
            "_dom_classes": [],
            "_model_module": "@jupyter-widgets/controls",
            "_model_module_version": "1.5.0",
            "_model_name": "HTMLModel",
            "_view_count": null,
            "_view_module": "@jupyter-widgets/controls",
            "_view_module_version": "1.5.0",
            "_view_name": "HTMLView",
            "description": "",
            "description_tooltip": null,
            "layout": "IPY_MODEL_0a93147dc8004392b71cf0030ff26a4a",
            "placeholder": "​",
            "style": "IPY_MODEL_3b21ca24fa3043af8f8935dfc039c1a8",
            "value": " 28.0/28.0 [00:00&lt;00:00, 257B/s]"
          }
        },
        "57c3c450ac2740b78fa84f10d567b22e": {
          "model_module": "@jupyter-widgets/base",
          "model_name": "LayoutModel",
          "model_module_version": "1.2.0",
          "state": {
            "_model_module": "@jupyter-widgets/base",
            "_model_module_version": "1.2.0",
            "_model_name": "LayoutModel",
            "_view_count": null,
            "_view_module": "@jupyter-widgets/base",
            "_view_module_version": "1.2.0",
            "_view_name": "LayoutView",
            "align_content": null,
            "align_items": null,
            "align_self": null,
            "border": null,
            "bottom": null,
            "display": null,
            "flex": null,
            "flex_flow": null,
            "grid_area": null,
            "grid_auto_columns": null,
            "grid_auto_flow": null,
            "grid_auto_rows": null,
            "grid_column": null,
            "grid_gap": null,
            "grid_row": null,
            "grid_template_areas": null,
            "grid_template_columns": null,
            "grid_template_rows": null,
            "height": null,
            "justify_content": null,
            "justify_items": null,
            "left": null,
            "margin": null,
            "max_height": null,
            "max_width": null,
            "min_height": null,
            "min_width": null,
            "object_fit": null,
            "object_position": null,
            "order": null,
            "overflow": null,
            "overflow_x": null,
            "overflow_y": null,
            "padding": null,
            "right": null,
            "top": null,
            "visibility": null,
            "width": null
          }
        },
        "229493335fba437985dfaf42dba56fc0": {
          "model_module": "@jupyter-widgets/base",
          "model_name": "LayoutModel",
          "model_module_version": "1.2.0",
          "state": {
            "_model_module": "@jupyter-widgets/base",
            "_model_module_version": "1.2.0",
            "_model_name": "LayoutModel",
            "_view_count": null,
            "_view_module": "@jupyter-widgets/base",
            "_view_module_version": "1.2.0",
            "_view_name": "LayoutView",
            "align_content": null,
            "align_items": null,
            "align_self": null,
            "border": null,
            "bottom": null,
            "display": null,
            "flex": null,
            "flex_flow": null,
            "grid_area": null,
            "grid_auto_columns": null,
            "grid_auto_flow": null,
            "grid_auto_rows": null,
            "grid_column": null,
            "grid_gap": null,
            "grid_row": null,
            "grid_template_areas": null,
            "grid_template_columns": null,
            "grid_template_rows": null,
            "height": null,
            "justify_content": null,
            "justify_items": null,
            "left": null,
            "margin": null,
            "max_height": null,
            "max_width": null,
            "min_height": null,
            "min_width": null,
            "object_fit": null,
            "object_position": null,
            "order": null,
            "overflow": null,
            "overflow_x": null,
            "overflow_y": null,
            "padding": null,
            "right": null,
            "top": null,
            "visibility": null,
            "width": null
          }
        },
        "ac8a0124f3854c36aabf05b8195fa354": {
          "model_module": "@jupyter-widgets/controls",
          "model_name": "DescriptionStyleModel",
          "model_module_version": "1.5.0",
          "state": {
            "_model_module": "@jupyter-widgets/controls",
            "_model_module_version": "1.5.0",
            "_model_name": "DescriptionStyleModel",
            "_view_count": null,
            "_view_module": "@jupyter-widgets/base",
            "_view_module_version": "1.2.0",
            "_view_name": "StyleView",
            "description_width": ""
          }
        },
        "d63f48d020c348608fb5064a213c058b": {
          "model_module": "@jupyter-widgets/base",
          "model_name": "LayoutModel",
          "model_module_version": "1.2.0",
          "state": {
            "_model_module": "@jupyter-widgets/base",
            "_model_module_version": "1.2.0",
            "_model_name": "LayoutModel",
            "_view_count": null,
            "_view_module": "@jupyter-widgets/base",
            "_view_module_version": "1.2.0",
            "_view_name": "LayoutView",
            "align_content": null,
            "align_items": null,
            "align_self": null,
            "border": null,
            "bottom": null,
            "display": null,
            "flex": null,
            "flex_flow": null,
            "grid_area": null,
            "grid_auto_columns": null,
            "grid_auto_flow": null,
            "grid_auto_rows": null,
            "grid_column": null,
            "grid_gap": null,
            "grid_row": null,
            "grid_template_areas": null,
            "grid_template_columns": null,
            "grid_template_rows": null,
            "height": null,
            "justify_content": null,
            "justify_items": null,
            "left": null,
            "margin": null,
            "max_height": null,
            "max_width": null,
            "min_height": null,
            "min_width": null,
            "object_fit": null,
            "object_position": null,
            "order": null,
            "overflow": null,
            "overflow_x": null,
            "overflow_y": null,
            "padding": null,
            "right": null,
            "top": null,
            "visibility": null,
            "width": null
          }
        },
        "75e4440f198d4cffbac11267aec2a59d": {
          "model_module": "@jupyter-widgets/controls",
          "model_name": "ProgressStyleModel",
          "model_module_version": "1.5.0",
          "state": {
            "_model_module": "@jupyter-widgets/controls",
            "_model_module_version": "1.5.0",
            "_model_name": "ProgressStyleModel",
            "_view_count": null,
            "_view_module": "@jupyter-widgets/base",
            "_view_module_version": "1.2.0",
            "_view_name": "StyleView",
            "bar_color": null,
            "description_width": ""
          }
        },
        "0a93147dc8004392b71cf0030ff26a4a": {
          "model_module": "@jupyter-widgets/base",
          "model_name": "LayoutModel",
          "model_module_version": "1.2.0",
          "state": {
            "_model_module": "@jupyter-widgets/base",
            "_model_module_version": "1.2.0",
            "_model_name": "LayoutModel",
            "_view_count": null,
            "_view_module": "@jupyter-widgets/base",
            "_view_module_version": "1.2.0",
            "_view_name": "LayoutView",
            "align_content": null,
            "align_items": null,
            "align_self": null,
            "border": null,
            "bottom": null,
            "display": null,
            "flex": null,
            "flex_flow": null,
            "grid_area": null,
            "grid_auto_columns": null,
            "grid_auto_flow": null,
            "grid_auto_rows": null,
            "grid_column": null,
            "grid_gap": null,
            "grid_row": null,
            "grid_template_areas": null,
            "grid_template_columns": null,
            "grid_template_rows": null,
            "height": null,
            "justify_content": null,
            "justify_items": null,
            "left": null,
            "margin": null,
            "max_height": null,
            "max_width": null,
            "min_height": null,
            "min_width": null,
            "object_fit": null,
            "object_position": null,
            "order": null,
            "overflow": null,
            "overflow_x": null,
            "overflow_y": null,
            "padding": null,
            "right": null,
            "top": null,
            "visibility": null,
            "width": null
          }
        },
        "3b21ca24fa3043af8f8935dfc039c1a8": {
          "model_module": "@jupyter-widgets/controls",
          "model_name": "DescriptionStyleModel",
          "model_module_version": "1.5.0",
          "state": {
            "_model_module": "@jupyter-widgets/controls",
            "_model_module_version": "1.5.0",
            "_model_name": "DescriptionStyleModel",
            "_view_count": null,
            "_view_module": "@jupyter-widgets/base",
            "_view_module_version": "1.2.0",
            "_view_name": "StyleView",
            "description_width": ""
          }
        },
        "13f5b169dfb14d6ea2378999f07f3d59": {
          "model_module": "@jupyter-widgets/controls",
          "model_name": "HBoxModel",
          "model_module_version": "1.5.0",
          "state": {
            "_dom_classes": [],
            "_model_module": "@jupyter-widgets/controls",
            "_model_module_version": "1.5.0",
            "_model_name": "HBoxModel",
            "_view_count": null,
            "_view_module": "@jupyter-widgets/controls",
            "_view_module_version": "1.5.0",
            "_view_name": "HBoxView",
            "box_style": "",
            "children": [
              "IPY_MODEL_c4911dd024f84df1a8eb253a351ebb55",
              "IPY_MODEL_d967c2c366474df7a49583e654f9d796",
              "IPY_MODEL_10e1937ce7444aac8a2e9dbb205f0de5"
            ],
            "layout": "IPY_MODEL_6106040ef00849569ad9962852ed0b50"
          }
        },
        "c4911dd024f84df1a8eb253a351ebb55": {
          "model_module": "@jupyter-widgets/controls",
          "model_name": "HTMLModel",
          "model_module_version": "1.5.0",
          "state": {
            "_dom_classes": [],
            "_model_module": "@jupyter-widgets/controls",
            "_model_module_version": "1.5.0",
            "_model_name": "HTMLModel",
            "_view_count": null,
            "_view_module": "@jupyter-widgets/controls",
            "_view_module_version": "1.5.0",
            "_view_name": "HTMLView",
            "description": "",
            "description_tooltip": null,
            "layout": "IPY_MODEL_083225f8d30c4eb1bed0d7ad5658e62d",
            "placeholder": "​",
            "style": "IPY_MODEL_fab58c0e95db4eb7b13a4e576e0bb59f",
            "value": "Downloading: 100%"
          }
        },
        "d967c2c366474df7a49583e654f9d796": {
          "model_module": "@jupyter-widgets/controls",
          "model_name": "FloatProgressModel",
          "model_module_version": "1.5.0",
          "state": {
            "_dom_classes": [],
            "_model_module": "@jupyter-widgets/controls",
            "_model_module_version": "1.5.0",
            "_model_name": "FloatProgressModel",
            "_view_count": null,
            "_view_module": "@jupyter-widgets/controls",
            "_view_module_version": "1.5.0",
            "_view_name": "ProgressView",
            "bar_style": "success",
            "description": "",
            "description_tooltip": null,
            "layout": "IPY_MODEL_0487da7a35d1445c89c675903ef362ad",
            "max": 570,
            "min": 0,
            "orientation": "horizontal",
            "style": "IPY_MODEL_59bfb465423c4f6dbe3c7351878404ca",
            "value": 570
          }
        },
        "10e1937ce7444aac8a2e9dbb205f0de5": {
          "model_module": "@jupyter-widgets/controls",
          "model_name": "HTMLModel",
          "model_module_version": "1.5.0",
          "state": {
            "_dom_classes": [],
            "_model_module": "@jupyter-widgets/controls",
            "_model_module_version": "1.5.0",
            "_model_name": "HTMLModel",
            "_view_count": null,
            "_view_module": "@jupyter-widgets/controls",
            "_view_module_version": "1.5.0",
            "_view_name": "HTMLView",
            "description": "",
            "description_tooltip": null,
            "layout": "IPY_MODEL_f1e92d2f48e04bb2b48f5ce47faedf8a",
            "placeholder": "​",
            "style": "IPY_MODEL_cb365ada1e804a38bea125a483b07592",
            "value": " 570/570 [00:00&lt;00:00, 4.63kB/s]"
          }
        },
        "6106040ef00849569ad9962852ed0b50": {
          "model_module": "@jupyter-widgets/base",
          "model_name": "LayoutModel",
          "model_module_version": "1.2.0",
          "state": {
            "_model_module": "@jupyter-widgets/base",
            "_model_module_version": "1.2.0",
            "_model_name": "LayoutModel",
            "_view_count": null,
            "_view_module": "@jupyter-widgets/base",
            "_view_module_version": "1.2.0",
            "_view_name": "LayoutView",
            "align_content": null,
            "align_items": null,
            "align_self": null,
            "border": null,
            "bottom": null,
            "display": null,
            "flex": null,
            "flex_flow": null,
            "grid_area": null,
            "grid_auto_columns": null,
            "grid_auto_flow": null,
            "grid_auto_rows": null,
            "grid_column": null,
            "grid_gap": null,
            "grid_row": null,
            "grid_template_areas": null,
            "grid_template_columns": null,
            "grid_template_rows": null,
            "height": null,
            "justify_content": null,
            "justify_items": null,
            "left": null,
            "margin": null,
            "max_height": null,
            "max_width": null,
            "min_height": null,
            "min_width": null,
            "object_fit": null,
            "object_position": null,
            "order": null,
            "overflow": null,
            "overflow_x": null,
            "overflow_y": null,
            "padding": null,
            "right": null,
            "top": null,
            "visibility": null,
            "width": null
          }
        },
        "083225f8d30c4eb1bed0d7ad5658e62d": {
          "model_module": "@jupyter-widgets/base",
          "model_name": "LayoutModel",
          "model_module_version": "1.2.0",
          "state": {
            "_model_module": "@jupyter-widgets/base",
            "_model_module_version": "1.2.0",
            "_model_name": "LayoutModel",
            "_view_count": null,
            "_view_module": "@jupyter-widgets/base",
            "_view_module_version": "1.2.0",
            "_view_name": "LayoutView",
            "align_content": null,
            "align_items": null,
            "align_self": null,
            "border": null,
            "bottom": null,
            "display": null,
            "flex": null,
            "flex_flow": null,
            "grid_area": null,
            "grid_auto_columns": null,
            "grid_auto_flow": null,
            "grid_auto_rows": null,
            "grid_column": null,
            "grid_gap": null,
            "grid_row": null,
            "grid_template_areas": null,
            "grid_template_columns": null,
            "grid_template_rows": null,
            "height": null,
            "justify_content": null,
            "justify_items": null,
            "left": null,
            "margin": null,
            "max_height": null,
            "max_width": null,
            "min_height": null,
            "min_width": null,
            "object_fit": null,
            "object_position": null,
            "order": null,
            "overflow": null,
            "overflow_x": null,
            "overflow_y": null,
            "padding": null,
            "right": null,
            "top": null,
            "visibility": null,
            "width": null
          }
        },
        "fab58c0e95db4eb7b13a4e576e0bb59f": {
          "model_module": "@jupyter-widgets/controls",
          "model_name": "DescriptionStyleModel",
          "model_module_version": "1.5.0",
          "state": {
            "_model_module": "@jupyter-widgets/controls",
            "_model_module_version": "1.5.0",
            "_model_name": "DescriptionStyleModel",
            "_view_count": null,
            "_view_module": "@jupyter-widgets/base",
            "_view_module_version": "1.2.0",
            "_view_name": "StyleView",
            "description_width": ""
          }
        },
        "0487da7a35d1445c89c675903ef362ad": {
          "model_module": "@jupyter-widgets/base",
          "model_name": "LayoutModel",
          "model_module_version": "1.2.0",
          "state": {
            "_model_module": "@jupyter-widgets/base",
            "_model_module_version": "1.2.0",
            "_model_name": "LayoutModel",
            "_view_count": null,
            "_view_module": "@jupyter-widgets/base",
            "_view_module_version": "1.2.0",
            "_view_name": "LayoutView",
            "align_content": null,
            "align_items": null,
            "align_self": null,
            "border": null,
            "bottom": null,
            "display": null,
            "flex": null,
            "flex_flow": null,
            "grid_area": null,
            "grid_auto_columns": null,
            "grid_auto_flow": null,
            "grid_auto_rows": null,
            "grid_column": null,
            "grid_gap": null,
            "grid_row": null,
            "grid_template_areas": null,
            "grid_template_columns": null,
            "grid_template_rows": null,
            "height": null,
            "justify_content": null,
            "justify_items": null,
            "left": null,
            "margin": null,
            "max_height": null,
            "max_width": null,
            "min_height": null,
            "min_width": null,
            "object_fit": null,
            "object_position": null,
            "order": null,
            "overflow": null,
            "overflow_x": null,
            "overflow_y": null,
            "padding": null,
            "right": null,
            "top": null,
            "visibility": null,
            "width": null
          }
        },
        "59bfb465423c4f6dbe3c7351878404ca": {
          "model_module": "@jupyter-widgets/controls",
          "model_name": "ProgressStyleModel",
          "model_module_version": "1.5.0",
          "state": {
            "_model_module": "@jupyter-widgets/controls",
            "_model_module_version": "1.5.0",
            "_model_name": "ProgressStyleModel",
            "_view_count": null,
            "_view_module": "@jupyter-widgets/base",
            "_view_module_version": "1.2.0",
            "_view_name": "StyleView",
            "bar_color": null,
            "description_width": ""
          }
        },
        "f1e92d2f48e04bb2b48f5ce47faedf8a": {
          "model_module": "@jupyter-widgets/base",
          "model_name": "LayoutModel",
          "model_module_version": "1.2.0",
          "state": {
            "_model_module": "@jupyter-widgets/base",
            "_model_module_version": "1.2.0",
            "_model_name": "LayoutModel",
            "_view_count": null,
            "_view_module": "@jupyter-widgets/base",
            "_view_module_version": "1.2.0",
            "_view_name": "LayoutView",
            "align_content": null,
            "align_items": null,
            "align_self": null,
            "border": null,
            "bottom": null,
            "display": null,
            "flex": null,
            "flex_flow": null,
            "grid_area": null,
            "grid_auto_columns": null,
            "grid_auto_flow": null,
            "grid_auto_rows": null,
            "grid_column": null,
            "grid_gap": null,
            "grid_row": null,
            "grid_template_areas": null,
            "grid_template_columns": null,
            "grid_template_rows": null,
            "height": null,
            "justify_content": null,
            "justify_items": null,
            "left": null,
            "margin": null,
            "max_height": null,
            "max_width": null,
            "min_height": null,
            "min_width": null,
            "object_fit": null,
            "object_position": null,
            "order": null,
            "overflow": null,
            "overflow_x": null,
            "overflow_y": null,
            "padding": null,
            "right": null,
            "top": null,
            "visibility": null,
            "width": null
          }
        },
        "cb365ada1e804a38bea125a483b07592": {
          "model_module": "@jupyter-widgets/controls",
          "model_name": "DescriptionStyleModel",
          "model_module_version": "1.5.0",
          "state": {
            "_model_module": "@jupyter-widgets/controls",
            "_model_module_version": "1.5.0",
            "_model_name": "DescriptionStyleModel",
            "_view_count": null,
            "_view_module": "@jupyter-widgets/base",
            "_view_module_version": "1.2.0",
            "_view_name": "StyleView",
            "description_width": ""
          }
        }
      }
    }
  },
  "cells": [
    {
      "cell_type": "code",
      "source": [
        "!pip install transformers"
      ],
      "metadata": {
        "id": "qiH7aDb-RXew",
        "colab": {
          "base_uri": "https://localhost:8080/"
        },
        "outputId": "508fc060-5c54-44f0-f72e-64edc09e9196"
      },
      "execution_count": 1,
      "outputs": [
        {
          "output_type": "stream",
          "name": "stdout",
          "text": [
            "Looking in indexes: https://pypi.org/simple, https://us-python.pkg.dev/colab-wheels/public/simple/\n",
            "Collecting transformers\n",
            "  Downloading transformers-4.25.1-py3-none-any.whl (5.8 MB)\n",
            "\u001b[K     |████████████████████████████████| 5.8 MB 21.1 MB/s \n",
            "\u001b[?25hCollecting huggingface-hub<1.0,>=0.10.0\n",
            "  Downloading huggingface_hub-0.11.1-py3-none-any.whl (182 kB)\n",
            "\u001b[K     |████████████████████████████████| 182 kB 52.2 MB/s \n",
            "\u001b[?25hRequirement already satisfied: packaging>=20.0 in /usr/local/lib/python3.8/dist-packages (from transformers) (21.3)\n",
            "Collecting tokenizers!=0.11.3,<0.14,>=0.11.1\n",
            "  Downloading tokenizers-0.13.2-cp38-cp38-manylinux_2_17_x86_64.manylinux2014_x86_64.whl (7.6 MB)\n",
            "\u001b[K     |████████████████████████████████| 7.6 MB 51.4 MB/s \n",
            "\u001b[?25hRequirement already satisfied: regex!=2019.12.17 in /usr/local/lib/python3.8/dist-packages (from transformers) (2022.6.2)\n",
            "Requirement already satisfied: tqdm>=4.27 in /usr/local/lib/python3.8/dist-packages (from transformers) (4.64.1)\n",
            "Requirement already satisfied: requests in /usr/local/lib/python3.8/dist-packages (from transformers) (2.23.0)\n",
            "Requirement already satisfied: numpy>=1.17 in /usr/local/lib/python3.8/dist-packages (from transformers) (1.21.6)\n",
            "Requirement already satisfied: filelock in /usr/local/lib/python3.8/dist-packages (from transformers) (3.8.0)\n",
            "Requirement already satisfied: pyyaml>=5.1 in /usr/local/lib/python3.8/dist-packages (from transformers) (6.0)\n",
            "Requirement already satisfied: typing-extensions>=3.7.4.3 in /usr/local/lib/python3.8/dist-packages (from huggingface-hub<1.0,>=0.10.0->transformers) (4.4.0)\n",
            "Requirement already satisfied: pyparsing!=3.0.5,>=2.0.2 in /usr/local/lib/python3.8/dist-packages (from packaging>=20.0->transformers) (3.0.9)\n",
            "Requirement already satisfied: certifi>=2017.4.17 in /usr/local/lib/python3.8/dist-packages (from requests->transformers) (2022.9.24)\n",
            "Requirement already satisfied: idna<3,>=2.5 in /usr/local/lib/python3.8/dist-packages (from requests->transformers) (2.10)\n",
            "Requirement already satisfied: chardet<4,>=3.0.2 in /usr/local/lib/python3.8/dist-packages (from requests->transformers) (3.0.4)\n",
            "Requirement already satisfied: urllib3!=1.25.0,!=1.25.1,<1.26,>=1.21.1 in /usr/local/lib/python3.8/dist-packages (from requests->transformers) (1.24.3)\n",
            "Installing collected packages: tokenizers, huggingface-hub, transformers\n",
            "Successfully installed huggingface-hub-0.11.1 tokenizers-0.13.2 transformers-4.25.1\n"
          ]
        }
      ]
    },
    {
      "cell_type": "code",
      "source": [
        "import pandas as pd\n",
        "import numpy as np\n",
        "import matplotlib.pyplot as plt\n",
        "import seaborn as sns\n",
        "import torch\n",
        "from torch.utils.data import TensorDataset, DataLoader, RandomSampler, SequentialSampler\n",
        "import torch.nn.functional as F\n",
        "from transformers import BertTokenizer, BertConfig,AdamW, BertForSequenceClassification,get_linear_schedule_with_warmup\n",
        "\n",
        "from sklearn.model_selection import train_test_split\n",
        "from sklearn.metrics import confusion_matrix,classification_report\n",
        "from sklearn.metrics import accuracy_score,matthews_corrcoef\n",
        "\n",
        "from tqdm import tqdm, trange,tnrange,tqdm_notebook\n",
        "import random\n",
        "import os\n",
        "os.environ['CUDA_LAUNCH_BLOCKING'] = \"1\"\n",
        "os.environ[\"CUDA_VISIBLE_DEVICES\"] = \"0\"\n",
        "import io\n"
      ],
      "metadata": {
        "id": "NUmIbqYpwQRS"
      },
      "execution_count": 2,
      "outputs": []
    },
    {
      "cell_type": "code",
      "source": [
        "device = torch.device(\"cuda\" if torch.cuda.is_available() else \"cpu\")\n",
        "n_gpu = torch.cuda.device_count()\n",
        "torch.cuda.get_device_name(0)\n",
        "\n",
        "SEED = 42 #매번 할 때마다 값이 변하지 않도록 random seed값을 고정->실험을 동일하게 진행하기 위해\n",
        "\n",
        "random.seed(SEED)\n",
        "np.random.seed(SEED)\n",
        "torch.manual_seed(SEED)\n",
        "if device == torch.device(\"cuda\"):\n",
        "    torch.cuda.manual_seed_all(SEED)"
      ],
      "metadata": {
        "id": "8hn3pDXFRagQ"
      },
      "execution_count": null,
      "outputs": []
    },
    {
      "cell_type": "code",
      "source": [
        "device = torch.device(\"cuda\")"
      ],
      "metadata": {
        "id": "Dj5LS1pFR3Wn"
      },
      "execution_count": null,
      "outputs": []
    },
    {
      "cell_type": "code",
      "source": [
        "from google.colab import drive\n",
        "drive.mount('/content/drive')"
      ],
      "metadata": {
        "id": "H29c_eyxwSjC",
        "colab": {
          "base_uri": "https://localhost:8080/"
        },
        "outputId": "82e679b8-6f53-43a8-fc1e-8f7e84da3a1d"
      },
      "execution_count": 3,
      "outputs": [
        {
          "output_type": "stream",
          "name": "stdout",
          "text": [
            "Drive already mounted at /content/drive; to attempt to forcibly remount, call drive.mount(\"/content/drive\", force_remount=True).\n"
          ]
        }
      ]
    },
    {
      "cell_type": "code",
      "source": [
        "df_train=pd.read_csv('/content/drive/MyDrive/feeling/open/train.csv')\n",
        "df_txtTrain = pd.read_csv('/content/drive/MyDrive/feeling/open/train.txt',sep=\";\")\n",
        "df_test=pd.read_csv('/content/drive/MyDrive/feeling/open/test.txt',sep=\";\")\n",
        "df_valid = pd.read_csv('/content/drive/MyDrive/feeling/open/val.txt',sep=\";\")\n",
        "df_train=df_train[[\"Utterance\",\"Target\"]]\n",
        "result_train = pd.concat([df_txtTrain,df_train,df_test,df_valid])\n",
        "result_train.info()"
      ],
      "metadata": {
        "id": "phc1H1E2zfus",
        "colab": {
          "base_uri": "https://localhost:8080/"
        },
        "outputId": "91b4fcb1-e959-4158-d26c-8c77a3183405"
      },
      "execution_count": 4,
      "outputs": [
        {
          "output_type": "stream",
          "name": "stdout",
          "text": [
            "<class 'pandas.core.frame.DataFrame'>\n",
            "Int64Index: 29989 entries, 0 to 1999\n",
            "Data columns (total 2 columns):\n",
            " #   Column     Non-Null Count  Dtype \n",
            "---  ------     --------------  ----- \n",
            " 0   Utterance  29989 non-null  object\n",
            " 1   Target     29989 non-null  object\n",
            "dtypes: object(2)\n",
            "memory usage: 702.9+ KB\n"
          ]
        }
      ]
    },
    {
      "cell_type": "code",
      "source": [
        "mask = result_train['Target'].isin(['disgust'])\n",
        "\n",
        "result_train = result_train[~mask]"
      ],
      "metadata": {
        "id": "IfDhu4rNkFRg"
      },
      "execution_count": 5,
      "outputs": []
    },
    {
      "cell_type": "code",
      "source": [
        "result_train['Target'].value_counts().plot(kind='bar')"
      ],
      "metadata": {
        "colab": {
          "base_uri": "https://localhost:8080/",
          "height": 314
        },
        "id": "WtVoaA9vN3TP",
        "outputId": "dec5caa8-46cf-4d4c-a763-b0643a0ff8d6"
      },
      "execution_count": 6,
      "outputs": [
        {
          "output_type": "execute_result",
          "data": {
            "text/plain": [
              "<matplotlib.axes._subplots.AxesSubplot at 0x7f0ac615f160>"
            ]
          },
          "metadata": {},
          "execution_count": 6
        },
        {
          "output_type": "display_data",
          "data": {
            "text/plain": [
              "<Figure size 432x288 with 1 Axes>"
            ],
            "image/png": "[encoded data removed]"
          },
          "metadata": {
            "needs_background": "light"
          }
        }
      ]
    },
    {
      "cell_type": "code",
      "source": [
        "from sklearn.preprocessing import LabelEncoder\n",
        "le = LabelEncoder()\n",
        "result_train['Target_num'] = le.fit_transform(result_train['Target'])"
      ],
      "metadata": {
        "id": "X2LYabbMKP_0"
      },
      "execution_count": 7,
      "outputs": []
    },
    {
      "cell_type": "code",
      "source": [
        "result_train[['Target','Target_num']].drop_duplicates(keep='first')"
      ],
      "metadata": {
        "id": "1uxbjjhMOqrP",
        "colab": {
          "base_uri": "https://localhost:8080/",
          "height": 269
        },
        "outputId": "8fc7da08-2984-48fb-a350-cd0643b764da"
      },
      "execution_count": 8,
      "outputs": [
        {
          "output_type": "execute_result",
          "data": {
            "text/plain": [
              "     Target  Target_num\n",
              "0   sadness           5\n",
              "2     anger           0\n",
              "3      love           3\n",
              "6  surprise           6\n",
              "7      fear           1\n",
              "8       joy           2\n",
              "0   neutral           4"
            ],
            "text/html": [
              "\n",
              "  <div id=\"df-e49a47da-109f-456e-89f0-941f3985d7ba\">\n",
              "    <div class=\"colab-df-container\">\n",
              "      <div>\n",
              "<style scoped>\n",
              "    .dataframe tbody tr th:only-of-type {\n",
              "        vertical-align: middle;\n",
              "    }\n",
              "\n",
              "    .dataframe tbody tr th {\n",
              "        vertical-align: top;\n",
              "    }\n",
              "\n",
              "    .dataframe thead th {\n",
              "        text-align: right;\n",
              "    }\n",
              "</style>\n",
              "<table border=\"1\" class=\"dataframe\">\n",
              "  <thead>\n",
              "    <tr style=\"text-align: right;\">\n",
              "      <th></th>\n",
              "      <th>Target</th>\n",
              "      <th>Target_num</th>\n",
              "    </tr>\n",
              "  </thead>\n",
              "  <tbody>\n",
              "    <tr>\n",
              "      <th>0</th>\n",
              "      <td>sadness</td>\n",
              "      <td>5</td>\n",
              "    </tr>\n",
              "    <tr>\n",
              "      <th>2</th>\n",
              "      <td>anger</td>\n",
              "      <td>0</td>\n",
              "    </tr>\n",
              "    <tr>\n",
              "      <th>3</th>\n",
              "      <td>love</td>\n",
              "      <td>3</td>\n",
              "    </tr>\n",
              "    <tr>\n",
              "      <th>6</th>\n",
              "      <td>surprise</td>\n",
              "      <td>6</td>\n",
              "    </tr>\n",
              "    <tr>\n",
              "      <th>7</th>\n",
              "      <td>fear</td>\n",
              "      <td>1</td>\n",
              "    </tr>\n",
              "    <tr>\n",
              "      <th>8</th>\n",
              "      <td>joy</td>\n",
              "      <td>2</td>\n",
              "    </tr>\n",
              "    <tr>\n",
              "      <th>0</th>\n",
              "      <td>neutral</td>\n",
              "      <td>4</td>\n",
              "    </tr>\n",
              "  </tbody>\n",
              "</table>\n",
              "</div>\n",
              "      <button class=\"colab-df-convert\" onclick=\"convertToInteractive('df-e49a47da-109f-456e-89f0-941f3985d7ba')\"\n",
              "              title=\"Convert this dataframe to an interactive table.\"\n",
              "              style=\"display:none;\">\n",
              "        \n",
              "  <svg xmlns=\"http://www.w3.org/2000/svg\" height=\"24px\"viewBox=\"0 0 24 24\"\n",
              "       width=\"24px\">\n",
              "    <path d=\"M0 0h24v24H0V0z\" fill=\"none\"/>\n",
              "    <path d=\"M18.56 5.44l.94 2.06.94-2.06 2.06-.94-2.06-.94-.94-2.06-.94 2.06-2.06.94zm-11 1L8.5 8.5l.94-2.06 2.06-.94-2.06-.94L8.5 2.5l-.94 2.06-2.06.94zm10 10l.94 2.06.94-2.06 2.06-.94-2.06-.94-.94-2.06-.94 2.06-2.06.94z\"/><path d=\"M17.41 7.96l-1.37-1.37c-.4-.4-.92-.59-1.43-.59-.52 0-1.04.2-1.43.59L10.3 9.45l-7.72 7.72c-.78.78-.78 2.05 0 2.83L4 21.41c.39.39.9.59 1.41.59.51 0 1.02-.2 1.41-.59l7.78-7.78 2.81-2.81c.8-.78.8-2.07 0-2.86zM5.41 20L4 18.59l7.72-7.72 1.47 1.35L5.41 20z\"/>\n",
              "  </svg>\n",
              "      </button>\n",
              "      \n",
              "  <style>\n",
              "    .colab-df-container {\n",
              "      display:flex;\n",
              "      flex-wrap:wrap;\n",
              "      gap: 12px;\n",
              "    }\n",
              "\n",
              "    .colab-df-convert {\n",
              "      background-color: #E8F0FE;\n",
              "      border: none;\n",
              "      border-radius: 50%;\n",
              "      cursor: pointer;\n",
              "      display: none;\n",
              "      fill: #1967D2;\n",
              "      height: 32px;\n",
              "      padding: 0 0 0 0;\n",
              "      width: 32px;\n",
              "    }\n",
              "\n",
              "    .colab-df-convert:hover {\n",
              "      background-color: #E2EBFA;\n",
              "      box-shadow: 0px 1px 2px rgba(60, 64, 67, 0.3), 0px 1px 3px 1px rgba(60, 64, 67, 0.15);\n",
              "      fill: #174EA6;\n",
              "    }\n",
              "\n",
              "    [theme=dark] .colab-df-convert {\n",
              "      background-color: #3B4455;\n",
              "      fill: #D2E3FC;\n",
              "    }\n",
              "\n",
              "    [theme=dark] .colab-df-convert:hover {\n",
              "      background-color: #434B5C;\n",
              "      box-shadow: 0px 1px 3px 1px rgba(0, 0, 0, 0.15);\n",
              "      filter: drop-shadow(0px 1px 2px rgba(0, 0, 0, 0.3));\n",
              "      fill: #FFFFFF;\n",
              "    }\n",
              "  </style>\n",
              "\n",
              "      <script>\n",
              "        const buttonEl =\n",
              "          document.querySelector('#df-e49a47da-109f-456e-89f0-941f3985d7ba button.colab-df-convert');\n",
              "        buttonEl.style.display =\n",
              "          google.colab.kernel.accessAllowed ? 'block' : 'none';\n",
              "\n",
              "        async function convertToInteractive(key) {\n",
              "          const element = document.querySelector('#df-e49a47da-109f-456e-89f0-941f3985d7ba');\n",
              "          const dataTable =\n",
              "            await google.colab.kernel.invokeFunction('convertToInteractive',\n",
              "                                                     [key], {});\n",
              "          if (!dataTable) return;\n",
              "\n",
              "          const docLinkHtml = 'Like what you see? Visit the ' +\n",
              "            '<a target=\"_blank\" href=https://colab.research.google.com/notebooks/data_table.ipynb>data table notebook</a>'\n",
              "            + ' to learn more about interactive tables.';\n",
              "          element.innerHTML = '';\n",
              "          dataTable['output_type'] = 'display_data';\n",
              "          await google.colab.output.renderOutput(dataTable, element);\n",
              "          const docLink = document.createElement('div');\n",
              "          docLink.innerHTML = docLinkHtml;\n",
              "          element.appendChild(docLink);\n",
              "        }\n",
              "      </script>\n",
              "    </div>\n",
              "  </div>\n",
              "  "
            ]
          },
          "metadata": {},
          "execution_count": 8
        }
      ]
    },
    {
      "cell_type": "code",
      "source": [
        "result_train=result_train.drop('Target', axis=1)"
      ],
      "metadata": {
        "id": "oWZbejzxOQXM"
      },
      "execution_count": 9,
      "outputs": []
    },
    {
      "cell_type": "code",
      "source": [
        "result_train['Utterance'] = result_train['Utterance'].str.lower()\n",
        "result_train=result_train.reset_index(drop=True)\n",
        "result_train"
      ],
      "metadata": {
        "colab": {
          "base_uri": "https://localhost:8080/",
          "height": 424
        },
        "id": "ccDb9EPqKPpK",
        "outputId": "8964b850-6c47-402d-c831-6525a99816ba"
      },
      "execution_count": 10,
      "outputs": [
        {
          "output_type": "execute_result",
          "data": {
            "text/plain": [
              "                                               Utterance  Target_num\n",
              "0                                i didnt feel humiliated           5\n",
              "1      i can go from feeling so hopeless to so damned...           5\n",
              "2       im grabbing a minute to post i feel greedy wrong           0\n",
              "3      i am ever feeling nostalgic about the fireplac...           3\n",
              "4                                   i am feeling grouchy           0\n",
              "...                                                  ...         ...\n",
              "29713  im having ssa examination tomorrow in the morn...           5\n",
              "29714  i constantly worry about their fight against n...           2\n",
              "29715  i feel its important to share this info for th...           2\n",
              "29716  i truly feel that if you are passionate enough...           2\n",
              "29717  i feel like i just wanna buy any cute make up ...           2\n",
              "\n",
              "[29718 rows x 2 columns]"
            ],
            "text/html": [
              "\n",
              "  <div id=\"df-904b1cd3-f06b-48a4-8eb1-e6f6faab4982\">\n",
              "    <div class=\"colab-df-container\">\n",
              "      <div>\n",
              "<style scoped>\n",
              "    .dataframe tbody tr th:only-of-type {\n",
              "        vertical-align: middle;\n",
              "    }\n",
              "\n",
              "    .dataframe tbody tr th {\n",
              "        vertical-align: top;\n",
              "    }\n",
              "\n",
              "    .dataframe thead th {\n",
              "        text-align: right;\n",
              "    }\n",
              "</style>\n",
              "<table border=\"1\" class=\"dataframe\">\n",
              "  <thead>\n",
              "    <tr style=\"text-align: right;\">\n",
              "      <th></th>\n",
              "      <th>Utterance</th>\n",
              "      <th>Target_num</th>\n",
              "    </tr>\n",
              "  </thead>\n",
              "  <tbody>\n",
              "    <tr>\n",
              "      <th>0</th>\n",
              "      <td>i didnt feel humiliated</td>\n",
              "      <td>5</td>\n",
              "    </tr>\n",
              "    <tr>\n",
              "      <th>1</th>\n",
              "      <td>i can go from feeling so hopeless to so damned...</td>\n",
              "      <td>5</td>\n",
              "    </tr>\n",
              "    <tr>\n",
              "      <th>2</th>\n",
              "      <td>im grabbing a minute to post i feel greedy wrong</td>\n",
              "      <td>0</td>\n",
              "    </tr>\n",
              "    <tr>\n",
              "      <th>3</th>\n",
              "      <td>i am ever feeling nostalgic about the fireplac...</td>\n",
              "      <td>3</td>\n",
              "    </tr>\n",
              "    <tr>\n",
              "      <th>4</th>\n",
              "      <td>i am feeling grouchy</td>\n",
              "      <td>0</td>\n",
              "    </tr>\n",
              "    <tr>\n",
              "      <th>...</th>\n",
              "      <td>...</td>\n",
              "      <td>...</td>\n",
              "    </tr>\n",
              "    <tr>\n",
              "      <th>29713</th>\n",
              "      <td>im having ssa examination tomorrow in the morn...</td>\n",
              "      <td>5</td>\n",
              "    </tr>\n",
              "    <tr>\n",
              "      <th>29714</th>\n",
              "      <td>i constantly worry about their fight against n...</td>\n",
              "      <td>2</td>\n",
              "    </tr>\n",
              "    <tr>\n",
              "      <th>29715</th>\n",
              "      <td>i feel its important to share this info for th...</td>\n",
              "      <td>2</td>\n",
              "    </tr>\n",
              "    <tr>\n",
              "      <th>29716</th>\n",
              "      <td>i truly feel that if you are passionate enough...</td>\n",
              "      <td>2</td>\n",
              "    </tr>\n",
              "    <tr>\n",
              "      <th>29717</th>\n",
              "      <td>i feel like i just wanna buy any cute make up ...</td>\n",
              "      <td>2</td>\n",
              "    </tr>\n",
              "  </tbody>\n",
              "</table>\n",
              "<p>29718 rows × 2 columns</p>\n",
              "</div>\n",
              "      <button class=\"colab-df-convert\" onclick=\"convertToInteractive('df-904b1cd3-f06b-48a4-8eb1-e6f6faab4982')\"\n",
              "              title=\"Convert this dataframe to an interactive table.\"\n",
              "              style=\"display:none;\">\n",
              "        \n",
              "  <svg xmlns=\"http://www.w3.org/2000/svg\" height=\"24px\"viewBox=\"0 0 24 24\"\n",
              "       width=\"24px\">\n",
              "    <path d=\"M0 0h24v24H0V0z\" fill=\"none\"/>\n",
              "    <path d=\"M18.56 5.44l.94 2.06.94-2.06 2.06-.94-2.06-.94-.94-2.06-.94 2.06-2.06.94zm-11 1L8.5 8.5l.94-2.06 2.06-.94-2.06-.94L8.5 2.5l-.94 2.06-2.06.94zm10 10l.94 2.06.94-2.06 2.06-.94-2.06-.94-.94-2.06-.94 2.06-2.06.94z\"/><path d=\"M17.41 7.96l-1.37-1.37c-.4-.4-.92-.59-1.43-.59-.52 0-1.04.2-1.43.59L10.3 9.45l-7.72 7.72c-.78.78-.78 2.05 0 2.83L4 21.41c.39.39.9.59 1.41.59.51 0 1.02-.2 1.41-.59l7.78-7.78 2.81-2.81c.8-.78.8-2.07 0-2.86zM5.41 20L4 18.59l7.72-7.72 1.47 1.35L5.41 20z\"/>\n",
              "  </svg>\n",
              "      </button>\n",
              "      \n",
              "  <style>\n",
              "    .colab-df-container {\n",
              "      display:flex;\n",
              "      flex-wrap:wrap;\n",
              "      gap: 12px;\n",
              "    }\n",
              "\n",
              "    .colab-df-convert {\n",
              "      background-color: #E8F0FE;\n",
              "      border: none;\n",
              "      border-radius: 50%;\n",
              "      cursor: pointer;\n",
              "      display: none;\n",
              "      fill: #1967D2;\n",
              "      height: 32px;\n",
              "      padding: 0 0 0 0;\n",
              "      width: 32px;\n",
              "    }\n",
              "\n",
              "    .colab-df-convert:hover {\n",
              "      background-color: #E2EBFA;\n",
              "      box-shadow: 0px 1px 2px rgba(60, 64, 67, 0.3), 0px 1px 3px 1px rgba(60, 64, 67, 0.15);\n",
              "      fill: #174EA6;\n",
              "    }\n",
              "\n",
              "    [theme=dark] .colab-df-convert {\n",
              "      background-color: #3B4455;\n",
              "      fill: #D2E3FC;\n",
              "    }\n",
              "\n",
              "    [theme=dark] .colab-df-convert:hover {\n",
              "      background-color: #434B5C;\n",
              "      box-shadow: 0px 1px 3px 1px rgba(0, 0, 0, 0.15);\n",
              "      filter: drop-shadow(0px 1px 2px rgba(0, 0, 0, 0.3));\n",
              "      fill: #FFFFFF;\n",
              "    }\n",
              "  </style>\n",
              "\n",
              "      <script>\n",
              "        const buttonEl =\n",
              "          document.querySelector('#df-904b1cd3-f06b-48a4-8eb1-e6f6faab4982 button.colab-df-convert');\n",
              "        buttonEl.style.display =\n",
              "          google.colab.kernel.accessAllowed ? 'block' : 'none';\n",
              "\n",
              "        async function convertToInteractive(key) {\n",
              "          const element = document.querySelector('#df-904b1cd3-f06b-48a4-8eb1-e6f6faab4982');\n",
              "          const dataTable =\n",
              "            await google.colab.kernel.invokeFunction('convertToInteractive',\n",
              "                                                     [key], {});\n",
              "          if (!dataTable) return;\n",
              "\n",
              "          const docLinkHtml = 'Like what you see? Visit the ' +\n",
              "            '<a target=\"_blank\" href=https://colab.research.google.com/notebooks/data_table.ipynb>data table notebook</a>'\n",
              "            + ' to learn more about interactive tables.';\n",
              "          element.innerHTML = '';\n",
              "          dataTable['output_type'] = 'display_data';\n",
              "          await google.colab.output.renderOutput(dataTable, element);\n",
              "          const docLink = document.createElement('div');\n",
              "          docLink.innerHTML = docLinkHtml;\n",
              "          element.appendChild(docLink);\n",
              "        }\n",
              "      </script>\n",
              "    </div>\n",
              "  </div>\n",
              "  "
            ]
          },
          "metadata": {},
          "execution_count": 10
        }
      ]
    },
    {
      "cell_type": "code",
      "source": [
        "train_inputs,validation_inputs,train_labels,validation_labels = train_test_split(result_train['Utterance'],result_train['Target_num'],stratify=result_train['Target_num'],random_state=41,test_size=0.2)"
      ],
      "metadata": {
        "id": "pj6uciNrKzfb"
      },
      "execution_count": 11,
      "outputs": []
    },
    {
      "cell_type": "code",
      "source": [
        "test_inputs,validation_inputs,test_labels,validation_labels = train_test_split(validation_inputs,validation_labels,stratify=validation_labels,random_state=41,test_size=0.5)"
      ],
      "metadata": {
        "id": "fN3XwMpFLsn5"
      },
      "execution_count": 12,
      "outputs": []
    },
    {
      "cell_type": "code",
      "source": [
        "train_data=pd.concat([train_inputs,train_labels],axis=1)\n",
        "train_data=train_data.reset_index(drop=True)\n",
        "train_data.head(3)"
      ],
      "metadata": {
        "colab": {
          "base_uri": "https://localhost:8080/",
          "height": 143
        },
        "id": "fX5jdxCELr2J",
        "outputId": "187ca4d8-9c76-4064-a42a-13e5baa458c4"
      },
      "execution_count": 13,
      "outputs": [
        {
          "output_type": "execute_result",
          "data": {
            "text/plain": [
              "                                           Utterance  Target_num\n",
              "0  i write and share my feelings family events us...           2\n",
              "1  uh-huh. now you can turn around or you can go ...           4\n",
              "2  i still find myself visiting there on my blah ...           5"
            ],
            "text/html": [
              "\n",
              "  <div id=\"df-2d04c013-a76a-40fd-8880-c6f3825613f0\">\n",
              "    <div class=\"colab-df-container\">\n",
              "      <div>\n",
              "<style scoped>\n",
              "    .dataframe tbody tr th:only-of-type {\n",
              "        vertical-align: middle;\n",
              "    }\n",
              "\n",
              "    .dataframe tbody tr th {\n",
              "        vertical-align: top;\n",
              "    }\n",
              "\n",
              "    .dataframe thead th {\n",
              "        text-align: right;\n",
              "    }\n",
              "</style>\n",
              "<table border=\"1\" class=\"dataframe\">\n",
              "  <thead>\n",
              "    <tr style=\"text-align: right;\">\n",
              "      <th></th>\n",
              "      <th>Utterance</th>\n",
              "      <th>Target_num</th>\n",
              "    </tr>\n",
              "  </thead>\n",
              "  <tbody>\n",
              "    <tr>\n",
              "      <th>0</th>\n",
              "      <td>i write and share my feelings family events us...</td>\n",
              "      <td>2</td>\n",
              "    </tr>\n",
              "    <tr>\n",
              "      <th>1</th>\n",
              "      <td>uh-huh. now you can turn around or you can go ...</td>\n",
              "      <td>4</td>\n",
              "    </tr>\n",
              "    <tr>\n",
              "      <th>2</th>\n",
              "      <td>i still find myself visiting there on my blah ...</td>\n",
              "      <td>5</td>\n",
              "    </tr>\n",
              "  </tbody>\n",
              "</table>\n",
              "</div>\n",
              "      <button class=\"colab-df-convert\" onclick=\"convertToInteractive('df-2d04c013-a76a-40fd-8880-c6f3825613f0')\"\n",
              "              title=\"Convert this dataframe to an interactive table.\"\n",
              "              style=\"display:none;\">\n",
              "        \n",
              "  <svg xmlns=\"http://www.w3.org/2000/svg\" height=\"24px\"viewBox=\"0 0 24 24\"\n",
              "       width=\"24px\">\n",
              "    <path d=\"M0 0h24v24H0V0z\" fill=\"none\"/>\n",
              "    <path d=\"M18.56 5.44l.94 2.06.94-2.06 2.06-.94-2.06-.94-.94-2.06-.94 2.06-2.06.94zm-11 1L8.5 8.5l.94-2.06 2.06-.94-2.06-.94L8.5 2.5l-.94 2.06-2.06.94zm10 10l.94 2.06.94-2.06 2.06-.94-2.06-.94-.94-2.06-.94 2.06-2.06.94z\"/><path d=\"M17.41 7.96l-1.37-1.37c-.4-.4-.92-.59-1.43-.59-.52 0-1.04.2-1.43.59L10.3 9.45l-7.72 7.72c-.78.78-.78 2.05 0 2.83L4 21.41c.39.39.9.59 1.41.59.51 0 1.02-.2 1.41-.59l7.78-7.78 2.81-2.81c.8-.78.8-2.07 0-2.86zM5.41 20L4 18.59l7.72-7.72 1.47 1.35L5.41 20z\"/>\n",
              "  </svg>\n",
              "      </button>\n",
              "      \n",
              "  <style>\n",
              "    .colab-df-container {\n",
              "      display:flex;\n",
              "      flex-wrap:wrap;\n",
              "      gap: 12px;\n",
              "    }\n",
              "\n",
              "    .colab-df-convert {\n",
              "      background-color: #E8F0FE;\n",
              "      border: none;\n",
              "      border-radius: 50%;\n",
              "      cursor: pointer;\n",
              "      display: none;\n",
              "      fill: #1967D2;\n",
              "      height: 32px;\n",
              "      padding: 0 0 0 0;\n",
              "      width: 32px;\n",
              "    }\n",
              "\n",
              "    .colab-df-convert:hover {\n",
              "      background-color: #E2EBFA;\n",
              "      box-shadow: 0px 1px 2px rgba(60, 64, 67, 0.3), 0px 1px 3px 1px rgba(60, 64, 67, 0.15);\n",
              "      fill: #174EA6;\n",
              "    }\n",
              "\n",
              "    [theme=dark] .colab-df-convert {\n",
              "      background-color: #3B4455;\n",
              "      fill: #D2E3FC;\n",
              "    }\n",
              "\n",
              "    [theme=dark] .colab-df-convert:hover {\n",
              "      background-color: #434B5C;\n",
              "      box-shadow: 0px 1px 3px 1px rgba(0, 0, 0, 0.15);\n",
              "      filter: drop-shadow(0px 1px 2px rgba(0, 0, 0, 0.3));\n",
              "      fill: #FFFFFF;\n",
              "    }\n",
              "  </style>\n",
              "\n",
              "      <script>\n",
              "        const buttonEl =\n",
              "          document.querySelector('#df-2d04c013-a76a-40fd-8880-c6f3825613f0 button.colab-df-convert');\n",
              "        buttonEl.style.display =\n",
              "          google.colab.kernel.accessAllowed ? 'block' : 'none';\n",
              "\n",
              "        async function convertToInteractive(key) {\n",
              "          const element = document.querySelector('#df-2d04c013-a76a-40fd-8880-c6f3825613f0');\n",
              "          const dataTable =\n",
              "            await google.colab.kernel.invokeFunction('convertToInteractive',\n",
              "                                                     [key], {});\n",
              "          if (!dataTable) return;\n",
              "\n",
              "          const docLinkHtml = 'Like what you see? Visit the ' +\n",
              "            '<a target=\"_blank\" href=https://colab.research.google.com/notebooks/data_table.ipynb>data table notebook</a>'\n",
              "            + ' to learn more about interactive tables.';\n",
              "          element.innerHTML = '';\n",
              "          dataTable['output_type'] = 'display_data';\n",
              "          await google.colab.output.renderOutput(dataTable, element);\n",
              "          const docLink = document.createElement('div');\n",
              "          docLink.innerHTML = docLinkHtml;\n",
              "          element.appendChild(docLink);\n",
              "        }\n",
              "      </script>\n",
              "    </div>\n",
              "  </div>\n",
              "  "
            ]
          },
          "metadata": {},
          "execution_count": 13
        }
      ]
    },
    {
      "cell_type": "code",
      "source": [
        "train_data['Target_num'].value_counts().plot(kind='bar')"
      ],
      "metadata": {
        "colab": {
          "base_uri": "https://localhost:8080/",
          "height": 280
        },
        "id": "y90PVMDUNLbV",
        "outputId": "51355ad9-741a-478c-8fd1-0c3562a9f75e"
      },
      "execution_count": 14,
      "outputs": [
        {
          "output_type": "execute_result",
          "data": {
            "text/plain": [
              "<matplotlib.axes._subplots.AxesSubplot at 0x7f0ac60af970>"
            ]
          },
          "metadata": {},
          "execution_count": 14
        },
        {
          "output_type": "display_data",
          "data": {
            "text/plain": [
              "<Figure size 432x288 with 1 Axes>"
            ],
            "image/png": "[encoded data removed]"
          },
          "metadata": {
            "needs_background": "light"
          }
        }
      ]
    },
    {
      "cell_type": "code",
      "source": [
        "test_data=pd.concat([test_inputs,test_labels],axis=1)\n",
        "test_data=test_data.reset_index(drop=True)\n",
        "test_data['Target_num'].value_counts().plot(kind='bar')"
      ],
      "metadata": {
        "colab": {
          "base_uri": "https://localhost:8080/",
          "height": 280
        },
        "id": "Z131gmnGMbxJ",
        "outputId": "92d42b35-c08a-4541-fb61-78ddd430c81e"
      },
      "execution_count": 15,
      "outputs": [
        {
          "output_type": "execute_result",
          "data": {
            "text/plain": [
              "<matplotlib.axes._subplots.AxesSubplot at 0x7f0ac57cb760>"
            ]
          },
          "metadata": {},
          "execution_count": 15
        },
        {
          "output_type": "display_data",
          "data": {
            "text/plain": [
              "<Figure size 432x288 with 1 Axes>"
            ],
            "image/png": "[encoded data removed]"
          },
          "metadata": {
            "needs_background": "light"
          }
        }
      ]
    },
    {
      "cell_type": "code",
      "source": [
        "val_data=pd.concat([validation_inputs,validation_labels],axis=1)\n",
        "val_data=val_data.reset_index(drop=True)\n",
        "val_data['Target_num'].value_counts().plot(kind='bar')"
      ],
      "metadata": {
        "colab": {
          "base_uri": "https://localhost:8080/",
          "height": 280
        },
        "id": "6gR4Xw_nMjsz",
        "outputId": "9be1a00e-7fee-4f85-e04b-f1da1791e81d"
      },
      "execution_count": 16,
      "outputs": [
        {
          "output_type": "execute_result",
          "data": {
            "text/plain": [
              "<matplotlib.axes._subplots.AxesSubplot at 0x7f0ac57c4fd0>"
            ]
          },
          "metadata": {},
          "execution_count": 16
        },
        {
          "output_type": "display_data",
          "data": {
            "text/plain": [
              "<Figure size 432x288 with 1 Axes>"
            ],
            "image/png": "[encoded data removed]"
          },
          "metadata": {
            "needs_background": "light"
          }
        }
      ]
    },
    {
      "cell_type": "code",
      "source": [
        "train_sentences = train_data.Utterance.values\n",
        "train_labels= train_data.Target_num.values\n",
        "\n",
        "test_sentences = test_data.Utterance.values\n",
        "test_labels= test_data.Target_num.values\n",
        "\n",
        "val_sentences = val_data.Utterance.values\n",
        "val_labels= val_data.Target_num.values\n",
        "\n",
        "MAX_LEN = 256\n",
        "\n",
        "tokenizer = BertTokenizer.from_pretrained('bert-base-uncased',do_lower_case=True)\n",
        "train_input_ids = [tokenizer.encode(sent, add_special_tokens=True,max_length=MAX_LEN,pad_to_max_length=True) for sent in train_sentences]\n",
        "train_labels = train_data.Target_num.values\n",
        "\n",
        "test_input_ids = [tokenizer.encode(sent, add_special_tokens=True,max_length=MAX_LEN,pad_to_max_length=True) for sent in test_sentences]\n",
        "test_labels = test_data.Target_num.values\n",
        "\n",
        "val_input_ids = [tokenizer.encode(sent, add_special_tokens=True,max_length=MAX_LEN,pad_to_max_length=True) for sent in val_sentences]\n",
        "val_labels = val_data.Target_num.values\n",
        "\n",
        "print(\"Actual sentence before tokenization: \",test_sentences[2])\n",
        "print(\"Encoded Input from dataset: \",test_labels[2])\n",
        "\n",
        "train_masks = []\n",
        "test_masks=[]\n",
        "val_masks=[]\n",
        "\n",
        "train_masks = [[float(i>0) for i in seq] for seq in train_input_ids]\n",
        "test_masks = [[float(i>0) for i in seq] for seq in test_input_ids]\n",
        "val_masks = [[float(i>0) for i in seq] for seq in val_input_ids]\n",
        "print(train_masks[2])"
      ],
      "metadata": {
        "id": "ZCpmJc1OO41o",
        "colab": {
          "base_uri": "https://localhost:8080/",
          "height": 387,
          "referenced_widgets": [
            "51f9af57834d42f499145b4422a15418",
            "6d4b11ab805c409dbade9f5f13df6ad6",
            "0a5c3fdce161492d8b04706f357f6f9a",
            "2270bad9f54d49e4a0437b7286d3a6f1",
            "c1780e47211d4b1781665970826f7c11",
            "9c65447aa8ea4696a426a1de98c32d28",
            "27d407d12e984b78bac3441f42a2c0a0",
            "48d85065a2b6437c8e5e51a7a0b7873b",
            "9cae20132e9940f6a634754268d841eb",
            "a48ce941e85f4b04a4af943201164e32",
            "50b4d1411dbb4485b501684e1e68054d",
            "c537d1b2f1174c7c94a8ca365f7cda09",
            "4d5d1e4e923544fe93b45eede1a6253c",
            "54ad4307da4f466281c1289cdbd924b3",
            "0809161988c041f4b7fc5e081e622733",
            "57c3c450ac2740b78fa84f10d567b22e",
            "229493335fba437985dfaf42dba56fc0",
            "ac8a0124f3854c36aabf05b8195fa354",
            "d63f48d020c348608fb5064a213c058b",
            "75e4440f198d4cffbac11267aec2a59d",
            "0a93147dc8004392b71cf0030ff26a4a",
            "3b21ca24fa3043af8f8935dfc039c1a8",
            "13f5b169dfb14d6ea2378999f07f3d59",
            "c4911dd024f84df1a8eb253a351ebb55",
            "d967c2c366474df7a49583e654f9d796",
            "10e1937ce7444aac8a2e9dbb205f0de5",
            "6106040ef00849569ad9962852ed0b50",
            "083225f8d30c4eb1bed0d7ad5658e62d",
            "fab58c0e95db4eb7b13a4e576e0bb59f",
            "0487da7a35d1445c89c675903ef362ad",
            "59bfb465423c4f6dbe3c7351878404ca",
            "f1e92d2f48e04bb2b48f5ce47faedf8a",
            "cb365ada1e804a38bea125a483b07592"
          ]
        },
        "outputId": "8a06949b-a043-48b5-d953-9b2d9ddb1629"
      },
      "execution_count": 17,
      "outputs": [
        {
          "output_type": "stream",
          "name": "stdout",
          "text": [
            "Distribution of data based on labels:  2    6803\n",
            "5    5184\n",
            "4    3768\n",
            "0    3054\n",
            "1    2113\n",
            "6    1539\n",
            "3    1313\n",
            "Name: Target_num, dtype: int64\n"
          ]
        },
        {
          "output_type": "display_data",
          "data": {
            "text/plain": [
              "Downloading:   0%|          | 0.00/232k [00:00<?, ?B/s]"
            ],
            "application/vnd.jupyter.widget-view+json": {
              "version_major": 2,
              "version_minor": 0,
              "model_id": "51f9af57834d42f499145b4422a15418"
            }
          },
          "metadata": {}
        },
        {
          "output_type": "display_data",
          "data": {
            "text/plain": [
              "Downloading:   0%|          | 0.00/28.0 [00:00<?, ?B/s]"
            ],
            "application/vnd.jupyter.widget-view+json": {
              "version_major": 2,
              "version_minor": 0,
              "model_id": "c537d1b2f1174c7c94a8ca365f7cda09"
            }
          },
          "metadata": {}
        },
        {
          "output_type": "display_data",
          "data": {
            "text/plain": [
              "Downloading:   0%|          | 0.00/570 [00:00<?, ?B/s]"
            ],
            "application/vnd.jupyter.widget-view+json": {
              "version_major": 2,
              "version_minor": 0,
              "model_id": "13f5b169dfb14d6ea2378999f07f3d59"
            }
          },
          "metadata": {}
        },
        {
          "output_type": "stream",
          "name": "stderr",
          "text": [
            "Truncation was not explicitly activated but `max_length` is provided a specific value, please use `truncation=True` to explicitly truncate examples to max length. Defaulting to 'longest_first' truncation strategy. If you encode pairs of sequences (GLUE-style) with the tokenizer you can select this strategy more precisely by providing a specific strategy to `truncation`.\n",
            "/usr/local/lib/python3.8/dist-packages/transformers/tokenization_utils_base.py:2336: FutureWarning: The `pad_to_max_length` argument is deprecated and will be removed in a future version, use `padding=True` or `padding='longest'` to pad to the longest sequence in the batch, or use `padding='max_length'` to pad to a max length. In this case, you can give a specific length with `max_length` (e.g. `max_length=45`) or leave max_length to None to pad to the maximal input size of the model (e.g. 512 for Bert).\n",
            "  warnings.warn(\n"
          ]
        },
        {
          "output_type": "stream",
          "name": "stdout",
          "text": [
            "Actual sentence before tokenization:  i have a feeling that the robin that builds her next under our deck is getting pissed too\n",
            "Encoded Input from dataset:  0\n",
            "[1.0, 1.0, 1.0, 1.0, 1.0, 1.0, 1.0, 1.0, 1.0, 1.0, 1.0, 1.0, 1.0, 1.0, 1.0, 1.0, 1.0, 1.0, 1.0, 1.0, 1.0, 1.0, 1.0, 1.0, 1.0, 1.0, 0.0, 0.0, 0.0, 0.0, 0.0, 0.0, 0.0, 0.0, 0.0, 0.0, 0.0, 0.0, 0.0, 0.0, 0.0, 0.0, 0.0, 0.0, 0.0, 0.0, 0.0, 0.0, 0.0, 0.0, 0.0, 0.0, 0.0, 0.0, 0.0, 0.0, 0.0, 0.0, 0.0, 0.0, 0.0, 0.0, 0.0, 0.0, 0.0, 0.0, 0.0, 0.0, 0.0, 0.0, 0.0, 0.0, 0.0, 0.0, 0.0, 0.0, 0.0, 0.0, 0.0, 0.0, 0.0, 0.0, 0.0, 0.0, 0.0, 0.0, 0.0, 0.0, 0.0, 0.0, 0.0, 0.0, 0.0, 0.0, 0.0, 0.0, 0.0, 0.0, 0.0, 0.0, 0.0, 0.0, 0.0, 0.0, 0.0, 0.0, 0.0, 0.0, 0.0, 0.0, 0.0, 0.0, 0.0, 0.0, 0.0, 0.0, 0.0, 0.0, 0.0, 0.0, 0.0, 0.0, 0.0, 0.0, 0.0, 0.0, 0.0, 0.0, 0.0, 0.0, 0.0, 0.0, 0.0, 0.0, 0.0, 0.0, 0.0, 0.0, 0.0, 0.0, 0.0, 0.0, 0.0, 0.0, 0.0, 0.0, 0.0, 0.0, 0.0, 0.0, 0.0, 0.0, 0.0, 0.0, 0.0, 0.0, 0.0, 0.0, 0.0, 0.0, 0.0, 0.0, 0.0, 0.0, 0.0, 0.0, 0.0, 0.0, 0.0, 0.0, 0.0, 0.0, 0.0, 0.0, 0.0, 0.0, 0.0, 0.0, 0.0, 0.0, 0.0, 0.0, 0.0, 0.0, 0.0, 0.0, 0.0, 0.0, 0.0, 0.0, 0.0, 0.0, 0.0, 0.0, 0.0, 0.0, 0.0, 0.0, 0.0, 0.0, 0.0, 0.0, 0.0, 0.0, 0.0, 0.0, 0.0, 0.0, 0.0, 0.0, 0.0, 0.0, 0.0, 0.0, 0.0, 0.0, 0.0, 0.0, 0.0, 0.0, 0.0, 0.0, 0.0, 0.0, 0.0, 0.0, 0.0, 0.0, 0.0, 0.0, 0.0, 0.0, 0.0, 0.0, 0.0, 0.0, 0.0, 0.0, 0.0, 0.0, 0.0, 0.0, 0.0, 0.0, 0.0, 0.0, 0.0, 0.0, 0.0, 0.0, 0.0, 0.0, 0.0, 0.0, 0.0, 0.0]\n"
          ]
        }
      ]
    },
    {
      "cell_type": "code",
      "source": [
        "train_inputs = torch.tensor(train_input_ids)\n",
        "validation_inputs = torch.tensor(val_input_ids)\n",
        "train_labels = torch.tensor(train_labels)\n",
        "validation_labels = torch.tensor(val_labels)\n",
        "train_masks = torch.tensor(train_masks)\n",
        "validation_masks = torch.tensor(val_masks)\n",
        "\n",
        "\n",
        "batch_size = 16\n",
        "\n",
        "train_data = TensorDataset(train_inputs,train_masks,train_labels)\n",
        "train_sampler = RandomSampler(train_data)\n",
        "train_dataloader = DataLoader(train_data,sampler=train_sampler,batch_size=batch_size)\n",
        "\n",
        "validation_data = TensorDataset(validation_inputs,validation_masks,validation_labels)\n",
        "validation_sampler = RandomSampler(validation_data)\n",
        "validation_dataloader = DataLoader(validation_data,sampler=validation_sampler,batch_size=batch_size)"
      ],
      "metadata": {
        "id": "2OTkr_rBRjvc"
      },
      "execution_count": null,
      "outputs": []
    },
    {
      "cell_type": "code",
      "source": [
        "train_data[0]"
      ],
      "metadata": {
        "id": "N5Y34i7fSkcJ"
      },
      "execution_count": null,
      "outputs": []
    },
    {
      "cell_type": "code",
      "source": [
        "model = BertForSequenceClassification.from_pretrained(\"bert-base-uncased\", num_labels=8).to(device) #bert모델 불러옴 uncased는 전부다 소문자\n",
        "\n",
        "lr = 1e-5\n",
        "adam_epsilon = 1e-8\n",
        "\n",
        "epochs = 3\n",
        "\n",
        "num_warmup_steps = 0\n",
        "num_training_steps = len(train_dataloader)*epochs\n",
        "\n",
        "optimizer = AdamW(model.parameters(), lr=lr,eps=adam_epsilon,correct_bias=False)  \n",
        "scheduler = get_linear_schedule_with_warmup(optimizer, num_warmup_steps=num_warmup_steps, num_training_steps=num_training_steps)  # PyTorch scheduler"
      ],
      "metadata": {
        "id": "jnRq2oMZRmdM",
        "colab": {
          "base_uri": "https://localhost:8080/"
        },
        "outputId": "47f4d153-ed3c-45a1-d6c5-e73c5e94b804"
      },
      "execution_count": null,
      "outputs": [
        {
          "output_type": "stream",
          "name": "stderr",
          "text": [
            "Some weights of the model checkpoint at bert-base-uncased were not used when initializing BertForSequenceClassification: ['cls.seq_relationship.bias', 'cls.predictions.transform.LayerNorm.weight', 'cls.predictions.transform.LayerNorm.bias', 'cls.predictions.decoder.weight', 'cls.predictions.transform.dense.weight', 'cls.predictions.bias', 'cls.seq_relationship.weight', 'cls.predictions.transform.dense.bias']\n",
            "- This IS expected if you are initializing BertForSequenceClassification from the checkpoint of a model trained on another task or with another architecture (e.g. initializing a BertForSequenceClassification model from a BertForPreTraining model).\n",
            "- This IS NOT expected if you are initializing BertForSequenceClassification from the checkpoint of a model that you expect to be exactly identical (initializing a BertForSequenceClassification model from a BertForSequenceClassification model).\n",
            "Some weights of BertForSequenceClassification were not initialized from the model checkpoint at bert-base-uncased and are newly initialized: ['classifier.bias', 'classifier.weight']\n",
            "You should probably TRAIN this model on a down-stream task to be able to use it for predictions and inference.\n",
            "/usr/local/lib/python3.8/dist-packages/transformers/optimization.py:306: FutureWarning: This implementation of AdamW is deprecated and will be removed in a future version. Use the PyTorch implementation torch.optim.AdamW instead, or set `no_deprecation_warning=True` to disable this warning\n",
            "  warnings.warn(\n"
          ]
        }
      ]
    },
    {
      "cell_type": "code",
      "source": [
        "train_loss_set = []\n",
        "learning_rate = []\n",
        "\n",
        "model.zero_grad()\n",
        "\n",
        "for _ in tnrange(1,epochs+1,desc='Epoch'):\n",
        "  print(\"<\" + \"=\"*22 + F\" Epoch {_} \"+ \"=\"*22 + \">\")\n",
        "\n",
        "  batch_loss = 0\n",
        "\n",
        "  for step, batch in enumerate(train_dataloader):\n",
        "\n",
        "    model.train()\n",
        "    \n",
        "    batch = tuple(t.to(device) for t in batch)\n",
        "    b_input_ids, b_input_mask, b_labels = batch\n",
        "\n",
        "    outputs = model(b_input_ids, token_type_ids=None, attention_mask=b_input_mask, labels=b_labels)\n",
        "    loss = outputs[0]\n",
        "    \n",
        "    loss.backward()\n",
        "    \n",
        "    torch.nn.utils.clip_grad_norm_(model.parameters(), 1.0)\n",
        "    \n",
        "    optimizer.step()\n",
        "    \n",
        "    scheduler.step()\n",
        "\n",
        "    optimizer.zero_grad()\n",
        "    \n",
        "    batch_loss += loss.item()\n",
        "\n",
        "  avg_train_loss = batch_loss / len(train_dataloader)\n",
        "\n",
        "  for param_group in optimizer.param_groups:\n",
        "    print(\"\\n\\tCurrent Learning rate: \",param_group['lr'])\n",
        "    learning_rate.append(param_group['lr'])\n",
        "    \n",
        "  train_loss_set.append(avg_train_loss)\n",
        "  print(F'\\n\\tAverage Training loss: {avg_train_loss}')\n",
        "    \n",
        "  # Validation\n",
        "\n",
        "  model.eval()\n",
        "\n",
        "  eval_accuracy,eval_mcc_accuracy,nb_eval_steps = 0, 0, 0\n",
        "\n",
        "  for batch in validation_dataloader:\n",
        "    batch = tuple(t.to(device) for t in batch)\n",
        "    b_input_ids, b_input_mask, b_labels = batch\n",
        "    with torch.no_grad():\n",
        "      logits = model(b_input_ids, token_type_ids=None, attention_mask=b_input_mask)\n",
        "    \n",
        "    logits = logits[0].to('cpu').numpy()\n",
        "    label_ids = b_labels.to('cpu').numpy()\n",
        "\n",
        "    pred_flat = np.argmax(logits, axis=1).flatten()\n",
        "    labels_flat = label_ids.flatten()\n",
        "    \n",
        "    df_metrics=pd.DataFrame({'Epoch':epochs,'Actual_class':labels_flat,'Predicted_class':pred_flat})\n",
        "    \n",
        "    tmp_eval_accuracy = accuracy_score(labels_flat,pred_flat)\n",
        "    tmp_eval_mcc_accuracy = matthews_corrcoef(labels_flat, pred_flat)\n",
        "    \n",
        "    eval_accuracy += tmp_eval_accuracy\n",
        "    eval_mcc_accuracy += tmp_eval_mcc_accuracy\n",
        "    nb_eval_steps += 1\n",
        "\n",
        "  print(F'\\n\\tValidation Accuracy: {eval_accuracy/nb_eval_steps}')\n",
        "  print(F'\\n\\tValidation MCC Accuracy: {eval_mcc_accuracy/nb_eval_steps}')"
      ],
      "metadata": {
        "id": "fyfa87G2RuNi",
        "colab": {
          "base_uri": "https://localhost:8080/",
          "height": 575,
          "referenced_widgets": [
            "7659d1e371ba420b9fca5b70c92a2a7d",
            "acccd4419dae445581a720eef3a46209",
            "4bbaf03d4f4d484685f88d70848f10b5",
            "20f680d7f08b4e2abbe3dab0b02ad7e5",
            "1859fc6ca93a4187b810b237d9d60ae3",
            "e87a9e5647fc47b09295db481dc17d32",
            "69c79bec61d045ea809223d83dc12574",
            "24e4cc56116647b88aa0bbc0136f9edf",
            "090fc3ffa52f4cc6ad1d221311d100d7",
            "1c200253b10f4d29b3a1362251e81218",
            "6835631a24704efba970da2613872741"
          ]
        },
        "outputId": "506d8811-48c0-4a1d-8bbc-ffba95dfab2e"
      },
      "execution_count": null,
      "outputs": [
        {
          "output_type": "stream",
          "name": "stderr",
          "text": [
            "<ipython-input-120-092e2ef2c53d>:8: TqdmDeprecationWarning: Please use `tqdm.notebook.trange` instead of `tqdm.tnrange`\n",
            "  for _ in tnrange(1,epochs+1,desc='Epoch'):\n"
          ]
        },
        {
          "output_type": "display_data",
          "data": {
            "text/plain": [
              "Epoch:   0%|          | 0/3 [00:00<?, ?it/s]"
            ],
            "application/vnd.jupyter.widget-view+json": {
              "version_major": 2,
              "version_minor": 0,
              "model_id": "7659d1e371ba420b9fca5b70c92a2a7d"
            }
          },
          "metadata": {}
        },
        {
          "output_type": "stream",
          "name": "stdout",
          "text": [
            "<====================== Epoch 1 ======================>\n",
            "\n",
            "\tCurrent Learning rate:  6.666666666666667e-06\n",
            "\n",
            "\tAverage Training loss: 0.6316713446182165\n",
            "\n",
            "\tValidation Accuracy: 0.8411738351254481\n",
            "\n",
            "\tValidation MCC Accuracy: 0.8057543944768474\n",
            "<====================== Epoch 2 ======================>\n",
            "\n",
            "\tCurrent Learning rate:  3.3333333333333333e-06\n",
            "\n",
            "\tAverage Training loss: 0.38014209937068605\n",
            "\n",
            "\tValidation Accuracy: 0.8511424731182796\n",
            "\n",
            "\tValidation MCC Accuracy: 0.8187905138703305\n",
            "<====================== Epoch 3 ======================>\n",
            "\n",
            "\tCurrent Learning rate:  0.0\n",
            "\n",
            "\tAverage Training loss: 0.31348144862058785\n",
            "\n",
            "\tValidation Accuracy: 0.8472222222222223\n",
            "\n",
            "\tValidation MCC Accuracy: 0.8134372382679094\n"
          ]
        }
      ]
    },
    {
      "cell_type": "markdown",
      "source": [
        "###클래스별로 정확도 같이 측정해보기(추가로할일)\n"
      ],
      "metadata": {
        "id": "ev4OUIeiUijI"
      }
    },
    {
      "cell_type": "code",
      "source": [
        "model.save_pretrained('/content/drive/MyDrive/feeling/bert_uncased_model3.pt')"
      ],
      "metadata": {
        "id": "qp8YeXwZWxJD"
      },
      "execution_count": null,
      "outputs": []
    },
    {
      "cell_type": "code",
      "source": [
        "tokenizer.save_pretrained(\"/content/drive/MyDrive/feeling/bert_uncased_token\")"
      ],
      "metadata": {
        "id": "vWwr9OUVxfCO",
        "colab": {
          "base_uri": "https://localhost:8080/"
        },
        "outputId": "48fc8245-4211-4223-d1fe-06807a62e589"
      },
      "execution_count": null,
      "outputs": [
        {
          "output_type": "execute_result",
          "data": {
            "text/plain": [
              "('/content/drive/MyDrive/feeling/bert_uncased_token/tokenizer_config.json',\n",
              " '/content/drive/MyDrive/feeling/bert_uncased_token/special_tokens_map.json',\n",
              " '/content/drive/MyDrive/feeling/bert_uncased_token/vocab.txt',\n",
              " '/content/drive/MyDrive/feeling/bert_uncased_token/added_tokens.json')"
            ]
          },
          "metadata": {},
          "execution_count": 86
        }
      ]
    },
    {
      "cell_type": "code",
      "source": [
        "from transformers import TextClassificationPipeline,BertTokenizerFast,BertForSequenceClassification\n",
        "device = torch.device('cpu')\n",
        "MODEL_SAVE_PATH=\"/content/drive/MyDrive/feeling/bert_uncased_model3.pt\"\n",
        "tokenizer = BertTokenizer.from_pretrained('bert-base-uncased',do_lower_case=True)\n",
        "loaded_model = BertForSequenceClassification.from_pretrained(MODEL_SAVE_PATH).to(device)\n",
        "\n",
        "text_classifier = TextClassificationPipeline(\n",
        "    tokenizer=tokenizer, \n",
        "    model=loaded_model, \n",
        "    framework='pt',\n",
        ")"
      ],
      "metadata": {
        "id": "jXoaJesdaphs"
      },
      "execution_count": 18,
      "outputs": []
    },
    {
      "cell_type": "code",
      "source": [
        "predicted_list = []\n",
        "\n",
        "for text in test_data['Utterance']:\n",
        "        # predict\n",
        "        preds_list = text_classifier(text)[0]\n",
        "        # print(\"preds_list\",preds_list)\n",
        "        predicted_list.append(preds_list) # label\n",
        "pred_list=[]\n",
        "score_list=[]\n",
        "for p in predicted_list:\n",
        "  pred_list.append(p[\"label\"].split(\"_\")[1])\n",
        "  score_list.append(p[\"score\"])"
      ],
      "metadata": {
        "id": "nU6Kz2-LaU5k"
      },
      "execution_count": 19,
      "outputs": []
    },
    {
      "cell_type": "code",
      "source": [
        "print(predicted_list)"
      ],
      "metadata": {
        "colab": {
          "base_uri": "https://localhost:8080/"
        },
        "id": "BnXWgpZEfM9U",
        "outputId": "99918992-eeef-4193-87d7-81fb99173e89"
      },
      "execution_count": null,
      "outputs": [
        {
          "output_type": "stream",
          "name": "stdout",
          "text": [
            "[[{'label': 'LABEL_3', 'score': 0.997326135635376}], [{'label': 'LABEL_3', 'score': 0.997500479221344}], [{'label': 'LABEL_3', 'score': 0.9944347739219666}], [{'label': 'LABEL_6', 'score': 0.9968264102935791}], [{'label': 'LABEL_0', 'score': 0.5077506303787231}], [{'label': 'LABEL_6', 'score': 0.9968512654304504}], [{'label': 'LABEL_7', 'score': 0.5284783840179443}], [{'label': 'LABEL_4', 'score': 0.9880712032318115}], [{'label': 'LABEL_3', 'score': 0.480198472738266}], [{'label': 'LABEL_5', 'score': 0.251819908618927}], [{'label': 'LABEL_3', 'score': 0.9965915679931641}], [{'label': 'LABEL_7', 'score': 0.5314796566963196}], [{'label': 'LABEL_3', 'score': 0.9966723918914795}], [{'label': 'LABEL_5', 'score': 0.9517526626586914}], [{'label': 'LABEL_5', 'score': 0.9608524441719055}], [{'label': 'LABEL_5', 'score': 0.961816668510437}], [{'label': 'LABEL_3', 'score': 0.9972533583641052}], [{'label': 'LABEL_5', 'score': 0.8492568135261536}], [{'label': 'LABEL_7', 'score': 0.8089637756347656}], [{'label': 'LABEL_6', 'score': 0.49941137433052063}], [{'label': 'LABEL_0', 'score': 0.9950023293495178}], [{'label': 'LABEL_3', 'score': 0.9923460483551025}], [{'label': 'LABEL_0', 'score': 0.9944551587104797}], [{'label': 'LABEL_3', 'score': 0.9969018697738647}], [{'label': 'LABEL_3', 'score': 0.9970014691352844}], [{'label': 'LABEL_5', 'score': 0.9484534859657288}], [{'label': 'LABEL_3', 'score': 0.9973719120025635}], [{'label': 'LABEL_3', 'score': 0.9973089694976807}], [{'label': 'LABEL_3', 'score': 0.9847597479820251}], [{'label': 'LABEL_3', 'score': 0.9804373383522034}], [{'label': 'LABEL_2', 'score': 0.9937746524810791}], [{'label': 'LABEL_3', 'score': 0.9977726340293884}], [{'label': 'LABEL_7', 'score': 0.880129337310791}], [{'label': 'LABEL_0', 'score': 0.9948045611381531}], [{'label': 'LABEL_3', 'score': 0.9974484443664551}], [{'label': 'LABEL_5', 'score': 0.9260804653167725}], [{'label': 'LABEL_0', 'score': 0.994090735912323}], [{'label': 'LABEL_6', 'score': 0.9967589974403381}], [{'label': 'LABEL_5', 'score': 0.9580799341201782}], [{'label': 'LABEL_0', 'score': 0.6663413643836975}], [{'label': 'LABEL_5', 'score': 0.3770007789134979}], [{'label': 'LABEL_6', 'score': 0.9968370199203491}], [{'label': 'LABEL_6', 'score': 0.9968184232711792}], [{'label': 'LABEL_7', 'score': 0.6422457695007324}], [{'label': 'LABEL_0', 'score': 0.9935021996498108}], [{'label': 'LABEL_0', 'score': 0.9943845272064209}], [{'label': 'LABEL_3', 'score': 0.9975716471672058}], [{'label': 'LABEL_5', 'score': 0.7813507318496704}], [{'label': 'LABEL_5', 'score': 0.9567068219184875}], [{'label': 'LABEL_6', 'score': 0.9969419836997986}], [{'label': 'LABEL_6', 'score': 0.9957813024520874}], [{'label': 'LABEL_3', 'score': 0.9975771307945251}], [{'label': 'LABEL_5', 'score': 0.939498782157898}], [{'label': 'LABEL_0', 'score': 0.9950017333030701}], [{'label': 'LABEL_6', 'score': 0.9965713024139404}], [{'label': 'LABEL_3', 'score': 0.9974013566970825}], [{'label': 'LABEL_3', 'score': 0.9975742697715759}], [{'label': 'LABEL_3', 'score': 0.9973010420799255}], [{'label': 'LABEL_3', 'score': 0.9974021911621094}], [{'label': 'LABEL_3', 'score': 0.6971307396888733}], [{'label': 'LABEL_3', 'score': 0.7225419282913208}], [{'label': 'LABEL_7', 'score': 0.9775688052177429}], [{'label': 'LABEL_3', 'score': 0.6956301331520081}], [{'label': 'LABEL_3', 'score': 0.5078761577606201}], [{'label': 'LABEL_6', 'score': 0.9965443015098572}], [{'label': 'LABEL_6', 'score': 0.9969034790992737}], [{'label': 'LABEL_2', 'score': 0.994414210319519}], [{'label': 'LABEL_6', 'score': 0.9964764714241028}], [{'label': 'LABEL_4', 'score': 0.9894939064979553}], [{'label': 'LABEL_6', 'score': 0.9967246651649475}], [{'label': 'LABEL_5', 'score': 0.8860297203063965}], [{'label': 'LABEL_5', 'score': 0.9487647414207458}], [{'label': 'LABEL_3', 'score': 0.9576801657676697}], [{'label': 'LABEL_3', 'score': 0.9970358610153198}], [{'label': 'LABEL_7', 'score': 0.6246798634529114}], [{'label': 'LABEL_3', 'score': 0.995433509349823}], [{'label': 'LABEL_3', 'score': 0.9974507689476013}], [{'label': 'LABEL_3', 'score': 0.9961536526679993}], [{'label': 'LABEL_3', 'score': 0.9954356551170349}], [{'label': 'LABEL_0', 'score': 0.9941078424453735}], [{'label': 'LABEL_4', 'score': 0.5147427916526794}], [{'label': 'LABEL_5', 'score': 0.7201017737388611}], [{'label': 'LABEL_3', 'score': 0.9733189940452576}], [{'label': 'LABEL_6', 'score': 0.9970479607582092}], [{'label': 'LABEL_0', 'score': 0.9184760451316833}], [{'label': 'LABEL_4', 'score': 0.9802505970001221}], [{'label': 'LABEL_5', 'score': 0.4026472568511963}], [{'label': 'LABEL_2', 'score': 0.6141000390052795}], [{'label': 'LABEL_0', 'score': 0.5477607846260071}], [{'label': 'LABEL_7', 'score': 0.971452534198761}], [{'label': 'LABEL_5', 'score': 0.7785955667495728}], [{'label': 'LABEL_4', 'score': 0.9859398603439331}], [{'label': 'LABEL_5', 'score': 0.958444356918335}], [{'label': 'LABEL_6', 'score': 0.9964356422424316}], [{'label': 'LABEL_3', 'score': 0.9940920472145081}], [{'label': 'LABEL_6', 'score': 0.9968007802963257}], [{'label': 'LABEL_3', 'score': 0.9960387945175171}], [{'label': 'LABEL_5', 'score': 0.8741285800933838}], [{'label': 'LABEL_3', 'score': 0.7971100211143494}], [{'label': 'LABEL_6', 'score': 0.995928943157196}], [{'label': 'LABEL_3', 'score': 0.9974950551986694}], [{'label': 'LABEL_6', 'score': 0.996502161026001}], [{'label': 'LABEL_0', 'score': 0.99216628074646}], [{'label': 'LABEL_5', 'score': 0.5279350280761719}], [{'label': 'LABEL_5', 'score': 0.3187336027622223}], [{'label': 'LABEL_6', 'score': 0.9968127608299255}], [{'label': 'LABEL_0', 'score': 0.8589062094688416}], [{'label': 'LABEL_3', 'score': 0.9965031147003174}], [{'label': 'LABEL_0', 'score': 0.7495068907737732}], [{'label': 'LABEL_4', 'score': 0.988280177116394}], [{'label': 'LABEL_5', 'score': 0.9600679278373718}], [{'label': 'LABEL_0', 'score': 0.5182952284812927}], [{'label': 'LABEL_6', 'score': 0.9968311190605164}], [{'label': 'LABEL_3', 'score': 0.9789972901344299}], [{'label': 'LABEL_6', 'score': 0.9966149926185608}], [{'label': 'LABEL_5', 'score': 0.8386138081550598}], [{'label': 'LABEL_3', 'score': 0.9966822266578674}], [{'label': 'LABEL_7', 'score': 0.9772124886512756}], [{'label': 'LABEL_2', 'score': 0.9954711198806763}], [{'label': 'LABEL_3', 'score': 0.9975001215934753}], [{'label': 'LABEL_3', 'score': 0.9973195195198059}], [{'label': 'LABEL_5', 'score': 0.8991842865943909}], [{'label': 'LABEL_3', 'score': 0.9873802661895752}], [{'label': 'LABEL_7', 'score': 0.8126243948936462}], [{'label': 'LABEL_0', 'score': 0.9940329194068909}], [{'label': 'LABEL_5', 'score': 0.9712402820587158}], [{'label': 'LABEL_2', 'score': 0.7162803411483765}], [{'label': 'LABEL_3', 'score': 0.9975531697273254}], [{'label': 'LABEL_6', 'score': 0.9963023662567139}], [{'label': 'LABEL_3', 'score': 0.9973118305206299}], [{'label': 'LABEL_2', 'score': 0.9945662021636963}], [{'label': 'LABEL_6', 'score': 0.9957818984985352}], [{'label': 'LABEL_5', 'score': 0.9168928861618042}], [{'label': 'LABEL_0', 'score': 0.99432772397995}], [{'label': 'LABEL_3', 'score': 0.456514447927475}], [{'label': 'LABEL_3', 'score': 0.9971885085105896}], [{'label': 'LABEL_2', 'score': 0.9931801557540894}], [{'label': 'LABEL_5', 'score': 0.7871523499488831}], [{'label': 'LABEL_3', 'score': 0.9977701902389526}], [{'label': 'LABEL_3', 'score': 0.9969384670257568}], [{'label': 'LABEL_0', 'score': 0.6899166107177734}], [{'label': 'LABEL_6', 'score': 0.9969995021820068}], [{'label': 'LABEL_0', 'score': 0.9948211908340454}], [{'label': 'LABEL_5', 'score': 0.9168928861618042}], [{'label': 'LABEL_2', 'score': 0.670950174331665}], [{'label': 'LABEL_3', 'score': 0.9968774318695068}], [{'label': 'LABEL_0', 'score': 0.4989930987358093}], [{'label': 'LABEL_3', 'score': 0.9976069927215576}], [{'label': 'LABEL_0', 'score': 0.5773594379425049}], [{'label': 'LABEL_6', 'score': 0.995905876159668}], [{'label': 'LABEL_5', 'score': 0.7838889956474304}], [{'label': 'LABEL_6', 'score': 0.9966692328453064}], [{'label': 'LABEL_0', 'score': 0.44977548718452454}], [{'label': 'LABEL_6', 'score': 0.9965614676475525}], [{'label': 'LABEL_6', 'score': 0.5096384286880493}], [{'label': 'LABEL_7', 'score': 0.5565265417098999}], [{'label': 'LABEL_3', 'score': 0.9974294304847717}], [{'label': 'LABEL_6', 'score': 0.9964409470558167}], [{'label': 'LABEL_7', 'score': 0.5200016498565674}], [{'label': 'LABEL_2', 'score': 0.9930639863014221}], [{'label': 'LABEL_6', 'score': 0.9967566132545471}], [{'label': 'LABEL_5', 'score': 0.7692223191261292}], [{'label': 'LABEL_0', 'score': 0.736693263053894}], [{'label': 'LABEL_6', 'score': 0.9968306422233582}], [{'label': 'LABEL_0', 'score': 0.9949040412902832}], [{'label': 'LABEL_6', 'score': 0.9963065385818481}], [{'label': 'LABEL_0', 'score': 0.9941603541374207}], [{'label': 'LABEL_2', 'score': 0.9943915009498596}], [{'label': 'LABEL_0', 'score': 0.9946346282958984}], [{'label': 'LABEL_3', 'score': 0.7896847128868103}], [{'label': 'LABEL_4', 'score': 0.9875245094299316}], [{'label': 'LABEL_7', 'score': 0.9771795868873596}], [{'label': 'LABEL_3', 'score': 0.5566226840019226}], [{'label': 'LABEL_7', 'score': 0.4786060154438019}], [{'label': 'LABEL_5', 'score': 0.910622775554657}], [{'label': 'LABEL_6', 'score': 0.45552629232406616}], [{'label': 'LABEL_0', 'score': 0.9949110150337219}], [{'label': 'LABEL_5', 'score': 0.8646852970123291}], [{'label': 'LABEL_2', 'score': 0.692069947719574}], [{'label': 'LABEL_6', 'score': 0.9967036843299866}], [{'label': 'LABEL_4', 'score': 0.9887223243713379}], [{'label': 'LABEL_0', 'score': 0.8200516104698181}], [{'label': 'LABEL_3', 'score': 0.997171938419342}], [{'label': 'LABEL_5', 'score': 0.9233303666114807}], [{'label': 'LABEL_4', 'score': 0.9847615957260132}], [{'label': 'LABEL_0', 'score': 0.9691866636276245}], [{'label': 'LABEL_6', 'score': 0.845265805721283}], [{'label': 'LABEL_5', 'score': 0.8815582990646362}], [{'label': 'LABEL_6', 'score': 0.9961926937103271}], [{'label': 'LABEL_3', 'score': 0.9975306391716003}], [{'label': 'LABEL_6', 'score': 0.9969043135643005}], [{'label': 'LABEL_5', 'score': 0.46594908833503723}], [{'label': 'LABEL_5', 'score': 0.706558883190155}], [{'label': 'LABEL_0', 'score': 0.7490671277046204}], [{'label': 'LABEL_6', 'score': 0.9965798258781433}], [{'label': 'LABEL_5', 'score': 0.9639558792114258}], [{'label': 'LABEL_6', 'score': 0.9965872764587402}], [{'label': 'LABEL_0', 'score': 0.9947182536125183}], [{'label': 'LABEL_6', 'score': 0.9960575103759766}], [{'label': 'LABEL_3', 'score': 0.5794293284416199}], [{'label': 'LABEL_3', 'score': 0.9964858293533325}], [{'label': 'LABEL_3', 'score': 0.9973727464675903}], [{'label': 'LABEL_6', 'score': 0.9928312301635742}], [{'label': 'LABEL_6', 'score': 0.996746301651001}], [{'label': 'LABEL_3', 'score': 0.9958298802375793}], [{'label': 'LABEL_6', 'score': 0.9930481314659119}], [{'label': 'LABEL_2', 'score': 0.9951314926147461}], [{'label': 'LABEL_5', 'score': 0.5868048667907715}], [{'label': 'LABEL_7', 'score': 0.5593295693397522}], [{'label': 'LABEL_6', 'score': 0.996839165687561}], [{'label': 'LABEL_2', 'score': 0.6610105633735657}], [{'label': 'LABEL_6', 'score': 0.996575653553009}], [{'label': 'LABEL_3', 'score': 0.9971221089363098}], [{'label': 'LABEL_5', 'score': 0.9051797986030579}], [{'label': 'LABEL_3', 'score': 0.9968072175979614}], [{'label': 'LABEL_3', 'score': 0.9968277812004089}], [{'label': 'LABEL_0', 'score': 0.5967226624488831}], [{'label': 'LABEL_3', 'score': 0.9974349141120911}], [{'label': 'LABEL_3', 'score': 0.9972409009933472}], [{'label': 'LABEL_3', 'score': 0.9976876974105835}], [{'label': 'LABEL_6', 'score': 0.9966912269592285}], [{'label': 'LABEL_6', 'score': 0.996324360370636}], [{'label': 'LABEL_3', 'score': 0.9967700242996216}], [{'label': 'LABEL_6', 'score': 0.9968420267105103}], [{'label': 'LABEL_6', 'score': 0.9965044260025024}], [{'label': 'LABEL_3', 'score': 0.9976893663406372}], [{'label': 'LABEL_5', 'score': 0.9250162839889526}], [{'label': 'LABEL_4', 'score': 0.9823081493377686}], [{'label': 'LABEL_4', 'score': 0.90101557970047}], [{'label': 'LABEL_3', 'score': 0.9968920350074768}], [{'label': 'LABEL_3', 'score': 0.9974735379219055}], [{'label': 'LABEL_6', 'score': 0.9967494010925293}], [{'label': 'LABEL_7', 'score': 0.49724897742271423}], [{'label': 'LABEL_6', 'score': 0.9963212013244629}], [{'label': 'LABEL_6', 'score': 0.9968600273132324}], [{'label': 'LABEL_6', 'score': 0.9960278272628784}], [{'label': 'LABEL_2', 'score': 0.8863463401794434}], [{'label': 'LABEL_6', 'score': 0.9969032406806946}], [{'label': 'LABEL_2', 'score': 0.994696855545044}], [{'label': 'LABEL_3', 'score': 0.9972001314163208}], [{'label': 'LABEL_6', 'score': 0.9966726303100586}], [{'label': 'LABEL_2', 'score': 0.9938773512840271}], [{'label': 'LABEL_3', 'score': 0.9972634315490723}], [{'label': 'LABEL_3', 'score': 0.9910616278648376}], [{'label': 'LABEL_5', 'score': 0.960459291934967}], [{'label': 'LABEL_5', 'score': 0.8544278144836426}], [{'label': 'LABEL_7', 'score': 0.8124837875366211}], [{'label': 'LABEL_3', 'score': 0.9942970871925354}], [{'label': 'LABEL_5', 'score': 0.8353840112686157}], [{'label': 'LABEL_6', 'score': 0.9965303540229797}], [{'label': 'LABEL_0', 'score': 0.45716992020606995}], [{'label': 'LABEL_2', 'score': 0.4868408739566803}], [{'label': 'LABEL_3', 'score': 0.9964582324028015}], [{'label': 'LABEL_5', 'score': 0.9088759422302246}], [{'label': 'LABEL_5', 'score': 0.8757045865058899}], [{'label': 'LABEL_6', 'score': 0.9964852333068848}], [{'label': 'LABEL_3', 'score': 0.9975419044494629}], [{'label': 'LABEL_6', 'score': 0.8880844116210938}], [{'label': 'LABEL_3', 'score': 0.6695733666419983}], [{'label': 'LABEL_2', 'score': 0.9944952130317688}], [{'label': 'LABEL_0', 'score': 0.9945421814918518}], [{'label': 'LABEL_3', 'score': 0.7568532228469849}], [{'label': 'LABEL_5', 'score': 0.44471475481987}], [{'label': 'LABEL_5', 'score': 0.8254666328430176}], [{'label': 'LABEL_0', 'score': 0.9939579963684082}], [{'label': 'LABEL_6', 'score': 0.99674391746521}], [{'label': 'LABEL_0', 'score': 0.99367356300354}], [{'label': 'LABEL_5', 'score': 0.4067560136318207}], [{'label': 'LABEL_3', 'score': 0.9973266124725342}], [{'label': 'LABEL_3', 'score': 0.9974910020828247}], [{'label': 'LABEL_7', 'score': 0.550135612487793}], [{'label': 'LABEL_3', 'score': 0.9952127933502197}], [{'label': 'LABEL_2', 'score': 0.9941523671150208}], [{'label': 'LABEL_4', 'score': 0.9903383851051331}], [{'label': 'LABEL_6', 'score': 0.9962998032569885}], [{'label': 'LABEL_3', 'score': 0.9778295159339905}], [{'label': 'LABEL_6', 'score': 0.996580183506012}], [{'label': 'LABEL_0', 'score': 0.9949129819869995}], [{'label': 'LABEL_6', 'score': 0.994469404220581}], [{'label': 'LABEL_3', 'score': 0.9976352453231812}], [{'label': 'LABEL_3', 'score': 0.9971621632575989}], [{'label': 'LABEL_4', 'score': 0.8680180311203003}], [{'label': 'LABEL_2', 'score': 0.99440598487854}], [{'label': 'LABEL_2', 'score': 0.5292298793792725}], [{'label': 'LABEL_0', 'score': 0.9601647257804871}], [{'label': 'LABEL_5', 'score': 0.9580696821212769}], [{'label': 'LABEL_7', 'score': 0.5352832674980164}], [{'label': 'LABEL_3', 'score': 0.7231679558753967}], [{'label': 'LABEL_6', 'score': 0.9965925812721252}], [{'label': 'LABEL_6', 'score': 0.9962573051452637}], [{'label': 'LABEL_2', 'score': 0.5736184120178223}], [{'label': 'LABEL_5', 'score': 0.9226741194725037}], [{'label': 'LABEL_3', 'score': 0.9960380792617798}], [{'label': 'LABEL_7', 'score': 0.6949321627616882}], [{'label': 'LABEL_3', 'score': 0.9976510405540466}], [{'label': 'LABEL_6', 'score': 0.9964176416397095}], [{'label': 'LABEL_0', 'score': 0.3796536326408386}], [{'label': 'LABEL_3', 'score': 0.9967017769813538}], [{'label': 'LABEL_6', 'score': 0.9962502121925354}], [{'label': 'LABEL_6', 'score': 0.9967933297157288}], [{'label': 'LABEL_6', 'score': 0.9969620108604431}], [{'label': 'LABEL_7', 'score': 0.981423556804657}], [{'label': 'LABEL_3', 'score': 0.996815025806427}], [{'label': 'LABEL_3', 'score': 0.9951802492141724}], [{'label': 'LABEL_0', 'score': 0.9939677715301514}], [{'label': 'LABEL_6', 'score': 0.9962730407714844}], [{'label': 'LABEL_3', 'score': 0.9263836741447449}], [{'label': 'LABEL_3', 'score': 0.931276261806488}], [{'label': 'LABEL_7', 'score': 0.7824172973632812}], [{'label': 'LABEL_0', 'score': 0.5877994894981384}], [{'label': 'LABEL_2', 'score': 0.8780699372291565}], [{'label': 'LABEL_0', 'score': 0.640032172203064}], [{'label': 'LABEL_5', 'score': 0.8572900295257568}], [{'label': 'LABEL_6', 'score': 0.4109475314617157}], [{'label': 'LABEL_3', 'score': 0.9965740442276001}], [{'label': 'LABEL_3', 'score': 0.997562050819397}], [{'label': 'LABEL_3', 'score': 0.997498095035553}], [{'label': 'LABEL_7', 'score': 0.9808829426765442}], [{'label': 'LABEL_5', 'score': 0.9574954509735107}], [{'label': 'LABEL_6', 'score': 0.9968363046646118}], [{'label': 'LABEL_3', 'score': 0.997688889503479}], [{'label': 'LABEL_5', 'score': 0.7332545518875122}], [{'label': 'LABEL_6', 'score': 0.9966275095939636}], [{'label': 'LABEL_2', 'score': 0.9949374198913574}], [{'label': 'LABEL_4', 'score': 0.9869799613952637}], [{'label': 'LABEL_0', 'score': 0.5151291489601135}], [{'label': 'LABEL_5', 'score': 0.9391418099403381}], [{'label': 'LABEL_0', 'score': 0.9947556257247925}], [{'label': 'LABEL_5', 'score': 0.5642101764678955}], [{'label': 'LABEL_3', 'score': 0.9735772013664246}], [{'label': 'LABEL_4', 'score': 0.6438166499137878}], [{'label': 'LABEL_5', 'score': 0.9556131362915039}], [{'label': 'LABEL_7', 'score': 0.7554560899734497}], [{'label': 'LABEL_7', 'score': 0.9825265407562256}], [{'label': 'LABEL_5', 'score': 0.8175374865531921}], [{'label': 'LABEL_6', 'score': 0.9963376522064209}], [{'label': 'LABEL_3', 'score': 0.6173805594444275}], [{'label': 'LABEL_0', 'score': 0.9934424161911011}], [{'label': 'LABEL_6', 'score': 0.9964219331741333}], [{'label': 'LABEL_2', 'score': 0.9942469596862793}], [{'label': 'LABEL_5', 'score': 0.9133680462837219}], [{'label': 'LABEL_2', 'score': 0.9954879879951477}], [{'label': 'LABEL_7', 'score': 0.8344056010246277}], [{'label': 'LABEL_2', 'score': 0.9515887498855591}], [{'label': 'LABEL_6', 'score': 0.9964045286178589}], [{'label': 'LABEL_0', 'score': 0.9927350282669067}], [{'label': 'LABEL_5', 'score': 0.9638618230819702}], [{'label': 'LABEL_6', 'score': 0.9947094917297363}], [{'label': 'LABEL_5', 'score': 0.6899420619010925}], [{'label': 'LABEL_7', 'score': 0.9190220236778259}], [{'label': 'LABEL_3', 'score': 0.9974478483200073}], [{'label': 'LABEL_6', 'score': 0.995566189289093}], [{'label': 'LABEL_3', 'score': 0.9974408149719238}], [{'label': 'LABEL_4', 'score': 0.6731904149055481}], [{'label': 'LABEL_3', 'score': 0.9975320100784302}], [{'label': 'LABEL_6', 'score': 0.9966656565666199}], [{'label': 'LABEL_2', 'score': 0.6391540765762329}], [{'label': 'LABEL_5', 'score': 0.9491959810256958}], [{'label': 'LABEL_3', 'score': 0.9416829943656921}], [{'label': 'LABEL_5', 'score': 0.7841413617134094}], [{'label': 'LABEL_6', 'score': 0.6916223168373108}], [{'label': 'LABEL_6', 'score': 0.40054813027381897}], [{'label': 'LABEL_0', 'score': 0.9950196743011475}], [{'label': 'LABEL_7', 'score': 0.7824172973632812}], [{'label': 'LABEL_0', 'score': 0.6467337608337402}], [{'label': 'LABEL_6', 'score': 0.9965192079544067}], [{'label': 'LABEL_0', 'score': 0.9946489930152893}], [{'label': 'LABEL_5', 'score': 0.929270327091217}], [{'label': 'LABEL_7', 'score': 0.9766852259635925}], [{'label': 'LABEL_6', 'score': 0.9961193799972534}], [{'label': 'LABEL_3', 'score': 0.9975042939186096}], [{'label': 'LABEL_3', 'score': 0.9976924657821655}], [{'label': 'LABEL_6', 'score': 0.995574951171875}], [{'label': 'LABEL_2', 'score': 0.9950182437896729}], [{'label': 'LABEL_2', 'score': 0.9952208399772644}], [{'label': 'LABEL_6', 'score': 0.9949310421943665}], [{'label': 'LABEL_6', 'score': 0.9968356490135193}], [{'label': 'LABEL_5', 'score': 0.47568613290786743}], [{'label': 'LABEL_3', 'score': 0.9950200319290161}], [{'label': 'LABEL_0', 'score': 0.9939423203468323}], [{'label': 'LABEL_3', 'score': 0.9977278113365173}], [{'label': 'LABEL_0', 'score': 0.9926815629005432}], [{'label': 'LABEL_0', 'score': 0.9946192502975464}], [{'label': 'LABEL_4', 'score': 0.7431788444519043}], [{'label': 'LABEL_3', 'score': 0.9973260164260864}], [{'label': 'LABEL_0', 'score': 0.9927965998649597}], [{'label': 'LABEL_6', 'score': 0.9969634413719177}], [{'label': 'LABEL_0', 'score': 0.9948698282241821}], [{'label': 'LABEL_3', 'score': 0.5402988195419312}], [{'label': 'LABEL_3', 'score': 0.9970985651016235}], [{'label': 'LABEL_5', 'score': 0.9082981944084167}], [{'label': 'LABEL_0', 'score': 0.6375871896743774}], [{'label': 'LABEL_5', 'score': 0.7668313384056091}], [{'label': 'LABEL_7', 'score': 0.7782666087150574}], [{'label': 'LABEL_3', 'score': 0.9972867965698242}], [{'label': 'LABEL_7', 'score': 0.5552809238433838}], [{'label': 'LABEL_6', 'score': 0.997027575969696}], [{'label': 'LABEL_6', 'score': 0.9966114163398743}], [{'label': 'LABEL_6', 'score': 0.9957959651947021}], [{'label': 'LABEL_7', 'score': 0.6001507639884949}], [{'label': 'LABEL_3', 'score': 0.9975812435150146}], [{'label': 'LABEL_3', 'score': 0.9971959590911865}], [{'label': 'LABEL_3', 'score': 0.9969465136528015}], [{'label': 'LABEL_3', 'score': 0.9966621398925781}], [{'label': 'LABEL_5', 'score': 0.4246206283569336}], [{'label': 'LABEL_6', 'score': 0.996780514717102}], [{'label': 'LABEL_3', 'score': 0.5266045928001404}], [{'label': 'LABEL_7', 'score': 0.9817329049110413}], [{'label': 'LABEL_3', 'score': 0.9968087077140808}], [{'label': 'LABEL_2', 'score': 0.9945774078369141}], [{'label': 'LABEL_2', 'score': 0.9953298568725586}], [{'label': 'LABEL_5', 'score': 0.8409989476203918}], [{'label': 'LABEL_5', 'score': 0.6079485416412354}], [{'label': 'LABEL_3', 'score': 0.9973721504211426}], [{'label': 'LABEL_3', 'score': 0.9973008036613464}], [{'label': 'LABEL_5', 'score': 0.8733512759208679}], [{'label': 'LABEL_4', 'score': 0.9895256757736206}], [{'label': 'LABEL_2', 'score': 0.9949594736099243}], [{'label': 'LABEL_0', 'score': 0.9948075413703918}], [{'label': 'LABEL_2', 'score': 0.9949813485145569}], [{'label': 'LABEL_2', 'score': 0.994134247303009}], [{'label': 'LABEL_2', 'score': 0.9955020546913147}], [{'label': 'LABEL_4', 'score': 0.9896822571754456}], [{'label': 'LABEL_2', 'score': 0.5460015535354614}], [{'label': 'LABEL_4', 'score': 0.9841001033782959}], [{'label': 'LABEL_2', 'score': 0.9944719076156616}], [{'label': 'LABEL_2', 'score': 0.9949766993522644}], [{'label': 'LABEL_3', 'score': 0.5794293284416199}], [{'label': 'LABEL_2', 'score': 0.9942861199378967}], [{'label': 'LABEL_0', 'score': 0.8087916374206543}], [{'label': 'LABEL_6', 'score': 0.996699869632721}], [{'label': 'LABEL_3', 'score': 0.9976819753646851}], [{'label': 'LABEL_5', 'score': 0.9708512425422668}], [{'label': 'LABEL_3', 'score': 0.9959539175033569}], [{'label': 'LABEL_6', 'score': 0.9966589212417603}], [{'label': 'LABEL_5', 'score': 0.9691572189331055}], [{'label': 'LABEL_0', 'score': 0.9948790073394775}], [{'label': 'LABEL_4', 'score': 0.5551125407218933}], [{'label': 'LABEL_7', 'score': 0.9649125337600708}], [{'label': 'LABEL_5', 'score': 0.5424383878707886}], [{'label': 'LABEL_5', 'score': 0.868162214756012}], [{'label': 'LABEL_3', 'score': 0.996235191822052}], [{'label': 'LABEL_6', 'score': 0.996542751789093}], [{'label': 'LABEL_3', 'score': 0.9968429803848267}], [{'label': 'LABEL_3', 'score': 0.974965512752533}], [{'label': 'LABEL_7', 'score': 0.5164348483085632}], [{'label': 'LABEL_0', 'score': 0.9818180203437805}], [{'label': 'LABEL_6', 'score': 0.9234142303466797}], [{'label': 'LABEL_4', 'score': 0.9838374257087708}], [{'label': 'LABEL_3', 'score': 0.6640822887420654}], [{'label': 'LABEL_6', 'score': 0.9966262578964233}], [{'label': 'LABEL_2', 'score': 0.710727870464325}], [{'label': 'LABEL_5', 'score': 0.9174285531044006}], [{'label': 'LABEL_0', 'score': 0.9916930794715881}], [{'label': 'LABEL_3', 'score': 0.9977966547012329}], [{'label': 'LABEL_3', 'score': 0.7384058237075806}], [{'label': 'LABEL_5', 'score': 0.9618109464645386}], [{'label': 'LABEL_5', 'score': 0.8259696960449219}], [{'label': 'LABEL_0', 'score': 0.7755796909332275}], [{'label': 'LABEL_5', 'score': 0.7108105421066284}], [{'label': 'LABEL_3', 'score': 0.9977363348007202}], [{'label': 'LABEL_5', 'score': 0.9612240195274353}], [{'label': 'LABEL_6', 'score': 0.9958563446998596}], [{'label': 'LABEL_5', 'score': 0.8684055209159851}], [{'label': 'LABEL_0', 'score': 0.8686252236366272}], [{'label': 'LABEL_5', 'score': 0.8259696960449219}], [{'label': 'LABEL_6', 'score': 0.9966027736663818}], [{'label': 'LABEL_6', 'score': 0.996688187122345}], [{'label': 'LABEL_0', 'score': 0.9950116872787476}], [{'label': 'LABEL_2', 'score': 0.9918856620788574}], [{'label': 'LABEL_0', 'score': 0.6448892951011658}], [{'label': 'LABEL_6', 'score': 0.9967023730278015}], [{'label': 'LABEL_3', 'score': 0.9975392818450928}], [{'label': 'LABEL_2', 'score': 0.994376540184021}], [{'label': 'LABEL_5', 'score': 0.8072296380996704}], [{'label': 'LABEL_0', 'score': 0.9944685697555542}], [{'label': 'LABEL_4', 'score': 0.9848871827125549}], [{'label': 'LABEL_0', 'score': 0.9934618473052979}], [{'label': 'LABEL_3', 'score': 0.5622748136520386}], [{'label': 'LABEL_3', 'score': 0.9457165598869324}], [{'label': 'LABEL_3', 'score': 0.9976911544799805}], [{'label': 'LABEL_6', 'score': 0.996536135673523}], [{'label': 'LABEL_6', 'score': 0.9967166781425476}], [{'label': 'LABEL_3', 'score': 0.9974849224090576}], [{'label': 'LABEL_3', 'score': 0.9872388243675232}], [{'label': 'LABEL_7', 'score': 0.9333688020706177}], [{'label': 'LABEL_7', 'score': 0.8342065811157227}], [{'label': 'LABEL_3', 'score': 0.6844269037246704}], [{'label': 'LABEL_3', 'score': 0.9969683289527893}], [{'label': 'LABEL_3', 'score': 0.2860530614852905}], [{'label': 'LABEL_2', 'score': 0.9946723580360413}], [{'label': 'LABEL_2', 'score': 0.9945511221885681}], [{'label': 'LABEL_7', 'score': 0.9805492758750916}], [{'label': 'LABEL_6', 'score': 0.9965139031410217}], [{'label': 'LABEL_6', 'score': 0.9966854453086853}], [{'label': 'LABEL_6', 'score': 0.9964209794998169}], [{'label': 'LABEL_0', 'score': 0.9943010807037354}], [{'label': 'LABEL_2', 'score': 0.641639769077301}], [{'label': 'LABEL_6', 'score': 0.9965640902519226}], [{'label': 'LABEL_6', 'score': 0.9967672824859619}], [{'label': 'LABEL_6', 'score': 0.9965254664421082}], [{'label': 'LABEL_6', 'score': 0.9968749284744263}], [{'label': 'LABEL_7', 'score': 0.3382112383842468}], [{'label': 'LABEL_5', 'score': 0.9484694600105286}], [{'label': 'LABEL_5', 'score': 0.6725351810455322}], [{'label': 'LABEL_3', 'score': 0.9913012385368347}], [{'label': 'LABEL_6', 'score': 0.996788501739502}], [{'label': 'LABEL_3', 'score': 0.9968749284744263}], [{'label': 'LABEL_6', 'score': 0.9967952370643616}], [{'label': 'LABEL_0', 'score': 0.9950196743011475}], [{'label': 'LABEL_3', 'score': 0.6844269037246704}], [{'label': 'LABEL_0', 'score': 0.9933708906173706}], [{'label': 'LABEL_6', 'score': 0.9967567324638367}], [{'label': 'LABEL_0', 'score': 0.9945653676986694}], [{'label': 'LABEL_5', 'score': 0.9140585660934448}], [{'label': 'LABEL_2', 'score': 0.9942012429237366}], [{'label': 'LABEL_5', 'score': 0.5792641639709473}], [{'label': 'LABEL_6', 'score': 0.9967664480209351}], [{'label': 'LABEL_7', 'score': 0.46892622113227844}], [{'label': 'LABEL_5', 'score': 0.7801726460456848}], [{'label': 'LABEL_6', 'score': 0.9965919256210327}], [{'label': 'LABEL_2', 'score': 0.9950489401817322}], [{'label': 'LABEL_0', 'score': 0.9947399497032166}], [{'label': 'LABEL_4', 'score': 0.9910348057746887}], [{'label': 'LABEL_2', 'score': 0.9937044978141785}], [{'label': 'LABEL_6', 'score': 0.9967316389083862}], [{'label': 'LABEL_6', 'score': 0.9963425993919373}], [{'label': 'LABEL_6', 'score': 0.9968622922897339}], [{'label': 'LABEL_0', 'score': 0.6638798713684082}], [{'label': 'LABEL_0', 'score': 0.9948742985725403}], [{'label': 'LABEL_3', 'score': 0.9970058798789978}], [{'label': 'LABEL_3', 'score': 0.9973886609077454}], [{'label': 'LABEL_2', 'score': 0.9930850267410278}], [{'label': 'LABEL_5', 'score': 0.8263148665428162}], [{'label': 'LABEL_6', 'score': 0.5840858817100525}], [{'label': 'LABEL_5', 'score': 0.9634559750556946}], [{'label': 'LABEL_0', 'score': 0.7725776433944702}], [{'label': 'LABEL_2', 'score': 0.9949187636375427}], [{'label': 'LABEL_6', 'score': 0.996778666973114}], [{'label': 'LABEL_6', 'score': 0.9965311884880066}], [{'label': 'LABEL_3', 'score': 0.9972302317619324}], [{'label': 'LABEL_6', 'score': 0.9968407154083252}], [{'label': 'LABEL_3', 'score': 0.9974295496940613}], [{'label': 'LABEL_5', 'score': 0.9265128970146179}], [{'label': 'LABEL_2', 'score': 0.5374932885169983}], [{'label': 'LABEL_6', 'score': 0.9949821829795837}], [{'label': 'LABEL_7', 'score': 0.982541024684906}], [{'label': 'LABEL_2', 'score': 0.7288416624069214}], [{'label': 'LABEL_3', 'score': 0.9969260096549988}], [{'label': 'LABEL_2', 'score': 0.5313579440116882}], [{'label': 'LABEL_2', 'score': 0.5941193699836731}], [{'label': 'LABEL_3', 'score': 0.9976925849914551}], [{'label': 'LABEL_6', 'score': 0.9965305924415588}], [{'label': 'LABEL_0', 'score': 0.9938511848449707}], [{'label': 'LABEL_0', 'score': 0.9947432279586792}], [{'label': 'LABEL_0', 'score': 0.5804529190063477}], [{'label': 'LABEL_5', 'score': 0.8604652881622314}], [{'label': 'LABEL_0', 'score': 0.9945823550224304}], [{'label': 'LABEL_0', 'score': 0.4252011477947235}], [{'label': 'LABEL_0', 'score': 0.9948017597198486}], [{'label': 'LABEL_6', 'score': 0.9964961409568787}], [{'label': 'LABEL_0', 'score': 0.9942217469215393}], [{'label': 'LABEL_0', 'score': 0.9947580695152283}], [{'label': 'LABEL_3', 'score': 0.996771514415741}], [{'label': 'LABEL_3', 'score': 0.4944828748703003}], [{'label': 'LABEL_5', 'score': 0.8742928504943848}], [{'label': 'LABEL_4', 'score': 0.984731912612915}], [{'label': 'LABEL_2', 'score': 0.9920591115951538}], [{'label': 'LABEL_6', 'score': 0.9965388774871826}], [{'label': 'LABEL_2', 'score': 0.9949585795402527}], [{'label': 'LABEL_4', 'score': 0.9905369877815247}], [{'label': 'LABEL_6', 'score': 0.9961971044540405}], [{'label': 'LABEL_6', 'score': 0.9966778755187988}], [{'label': 'LABEL_3', 'score': 0.9973511695861816}], [{'label': 'LABEL_7', 'score': 0.9823744297027588}], [{'label': 'LABEL_3', 'score': 0.9974787831306458}], [{'label': 'LABEL_7', 'score': 0.3670698404312134}], [{'label': 'LABEL_5', 'score': 0.9525617361068726}], [{'label': 'LABEL_3', 'score': 0.5470624566078186}], [{'label': 'LABEL_2', 'score': 0.9944438338279724}], [{'label': 'LABEL_3', 'score': 0.9947195053100586}], [{'label': 'LABEL_6', 'score': 0.9966970682144165}], [{'label': 'LABEL_6', 'score': 0.9961526989936829}], [{'label': 'LABEL_3', 'score': 0.9971422553062439}], [{'label': 'LABEL_4', 'score': 0.9904277324676514}], [{'label': 'LABEL_6', 'score': 0.9954433441162109}], [{'label': 'LABEL_7', 'score': 0.8328878879547119}], [{'label': 'LABEL_6', 'score': 0.9956810474395752}], [{'label': 'LABEL_3', 'score': 0.9788714051246643}], [{'label': 'LABEL_3', 'score': 0.9973857998847961}], [{'label': 'LABEL_5', 'score': 0.9712402820587158}], [{'label': 'LABEL_5', 'score': 0.8775402307510376}], [{'label': 'LABEL_3', 'score': 0.9365511536598206}], [{'label': 'LABEL_7', 'score': 0.7070062756538391}], [{'label': 'LABEL_0', 'score': 0.9945711493492126}], [{'label': 'LABEL_4', 'score': 0.7775694131851196}], [{'label': 'LABEL_7', 'score': 0.6437875032424927}], [{'label': 'LABEL_3', 'score': 0.9976919889450073}], [{'label': 'LABEL_7', 'score': 0.9582430124282837}], [{'label': 'LABEL_5', 'score': 0.5581154227256775}], [{'label': 'LABEL_0', 'score': 0.6503514051437378}], [{'label': 'LABEL_3', 'score': 0.5889585018157959}], [{'label': 'LABEL_3', 'score': 0.9013157486915588}], [{'label': 'LABEL_5', 'score': 0.9592857956886292}], [{'label': 'LABEL_6', 'score': 0.6351497173309326}], [{'label': 'LABEL_3', 'score': 0.9976741671562195}], [{'label': 'LABEL_4', 'score': 0.9334274530410767}], [{'label': 'LABEL_7', 'score': 0.5515108704566956}], [{'label': 'LABEL_4', 'score': 0.989249587059021}], [{'label': 'LABEL_6', 'score': 0.9964659214019775}], [{'label': 'LABEL_5', 'score': 0.8646785616874695}], [{'label': 'LABEL_3', 'score': 0.9924424886703491}], [{'label': 'LABEL_0', 'score': 0.9947628378868103}], [{'label': 'LABEL_2', 'score': 0.9938431978225708}], [{'label': 'LABEL_3', 'score': 0.9790433645248413}], [{'label': 'LABEL_6', 'score': 0.9965500831604004}], [{'label': 'LABEL_4', 'score': 0.9864744544029236}], [{'label': 'LABEL_5', 'score': 0.963206946849823}], [{'label': 'LABEL_6', 'score': 0.9963352680206299}], [{'label': 'LABEL_3', 'score': 0.9975649118423462}], [{'label': 'LABEL_0', 'score': 0.9942876696586609}], [{'label': 'LABEL_2', 'score': 0.9892710447311401}], [{'label': 'LABEL_6', 'score': 0.9969906806945801}], [{'label': 'LABEL_6', 'score': 0.9966652989387512}], [{'label': 'LABEL_4', 'score': 0.9887111186981201}], [{'label': 'LABEL_3', 'score': 0.9967215657234192}], [{'label': 'LABEL_4', 'score': 0.9891183376312256}], [{'label': 'LABEL_0', 'score': 0.9939731955528259}], [{'label': 'LABEL_6', 'score': 0.6145105957984924}], [{'label': 'LABEL_7', 'score': 0.5860635042190552}], [{'label': 'LABEL_6', 'score': 0.9965869188308716}], [{'label': 'LABEL_4', 'score': 0.9889448285102844}], [{'label': 'LABEL_5', 'score': 0.6575818657875061}], [{'label': 'LABEL_3', 'score': 0.9976657629013062}], [{'label': 'LABEL_3', 'score': 0.8686851263046265}], [{'label': 'LABEL_2', 'score': 0.9940434098243713}], [{'label': 'LABEL_6', 'score': 0.9968787431716919}], [{'label': 'LABEL_3', 'score': 0.6839954853057861}], [{'label': 'LABEL_7', 'score': 0.743223249912262}], [{'label': 'LABEL_5', 'score': 0.9493081569671631}], [{'label': 'LABEL_3', 'score': 0.9973660111427307}], [{'label': 'LABEL_2', 'score': 0.984387993812561}], [{'label': 'LABEL_3', 'score': 0.9976491332054138}], [{'label': 'LABEL_5', 'score': 0.8603647351264954}], [{'label': 'LABEL_3', 'score': 0.8455123901367188}], [{'label': 'LABEL_6', 'score': 0.996531069278717}], [{'label': 'LABEL_3', 'score': 0.9976091384887695}], [{'label': 'LABEL_0', 'score': 0.9942560791969299}], [{'label': 'LABEL_5', 'score': 0.5601484775543213}], [{'label': 'LABEL_0', 'score': 0.995037853717804}], [{'label': 'LABEL_5', 'score': 0.896816611289978}], [{'label': 'LABEL_0', 'score': 0.9924578666687012}], [{'label': 'LABEL_5', 'score': 0.9563284516334534}], [{'label': 'LABEL_5', 'score': 0.7703591585159302}], [{'label': 'LABEL_6', 'score': 0.9735776782035828}], [{'label': 'LABEL_3', 'score': 0.6180669665336609}], [{'label': 'LABEL_5', 'score': 0.7747471928596497}], [{'label': 'LABEL_6', 'score': 0.9967137575149536}], [{'label': 'LABEL_6', 'score': 0.996579110622406}], [{'label': 'LABEL_4', 'score': 0.9886077046394348}], [{'label': 'LABEL_7', 'score': 0.9582430124282837}], [{'label': 'LABEL_3', 'score': 0.9963155388832092}], [{'label': 'LABEL_5', 'score': 0.8646030426025391}], [{'label': 'LABEL_3', 'score': 0.9829525947570801}], [{'label': 'LABEL_7', 'score': 0.9810428619384766}], [{'label': 'LABEL_5', 'score': 0.8294574022293091}], [{'label': 'LABEL_7', 'score': 0.8305624723434448}], [{'label': 'LABEL_6', 'score': 0.996471643447876}], [{'label': 'LABEL_6', 'score': 0.9965062141418457}], [{'label': 'LABEL_0', 'score': 0.9933215975761414}], [{'label': 'LABEL_6', 'score': 0.9966537952423096}], [{'label': 'LABEL_6', 'score': 0.9966993927955627}], [{'label': 'LABEL_3', 'score': 0.9968956708908081}], [{'label': 'LABEL_3', 'score': 0.8188590407371521}], [{'label': 'LABEL_4', 'score': 0.9875257015228271}], [{'label': 'LABEL_2', 'score': 0.9951236844062805}], [{'label': 'LABEL_3', 'score': 0.9976345300674438}], [{'label': 'LABEL_5', 'score': 0.9420973062515259}], [{'label': 'LABEL_6', 'score': 0.9968637228012085}], [{'label': 'LABEL_6', 'score': 0.9965775609016418}], [{'label': 'LABEL_0', 'score': 0.9878579378128052}], [{'label': 'LABEL_3', 'score': 0.9967101812362671}], [{'label': 'LABEL_3', 'score': 0.9975984692573547}], [{'label': 'LABEL_3', 'score': 0.9960242509841919}], [{'label': 'LABEL_6', 'score': 0.9966226816177368}], [{'label': 'LABEL_3', 'score': 0.9964455962181091}], [{'label': 'LABEL_3', 'score': 0.7319099307060242}], [{'label': 'LABEL_6', 'score': 0.9954555034637451}], [{'label': 'LABEL_6', 'score': 0.4184707701206207}], [{'label': 'LABEL_7', 'score': 0.6193095445632935}], [{'label': 'LABEL_5', 'score': 0.8169010877609253}], [{'label': 'LABEL_3', 'score': 0.9975147247314453}], [{'label': 'LABEL_3', 'score': 0.9975710511207581}], [{'label': 'LABEL_3', 'score': 0.9973638653755188}], [{'label': 'LABEL_6', 'score': 0.9967548251152039}], [{'label': 'LABEL_7', 'score': 0.9776324033737183}], [{'label': 'LABEL_7', 'score': 0.963324785232544}], [{'label': 'LABEL_3', 'score': 0.9972010850906372}], [{'label': 'LABEL_6', 'score': 0.9965507984161377}], [{'label': 'LABEL_6', 'score': 0.9967378973960876}], [{'label': 'LABEL_3', 'score': 0.9974857568740845}], [{'label': 'LABEL_0', 'score': 0.6046657562255859}], [{'label': 'LABEL_4', 'score': 0.9866843819618225}], [{'label': 'LABEL_3', 'score': 0.9973875880241394}], [{'label': 'LABEL_3', 'score': 0.996880054473877}], [{'label': 'LABEL_0', 'score': 0.767720103263855}], [{'label': 'LABEL_3', 'score': 0.997302770614624}], [{'label': 'LABEL_3', 'score': 0.941969633102417}], [{'label': 'LABEL_5', 'score': 0.45967715978622437}], [{'label': 'LABEL_3', 'score': 0.9965332746505737}], [{'label': 'LABEL_6', 'score': 0.9963697195053101}], [{'label': 'LABEL_5', 'score': 0.9291287064552307}], [{'label': 'LABEL_7', 'score': 0.8441894054412842}], [{'label': 'LABEL_6', 'score': 0.9963498115539551}], [{'label': 'LABEL_4', 'score': 0.5989552736282349}], [{'label': 'LABEL_6', 'score': 0.9970307350158691}], [{'label': 'LABEL_4', 'score': 0.9858602285385132}], [{'label': 'LABEL_3', 'score': 0.9975861310958862}], [{'label': 'LABEL_7', 'score': 0.9708892107009888}], [{'label': 'LABEL_4', 'score': 0.9756088852882385}], [{'label': 'LABEL_6', 'score': 0.9961252808570862}], [{'label': 'LABEL_6', 'score': 0.996801495552063}], [{'label': 'LABEL_0', 'score': 0.9940980672836304}], [{'label': 'LABEL_3', 'score': 0.9969536066055298}], [{'label': 'LABEL_6', 'score': 0.9965954422950745}], [{'label': 'LABEL_4', 'score': 0.5354477167129517}], [{'label': 'LABEL_3', 'score': 0.9974043965339661}], [{'label': 'LABEL_3', 'score': 0.9968324303627014}], [{'label': 'LABEL_3', 'score': 0.997680127620697}], [{'label': 'LABEL_7', 'score': 0.8343788385391235}], [{'label': 'LABEL_0', 'score': 0.6048558950424194}], [{'label': 'LABEL_5', 'score': 0.8940724730491638}], [{'label': 'LABEL_3', 'score': 0.9969966411590576}], [{'label': 'LABEL_5', 'score': 0.7352448105812073}], [{'label': 'LABEL_6', 'score': 0.9963829517364502}], [{'label': 'LABEL_0', 'score': 0.3763335943222046}], [{'label': 'LABEL_0', 'score': 0.9932912588119507}], [{'label': 'LABEL_6', 'score': 0.9968607425689697}], [{'label': 'LABEL_6', 'score': 0.9968716502189636}], [{'label': 'LABEL_6', 'score': 0.9966123700141907}], [{'label': 'LABEL_6', 'score': 0.9964298605918884}], [{'label': 'LABEL_2', 'score': 0.9916706085205078}], [{'label': 'LABEL_3', 'score': 0.9935537576675415}], [{'label': 'LABEL_6', 'score': 0.9959147572517395}], [{'label': 'LABEL_3', 'score': 0.9974985718727112}], [{'label': 'LABEL_7', 'score': 0.960662305355072}], [{'label': 'LABEL_5', 'score': 0.8703668713569641}], [{'label': 'LABEL_6', 'score': 0.99660325050354}], [{'label': 'LABEL_3', 'score': 0.9971488118171692}], [{'label': 'LABEL_3', 'score': 0.9972031116485596}], [{'label': 'LABEL_5', 'score': 0.9693384170532227}], [{'label': 'LABEL_3', 'score': 0.7754882574081421}], [{'label': 'LABEL_4', 'score': 0.9891855716705322}], [{'label': 'LABEL_0', 'score': 0.7249833941459656}], [{'label': 'LABEL_4', 'score': 0.5818188786506653}], [{'label': 'LABEL_6', 'score': 0.9967658519744873}], [{'label': 'LABEL_3', 'score': 0.9976006150245667}], [{'label': 'LABEL_5', 'score': 0.727203369140625}], [{'label': 'LABEL_6', 'score': 0.9964615702629089}], [{'label': 'LABEL_6', 'score': 0.988292396068573}], [{'label': 'LABEL_5', 'score': 0.6241954565048218}], [{'label': 'LABEL_0', 'score': 0.9941699504852295}], [{'label': 'LABEL_6', 'score': 0.9964399933815002}], [{'label': 'LABEL_2', 'score': 0.9944942593574524}], [{'label': 'LABEL_6', 'score': 0.9967852830886841}], [{'label': 'LABEL_6', 'score': 0.996099591255188}], [{'label': 'LABEL_4', 'score': 0.987975537776947}], [{'label': 'LABEL_5', 'score': 0.9400023221969604}], [{'label': 'LABEL_6', 'score': 0.9967412352561951}], [{'label': 'LABEL_6', 'score': 0.9967404007911682}], [{'label': 'LABEL_3', 'score': 0.8312273621559143}], [{'label': 'LABEL_3', 'score': 0.5432119369506836}], [{'label': 'LABEL_7', 'score': 0.9267276525497437}], [{'label': 'LABEL_7', 'score': 0.9300486445426941}], [{'label': 'LABEL_4', 'score': 0.9884507656097412}], [{'label': 'LABEL_5', 'score': 0.9373507499694824}], [{'label': 'LABEL_6', 'score': 0.9967798590660095}], [{'label': 'LABEL_2', 'score': 0.9951285123825073}], [{'label': 'LABEL_3', 'score': 0.997638463973999}], [{'label': 'LABEL_2', 'score': 0.9952813982963562}], [{'label': 'LABEL_6', 'score': 0.9966033697128296}], [{'label': 'LABEL_3', 'score': 0.9971641898155212}], [{'label': 'LABEL_6', 'score': 0.9962283372879028}], [{'label': 'LABEL_2', 'score': 0.8833664655685425}], [{'label': 'LABEL_3', 'score': 0.9972284436225891}], [{'label': 'LABEL_6', 'score': 0.8733289837837219}], [{'label': 'LABEL_3', 'score': 0.8465270400047302}], [{'label': 'LABEL_6', 'score': 0.99591463804245}], [{'label': 'LABEL_3', 'score': 0.9973758459091187}], [{'label': 'LABEL_5', 'score': 0.9140106439590454}], [{'label': 'LABEL_3', 'score': 0.9962959885597229}], [{'label': 'LABEL_3', 'score': 0.997653067111969}], [{'label': 'LABEL_3', 'score': 0.9764382243156433}], [{'label': 'LABEL_3', 'score': 0.9969972372055054}], [{'label': 'LABEL_2', 'score': 0.56330806016922}], [{'label': 'LABEL_2', 'score': 0.9945453405380249}], [{'label': 'LABEL_5', 'score': 0.8089277744293213}], [{'label': 'LABEL_7', 'score': 0.9464847445487976}], [{'label': 'LABEL_2', 'score': 0.6973288059234619}], [{'label': 'LABEL_3', 'score': 0.9976356029510498}], [{'label': 'LABEL_5', 'score': 0.94596928358078}], [{'label': 'LABEL_3', 'score': 0.462615966796875}], [{'label': 'LABEL_5', 'score': 0.5979630351066589}], [{'label': 'LABEL_2', 'score': 0.9950178265571594}], [{'label': 'LABEL_3', 'score': 0.9976886510848999}], [{'label': 'LABEL_3', 'score': 0.9934689998626709}], [{'label': 'LABEL_3', 'score': 0.48356160521507263}], [{'label': 'LABEL_5', 'score': 0.918772280216217}], [{'label': 'LABEL_6', 'score': 0.663639485836029}], [{'label': 'LABEL_6', 'score': 0.9969576597213745}], [{'label': 'LABEL_6', 'score': 0.996742308139801}], [{'label': 'LABEL_3', 'score': 0.9970663189888}], [{'label': 'LABEL_0', 'score': 0.4326343238353729}], [{'label': 'LABEL_3', 'score': 0.9815690517425537}], [{'label': 'LABEL_5', 'score': 0.8888413906097412}], [{'label': 'LABEL_3', 'score': 0.9969087243080139}], [{'label': 'LABEL_3', 'score': 0.9976053237915039}], [{'label': 'LABEL_3', 'score': 0.997733473777771}], [{'label': 'LABEL_6', 'score': 0.9963035583496094}], [{'label': 'LABEL_6', 'score': 0.7777503132820129}], [{'label': 'LABEL_0', 'score': 0.9938405752182007}], [{'label': 'LABEL_3', 'score': 0.9977280497550964}], [{'label': 'LABEL_6', 'score': 0.996947705745697}], [{'label': 'LABEL_0', 'score': 0.9944707155227661}], [{'label': 'LABEL_7', 'score': 0.8547436594963074}], [{'label': 'LABEL_7', 'score': 0.9582430124282837}], [{'label': 'LABEL_4', 'score': 0.9849085807800293}], [{'label': 'LABEL_0', 'score': 0.9947938323020935}], [{'label': 'LABEL_4', 'score': 0.9900357723236084}], [{'label': 'LABEL_5', 'score': 0.6408179998397827}], [{'label': 'LABEL_6', 'score': 0.9960681200027466}], [{'label': 'LABEL_3', 'score': 0.8266388773918152}], [{'label': 'LABEL_2', 'score': 0.9949001669883728}], [{'label': 'LABEL_2', 'score': 0.513457179069519}], [{'label': 'LABEL_3', 'score': 0.9976679682731628}], [{'label': 'LABEL_3', 'score': 0.997077226638794}], [{'label': 'LABEL_3', 'score': 0.9974048733711243}], [{'label': 'LABEL_5', 'score': 0.47368884086608887}], [{'label': 'LABEL_5', 'score': 0.4827614724636078}], [{'label': 'LABEL_5', 'score': 0.4665800929069519}], [{'label': 'LABEL_6', 'score': 0.9969409108161926}], [{'label': 'LABEL_3', 'score': 0.9974478483200073}], [{'label': 'LABEL_3', 'score': 0.9968900084495544}], [{'label': 'LABEL_7', 'score': 0.9086005091667175}], [{'label': 'LABEL_0', 'score': 0.9945664405822754}], [{'label': 'LABEL_6', 'score': 0.9966316819190979}], [{'label': 'LABEL_6', 'score': 0.3347734212875366}], [{'label': 'LABEL_6', 'score': 0.8037723302841187}], [{'label': 'LABEL_3', 'score': 0.997405469417572}], [{'label': 'LABEL_2', 'score': 0.9954067468643188}], [{'label': 'LABEL_3', 'score': 0.9976298809051514}], [{'label': 'LABEL_7', 'score': 0.6180161833763123}], [{'label': 'LABEL_6', 'score': 0.9969559907913208}], [{'label': 'LABEL_4', 'score': 0.9893653392791748}], [{'label': 'LABEL_4', 'score': 0.9889923930168152}], [{'label': 'LABEL_3', 'score': 0.9969455599784851}], [{'label': 'LABEL_7', 'score': 0.5237261056900024}], [{'label': 'LABEL_5', 'score': 0.9691572189331055}], [{'label': 'LABEL_7', 'score': 0.8312565684318542}], [{'label': 'LABEL_5', 'score': 0.512172520160675}], [{'label': 'LABEL_5', 'score': 0.8972151279449463}], [{'label': 'LABEL_2', 'score': 0.9947202205657959}], [{'label': 'LABEL_0', 'score': 0.7604580521583557}], [{'label': 'LABEL_4', 'score': 0.6772274374961853}], [{'label': 'LABEL_5', 'score': 0.6215206384658813}], [{'label': 'LABEL_3', 'score': 0.9975109100341797}], [{'label': 'LABEL_2', 'score': 0.6040208339691162}], [{'label': 'LABEL_3', 'score': 0.9971712231636047}], [{'label': 'LABEL_3', 'score': 0.9977025389671326}], [{'label': 'LABEL_6', 'score': 0.9966886639595032}], [{'label': 'LABEL_6', 'score': 0.9964742064476013}], [{'label': 'LABEL_0', 'score': 0.9925825595855713}], [{'label': 'LABEL_5', 'score': 0.9712402820587158}], [{'label': 'LABEL_3', 'score': 0.9966613054275513}], [{'label': 'LABEL_4', 'score': 0.7735869884490967}], [{'label': 'LABEL_2', 'score': 0.6096528768539429}], [{'label': 'LABEL_3', 'score': 0.9972705245018005}], [{'label': 'LABEL_3', 'score': 0.997651994228363}], [{'label': 'LABEL_5', 'score': 0.8391113877296448}], [{'label': 'LABEL_5', 'score': 0.7964019775390625}], [{'label': 'LABEL_5', 'score': 0.9298909902572632}], [{'label': 'LABEL_6', 'score': 0.9966698288917542}], [{'label': 'LABEL_3', 'score': 0.9828500151634216}], [{'label': 'LABEL_0', 'score': 0.9939418435096741}], [{'label': 'LABEL_3', 'score': 0.9969333410263062}], [{'label': 'LABEL_0', 'score': 0.9939992427825928}], [{'label': 'LABEL_3', 'score': 0.9973303079605103}], [{'label': 'LABEL_5', 'score': 0.9565000534057617}], [{'label': 'LABEL_7', 'score': 0.9801678657531738}], [{'label': 'LABEL_3', 'score': 0.9974272847175598}], [{'label': 'LABEL_6', 'score': 0.9932189583778381}], [{'label': 'LABEL_7', 'score': 0.655354380607605}], [{'label': 'LABEL_6', 'score': 0.9954829216003418}], [{'label': 'LABEL_6', 'score': 0.9708353877067566}], [{'label': 'LABEL_7', 'score': 0.4890282154083252}], [{'label': 'LABEL_3', 'score': 0.9961333274841309}], [{'label': 'LABEL_3', 'score': 0.9970081448554993}], [{'label': 'LABEL_3', 'score': 0.846867024898529}], [{'label': 'LABEL_3', 'score': 0.9944196343421936}], [{'label': 'LABEL_7', 'score': 0.6811075806617737}], [{'label': 'LABEL_4', 'score': 0.6127187609672546}], [{'label': 'LABEL_0', 'score': 0.9944144487380981}], [{'label': 'LABEL_3', 'score': 0.9972391128540039}], [{'label': 'LABEL_5', 'score': 0.9582791328430176}], [{'label': 'LABEL_6', 'score': 0.9957024455070496}], [{'label': 'LABEL_6', 'score': 0.996941864490509}], [{'label': 'LABEL_0', 'score': 0.994376540184021}], [{'label': 'LABEL_5', 'score': 0.5020177364349365}], [{'label': 'LABEL_6', 'score': 0.9962456822395325}], [{'label': 'LABEL_3', 'score': 0.7719728350639343}], [{'label': 'LABEL_0', 'score': 0.994572103023529}], [{'label': 'LABEL_4', 'score': 0.9892522692680359}], [{'label': 'LABEL_5', 'score': 0.8300867080688477}], [{'label': 'LABEL_5', 'score': 0.8890951871871948}], [{'label': 'LABEL_3', 'score': 0.9973203539848328}], [{'label': 'LABEL_5', 'score': 0.6699643135070801}], [{'label': 'LABEL_7', 'score': 0.9776915311813354}], [{'label': 'LABEL_3', 'score': 0.9975221753120422}], [{'label': 'LABEL_6', 'score': 0.9967659711837769}], [{'label': 'LABEL_6', 'score': 0.9968324303627014}], [{'label': 'LABEL_5', 'score': 0.6772964596748352}], [{'label': 'LABEL_6', 'score': 0.9958648681640625}], [{'label': 'LABEL_5', 'score': 0.9468727707862854}], [{'label': 'LABEL_5', 'score': 0.9278751015663147}], [{'label': 'LABEL_3', 'score': 0.6844269037246704}], [{'label': 'LABEL_3', 'score': 0.9965711832046509}], [{'label': 'LABEL_3', 'score': 0.43301692605018616}], [{'label': 'LABEL_6', 'score': 0.6727022528648376}], [{'label': 'LABEL_3', 'score': 0.5143528580665588}], [{'label': 'LABEL_5', 'score': 0.928740382194519}], [{'label': 'LABEL_5', 'score': 0.2819783687591553}], [{'label': 'LABEL_4', 'score': 0.653034508228302}], [{'label': 'LABEL_3', 'score': 0.9839484095573425}], [{'label': 'LABEL_6', 'score': 0.9928730726242065}], [{'label': 'LABEL_0', 'score': 0.8820940852165222}], [{'label': 'LABEL_3', 'score': 0.9953206181526184}], [{'label': 'LABEL_0', 'score': 0.765261709690094}], [{'label': 'LABEL_0', 'score': 0.9938546419143677}], [{'label': 'LABEL_0', 'score': 0.9945747256278992}], [{'label': 'LABEL_6', 'score': 0.9964304566383362}], [{'label': 'LABEL_5', 'score': 0.9214126467704773}], [{'label': 'LABEL_3', 'score': 0.9976509213447571}], [{'label': 'LABEL_5', 'score': 0.7893601059913635}], [{'label': 'LABEL_7', 'score': 0.9086005091667175}], [{'label': 'LABEL_6', 'score': 0.9967009425163269}], [{'label': 'LABEL_6', 'score': 0.996865451335907}], [{'label': 'LABEL_5', 'score': 0.9464166164398193}], [{'label': 'LABEL_5', 'score': 0.9556376934051514}], [{'label': 'LABEL_3', 'score': 0.9976441264152527}], [{'label': 'LABEL_3', 'score': 0.9973526000976562}], [{'label': 'LABEL_0', 'score': 0.835587203502655}], [{'label': 'LABEL_0', 'score': 0.9949122667312622}], [{'label': 'LABEL_6', 'score': 0.9966631531715393}], [{'label': 'LABEL_6', 'score': 0.996877908706665}], [{'label': 'LABEL_6', 'score': 0.9919816851615906}], [{'label': 'LABEL_2', 'score': 0.9952535629272461}], [{'label': 'LABEL_6', 'score': 0.9968569278717041}], [{'label': 'LABEL_6', 'score': 0.7248807549476624}], [{'label': 'LABEL_7', 'score': 0.9798065423965454}], [{'label': 'LABEL_3', 'score': 0.9968517422676086}], [{'label': 'LABEL_3', 'score': 0.9972288012504578}], [{'label': 'LABEL_3', 'score': 0.9970830082893372}], [{'label': 'LABEL_6', 'score': 0.9965364933013916}], [{'label': 'LABEL_6', 'score': 0.996464729309082}], [{'label': 'LABEL_3', 'score': 0.5711575150489807}], [{'label': 'LABEL_5', 'score': 0.9001782536506653}], [{'label': 'LABEL_5', 'score': 0.8777869939804077}], [{'label': 'LABEL_3', 'score': 0.9531936049461365}], [{'label': 'LABEL_7', 'score': 0.7560569643974304}], [{'label': 'LABEL_3', 'score': 0.9966094493865967}], [{'label': 'LABEL_7', 'score': 0.48715266585350037}], [{'label': 'LABEL_5', 'score': 0.4792601764202118}], [{'label': 'LABEL_3', 'score': 0.997372031211853}], [{'label': 'LABEL_0', 'score': 0.9941408038139343}], [{'label': 'LABEL_3', 'score': 0.9974824786186218}], [{'label': 'LABEL_3', 'score': 0.5794293284416199}], [{'label': 'LABEL_3', 'score': 0.9974520802497864}], [{'label': 'LABEL_3', 'score': 0.7571856379508972}], [{'label': 'LABEL_4', 'score': 0.6542574763298035}], [{'label': 'LABEL_3', 'score': 0.9688559770584106}], [{'label': 'LABEL_5', 'score': 0.9641397595405579}], [{'label': 'LABEL_2', 'score': 0.994513988494873}], [{'label': 'LABEL_2', 'score': 0.9953172206878662}], [{'label': 'LABEL_5', 'score': 0.45951876044273376}], [{'label': 'LABEL_2', 'score': 0.9953072667121887}], [{'label': 'LABEL_6', 'score': 0.9962994456291199}], [{'label': 'LABEL_3', 'score': 0.9967581629753113}], [{'label': 'LABEL_2', 'score': 0.9945330619812012}], [{'label': 'LABEL_3', 'score': 0.996171772480011}], [{'label': 'LABEL_3', 'score': 0.9969303011894226}], [{'label': 'LABEL_3', 'score': 0.7570282816886902}], [{'label': 'LABEL_3', 'score': 0.5794293284416199}], [{'label': 'LABEL_7', 'score': 0.6875126957893372}], [{'label': 'LABEL_0', 'score': 0.9944406151771545}], [{'label': 'LABEL_5', 'score': 0.6692511439323425}], [{'label': 'LABEL_3', 'score': 0.9975394010543823}], [{'label': 'LABEL_2', 'score': 0.9949787259101868}], [{'label': 'LABEL_2', 'score': 0.9945899248123169}], [{'label': 'LABEL_3', 'score': 0.9969751834869385}], [{'label': 'LABEL_3', 'score': 0.8845824003219604}], [{'label': 'LABEL_3', 'score': 0.575462818145752}], [{'label': 'LABEL_7', 'score': 0.8819054365158081}], [{'label': 'LABEL_0', 'score': 0.6755505204200745}], [{'label': 'LABEL_5', 'score': 0.4314388036727905}], [{'label': 'LABEL_2', 'score': 0.9942737221717834}], [{'label': 'LABEL_7', 'score': 0.3929763436317444}], [{'label': 'LABEL_6', 'score': 0.9969462752342224}], [{'label': 'LABEL_6', 'score': 0.9968900084495544}], [{'label': 'LABEL_2', 'score': 0.4398893117904663}], [{'label': 'LABEL_3', 'score': 0.997479259967804}], [{'label': 'LABEL_6', 'score': 0.9967135190963745}], [{'label': 'LABEL_3', 'score': 0.549773097038269}], [{'label': 'LABEL_0', 'score': 0.9946348667144775}], [{'label': 'LABEL_3', 'score': 0.9974076151847839}], [{'label': 'LABEL_6', 'score': 0.5326650738716125}], [{'label': 'LABEL_5', 'score': 0.8810152411460876}], [{'label': 'LABEL_3', 'score': 0.9974019527435303}], [{'label': 'LABEL_0', 'score': 0.9945238828659058}], [{'label': 'LABEL_4', 'score': 0.9879889488220215}], [{'label': 'LABEL_4', 'score': 0.6071898937225342}], [{'label': 'LABEL_5', 'score': 0.9380472898483276}], [{'label': 'LABEL_5', 'score': 0.5802832245826721}], [{'label': 'LABEL_5', 'score': 0.4615311920642853}], [{'label': 'LABEL_3', 'score': 0.5391040444374084}], [{'label': 'LABEL_0', 'score': 0.9938295483589172}], [{'label': 'LABEL_5', 'score': 0.2957601547241211}], [{'label': 'LABEL_5', 'score': 0.4128633141517639}], [{'label': 'LABEL_5', 'score': 0.742646336555481}], [{'label': 'LABEL_6', 'score': 0.9968733191490173}], [{'label': 'LABEL_2', 'score': 0.9936327338218689}], [{'label': 'LABEL_3', 'score': 0.9974134564399719}], [{'label': 'LABEL_0', 'score': 0.993983805179596}], [{'label': 'LABEL_3', 'score': 0.9972842931747437}], [{'label': 'LABEL_3', 'score': 0.6801143288612366}], [{'label': 'LABEL_6', 'score': 0.9968628883361816}], [{'label': 'LABEL_6', 'score': 0.9968476891517639}], [{'label': 'LABEL_6', 'score': 0.9965159893035889}], [{'label': 'LABEL_5', 'score': 0.8777503967285156}], [{'label': 'LABEL_5', 'score': 0.31836503744125366}], [{'label': 'LABEL_0', 'score': 0.9938004612922668}], [{'label': 'LABEL_0', 'score': 0.9934592247009277}], [{'label': 'LABEL_0', 'score': 0.9924570322036743}], [{'label': 'LABEL_7', 'score': 0.6994938254356384}], [{'label': 'LABEL_0', 'score': 0.9949966669082642}], [{'label': 'LABEL_7', 'score': 0.9822210669517517}], [{'label': 'LABEL_0', 'score': 0.714858889579773}], [{'label': 'LABEL_3', 'score': 0.9975032210350037}], [{'label': 'LABEL_3', 'score': 0.9974930286407471}], [{'label': 'LABEL_4', 'score': 0.9861771464347839}], [{'label': 'LABEL_0', 'score': 0.9946880340576172}], [{'label': 'LABEL_4', 'score': 0.9889856576919556}], [{'label': 'LABEL_7', 'score': 0.39948511123657227}], [{'label': 'LABEL_3', 'score': 0.5276110768318176}], [{'label': 'LABEL_6', 'score': 0.9966471791267395}], [{'label': 'LABEL_5', 'score': 0.7514266967773438}], [{'label': 'LABEL_3', 'score': 0.5378669500350952}], [{'label': 'LABEL_0', 'score': 0.9945031404495239}], [{'label': 'LABEL_7', 'score': 0.8684359192848206}], [{'label': 'LABEL_3', 'score': 0.9973610043525696}], [{'label': 'LABEL_5', 'score': 0.7870598435401917}], [{'label': 'LABEL_5', 'score': 0.48923590779304504}], [{'label': 'LABEL_7', 'score': 0.4496378004550934}], [{'label': 'LABEL_2', 'score': 0.9951830506324768}], [{'label': 'LABEL_3', 'score': 0.9511876702308655}], [{'label': 'LABEL_5', 'score': 0.9153192639350891}], [{'label': 'LABEL_6', 'score': 0.9967691898345947}], [{'label': 'LABEL_6', 'score': 0.9966852068901062}], [{'label': 'LABEL_0', 'score': 0.7450610399246216}], [{'label': 'LABEL_2', 'score': 0.9953806400299072}], [{'label': 'LABEL_3', 'score': 0.9975854158401489}], [{'label': 'LABEL_3', 'score': 0.9975595474243164}], [{'label': 'LABEL_5', 'score': 0.9624245762825012}], [{'label': 'LABEL_6', 'score': 0.9959575533866882}], [{'label': 'LABEL_5', 'score': 0.415139764547348}], [{'label': 'LABEL_2', 'score': 0.9950909614562988}], [{'label': 'LABEL_2', 'score': 0.9951678514480591}], [{'label': 'LABEL_2', 'score': 0.9923680424690247}], [{'label': 'LABEL_3', 'score': 0.9971375465393066}], [{'label': 'LABEL_3', 'score': 0.9970443844795227}], [{'label': 'LABEL_0', 'score': 0.9949349761009216}], [{'label': 'LABEL_3', 'score': 0.9976924657821655}], [{'label': 'LABEL_7', 'score': 0.6601507663726807}], [{'label': 'LABEL_3', 'score': 0.9954442977905273}], [{'label': 'LABEL_0', 'score': 0.44689127802848816}], [{'label': 'LABEL_2', 'score': 0.9948304295539856}], [{'label': 'LABEL_3', 'score': 0.8245002031326294}], [{'label': 'LABEL_0', 'score': 0.9939430356025696}], [{'label': 'LABEL_4', 'score': 0.9885931015014648}], [{'label': 'LABEL_4', 'score': 0.9844248294830322}], [{'label': 'LABEL_3', 'score': 0.9974276423454285}], [{'label': 'LABEL_5', 'score': 0.8162423968315125}], [{'label': 'LABEL_5', 'score': 0.4850372076034546}], [{'label': 'LABEL_7', 'score': 0.8831725716590881}], [{'label': 'LABEL_6', 'score': 0.9966545104980469}], [{'label': 'LABEL_5', 'score': 0.6904425621032715}], [{'label': 'LABEL_3', 'score': 0.9974368810653687}], [{'label': 'LABEL_6', 'score': 0.9969825148582458}], [{'label': 'LABEL_6', 'score': 0.981397271156311}], [{'label': 'LABEL_0', 'score': 0.9949302077293396}], [{'label': 'LABEL_5', 'score': 0.8594681620597839}], [{'label': 'LABEL_3', 'score': 0.5776416659355164}], [{'label': 'LABEL_7', 'score': 0.8415996432304382}], [{'label': 'LABEL_6', 'score': 0.9958761930465698}], [{'label': 'LABEL_3', 'score': 0.9974702596664429}], [{'label': 'LABEL_6', 'score': 0.9956645369529724}], [{'label': 'LABEL_6', 'score': 0.9967868328094482}], [{'label': 'LABEL_5', 'score': 0.6071940660476685}], [{'label': 'LABEL_7', 'score': 0.971452534198761}], [{'label': 'LABEL_3', 'score': 0.9973268508911133}], [{'label': 'LABEL_5', 'score': 0.7020059823989868}], [{'label': 'LABEL_0', 'score': 0.8871403932571411}], [{'label': 'LABEL_5', 'score': 0.6505500674247742}], [{'label': 'LABEL_6', 'score': 0.9968056678771973}], [{'label': 'LABEL_0', 'score': 0.994843602180481}], [{'label': 'LABEL_0', 'score': 0.9948194622993469}], [{'label': 'LABEL_4', 'score': 0.9899888038635254}], [{'label': 'LABEL_6', 'score': 0.9963079690933228}], [{'label': 'LABEL_2', 'score': 0.9950909614562988}], [{'label': 'LABEL_3', 'score': 0.9964917302131653}], [{'label': 'LABEL_3', 'score': 0.9973465204238892}], [{'label': 'LABEL_7', 'score': 0.5407636761665344}], [{'label': 'LABEL_3', 'score': 0.8936462998390198}], [{'label': 'LABEL_3', 'score': 0.9975953698158264}], [{'label': 'LABEL_3', 'score': 0.9977039694786072}], [{'label': 'LABEL_0', 'score': 0.9946671724319458}], [{'label': 'LABEL_3', 'score': 0.9975989460945129}], [{'label': 'LABEL_4', 'score': 0.7520578503608704}], [{'label': 'LABEL_5', 'score': 0.7034336924552917}], [{'label': 'LABEL_4', 'score': 0.991043210029602}], [{'label': 'LABEL_0', 'score': 0.6779361963272095}], [{'label': 'LABEL_3', 'score': 0.9966657757759094}], [{'label': 'LABEL_3', 'score': 0.9974731802940369}], [{'label': 'LABEL_3', 'score': 0.6693058013916016}], [{'label': 'LABEL_5', 'score': 0.9494112730026245}], [{'label': 'LABEL_3', 'score': 0.8546206951141357}], [{'label': 'LABEL_2', 'score': 0.6535488367080688}], [{'label': 'LABEL_5', 'score': 0.7888230681419373}], [{'label': 'LABEL_5', 'score': 0.7084887623786926}], [{'label': 'LABEL_3', 'score': 0.9975698590278625}], [{'label': 'LABEL_0', 'score': 0.9933871626853943}], [{'label': 'LABEL_3', 'score': 0.9974229335784912}], [{'label': 'LABEL_3', 'score': 0.9975080490112305}], [{'label': 'LABEL_3', 'score': 0.5050948262214661}], [{'label': 'LABEL_6', 'score': 0.6804111003875732}], [{'label': 'LABEL_5', 'score': 0.7427281141281128}], [{'label': 'LABEL_0', 'score': 0.33870187401771545}], [{'label': 'LABEL_5', 'score': 0.6130521893501282}], [{'label': 'LABEL_0', 'score': 0.9945306181907654}], [{'label': 'LABEL_6', 'score': 0.9962916374206543}], [{'label': 'LABEL_3', 'score': 0.9974744915962219}], [{'label': 'LABEL_3', 'score': 0.9971164464950562}], [{'label': 'LABEL_7', 'score': 0.9582430124282837}], [{'label': 'LABEL_3', 'score': 0.9977309107780457}], [{'label': 'LABEL_6', 'score': 0.9970079064369202}], [{'label': 'LABEL_5', 'score': 0.9509585499763489}], [{'label': 'LABEL_6', 'score': 0.7673920392990112}], [{'label': 'LABEL_6', 'score': 0.9968098998069763}], [{'label': 'LABEL_5', 'score': 0.4573092460632324}], [{'label': 'LABEL_5', 'score': 0.9617856740951538}], [{'label': 'LABEL_0', 'score': 0.734578549861908}], [{'label': 'LABEL_4', 'score': 0.9890455007553101}], [{'label': 'LABEL_5', 'score': 0.9304510354995728}], [{'label': 'LABEL_3', 'score': 0.9959261417388916}], [{'label': 'LABEL_5', 'score': 0.9593285918235779}], [{'label': 'LABEL_5', 'score': 0.9625387787818909}], [{'label': 'LABEL_3', 'score': 0.9767012596130371}], [{'label': 'LABEL_5', 'score': 0.9256709814071655}], [{'label': 'LABEL_0', 'score': 0.8838759660720825}], [{'label': 'LABEL_3', 'score': 0.997634768486023}], [{'label': 'LABEL_6', 'score': 0.6343675851821899}], [{'label': 'LABEL_5', 'score': 0.2710408866405487}], [{'label': 'LABEL_5', 'score': 0.9174296855926514}], [{'label': 'LABEL_2', 'score': 0.9949797987937927}], [{'label': 'LABEL_2', 'score': 0.9948171973228455}], [{'label': 'LABEL_6', 'score': 0.9968043565750122}], [{'label': 'LABEL_3', 'score': 0.9968876242637634}], [{'label': 'LABEL_6', 'score': 0.7362766265869141}], [{'label': 'LABEL_5', 'score': 0.9691572189331055}], [{'label': 'LABEL_3', 'score': 0.9976996779441833}], [{'label': 'LABEL_0', 'score': 0.9945597052574158}], [{'label': 'LABEL_3', 'score': 0.9976699948310852}], [{'label': 'LABEL_6', 'score': 0.9968553781509399}], [{'label': 'LABEL_6', 'score': 0.9967939257621765}], [{'label': 'LABEL_5', 'score': 0.9087342023849487}], [{'label': 'LABEL_3', 'score': 0.9966789484024048}], [{'label': 'LABEL_3', 'score': 0.9974122643470764}], [{'label': 'LABEL_6', 'score': 0.9967343807220459}], [{'label': 'LABEL_5', 'score': 0.5968201756477356}], [{'label': 'LABEL_3', 'score': 0.9975409507751465}], [{'label': 'LABEL_6', 'score': 0.9951514005661011}], [{'label': 'LABEL_5', 'score': 0.7422799468040466}], [{'label': 'LABEL_0', 'score': 0.9922284483909607}], [{'label': 'LABEL_2', 'score': 0.9923478364944458}], [{'label': 'LABEL_0', 'score': 0.3375754654407501}], [{'label': 'LABEL_6', 'score': 0.9962856769561768}], [{'label': 'LABEL_3', 'score': 0.9973207116127014}], [{'label': 'LABEL_5', 'score': 0.9282368421554565}], [{'label': 'LABEL_2', 'score': 0.9945570230484009}], [{'label': 'LABEL_5', 'score': 0.9103549122810364}], [{'label': 'LABEL_7', 'score': 0.8089878559112549}], [{'label': 'LABEL_6', 'score': 0.9967094659805298}], [{'label': 'LABEL_3', 'score': 0.9975878000259399}], [{'label': 'LABEL_3', 'score': 0.9970577955245972}], [{'label': 'LABEL_4', 'score': 0.9886215329170227}], [{'label': 'LABEL_6', 'score': 0.9967693090438843}], [{'label': 'LABEL_2', 'score': 0.987877607345581}], [{'label': 'LABEL_6', 'score': 0.9965782761573792}], [{'label': 'LABEL_3', 'score': 0.9971399307250977}], [{'label': 'LABEL_2', 'score': 0.9947466254234314}], [{'label': 'LABEL_2', 'score': 0.992708146572113}], [{'label': 'LABEL_6', 'score': 0.9967952370643616}], [{'label': 'LABEL_5', 'score': 0.7068893313407898}], [{'label': 'LABEL_6', 'score': 0.9968618154525757}], [{'label': 'LABEL_0', 'score': 0.6414673924446106}], [{'label': 'LABEL_3', 'score': 0.9957833290100098}], [{'label': 'LABEL_2', 'score': 0.994907557964325}], [{'label': 'LABEL_3', 'score': 0.9976031184196472}], [{'label': 'LABEL_6', 'score': 0.9960224032402039}], [{'label': 'LABEL_3', 'score': 0.5153533816337585}], [{'label': 'LABEL_3', 'score': 0.7803108096122742}], [{'label': 'LABEL_7', 'score': 0.971452534198761}], [{'label': 'LABEL_6', 'score': 0.9965709447860718}], [{'label': 'LABEL_3', 'score': 0.993966817855835}], [{'label': 'LABEL_2', 'score': 0.9951516389846802}], [{'label': 'LABEL_5', 'score': 0.9307925701141357}], [{'label': 'LABEL_0', 'score': 0.9929526448249817}], [{'label': 'LABEL_0', 'score': 0.9947490096092224}], [{'label': 'LABEL_0', 'score': 0.8488149642944336}], [{'label': 'LABEL_3', 'score': 0.9960380792617798}], [{'label': 'LABEL_3', 'score': 0.9970270991325378}], [{'label': 'LABEL_5', 'score': 0.9056713581085205}], [{'label': 'LABEL_3', 'score': 0.9797119498252869}], [{'label': 'LABEL_5', 'score': 0.9584379196166992}], [{'label': 'LABEL_5', 'score': 0.9368835687637329}], [{'label': 'LABEL_6', 'score': 0.996928870677948}], [{'label': 'LABEL_5', 'score': 0.9514413475990295}], [{'label': 'LABEL_3', 'score': 0.9972389936447144}], [{'label': 'LABEL_0', 'score': 0.9947051405906677}], [{'label': 'LABEL_3', 'score': 0.9967283010482788}], [{'label': 'LABEL_2', 'score': 0.9935930371284485}], [{'label': 'LABEL_6', 'score': 0.9960762858390808}], [{'label': 'LABEL_6', 'score': 0.418015718460083}], [{'label': 'LABEL_6', 'score': 0.36795076727867126}], [{'label': 'LABEL_0', 'score': 0.9950248599052429}], [{'label': 'LABEL_3', 'score': 0.9977117776870728}], [{'label': 'LABEL_5', 'score': 0.8620361089706421}], [{'label': 'LABEL_0', 'score': 0.4515734910964966}], [{'label': 'LABEL_7', 'score': 0.6067004799842834}], [{'label': 'LABEL_7', 'score': 0.5059942007064819}], [{'label': 'LABEL_0', 'score': 0.9943546056747437}], [{'label': 'LABEL_5', 'score': 0.7877349257469177}], [{'label': 'LABEL_6', 'score': 0.9962723255157471}], [{'label': 'LABEL_5', 'score': 0.9451325535774231}], [{'label': 'LABEL_3', 'score': 0.9973762035369873}], [{'label': 'LABEL_2', 'score': 0.5214225649833679}], [{'label': 'LABEL_3', 'score': 0.9964780211448669}], [{'label': 'LABEL_5', 'score': 0.6024404764175415}], [{'label': 'LABEL_5', 'score': 0.9366462826728821}], [{'label': 'LABEL_0', 'score': 0.9951308965682983}], [{'label': 'LABEL_5', 'score': 0.9298644065856934}], [{'label': 'LABEL_6', 'score': 0.9965659976005554}], [{'label': 'LABEL_5', 'score': 0.8961102366447449}], [{'label': 'LABEL_7', 'score': 0.36668089032173157}], [{'label': 'LABEL_3', 'score': 0.9969555139541626}], [{'label': 'LABEL_5', 'score': 0.9344837069511414}], [{'label': 'LABEL_7', 'score': 0.5420530438423157}], [{'label': 'LABEL_3', 'score': 0.9959536790847778}], [{'label': 'LABEL_4', 'score': 0.7977677583694458}], [{'label': 'LABEL_6', 'score': 0.9956489205360413}], [{'label': 'LABEL_4', 'score': 0.9902156591415405}], [{'label': 'LABEL_3', 'score': 0.9963441491127014}], [{'label': 'LABEL_2', 'score': 0.9951779842376709}], [{'label': 'LABEL_5', 'score': 0.9116045832633972}], [{'label': 'LABEL_4', 'score': 0.7961504459381104}], [{'label': 'LABEL_5', 'score': 0.8804841637611389}], [{'label': 'LABEL_5', 'score': 0.6609384417533875}], [{'label': 'LABEL_0', 'score': 0.9944983124732971}], [{'label': 'LABEL_4', 'score': 0.8905981183052063}], [{'label': 'LABEL_3', 'score': 0.9960629343986511}], [{'label': 'LABEL_3', 'score': 0.9970811009407043}], [{'label': 'LABEL_2', 'score': 0.9904800057411194}], [{'label': 'LABEL_3', 'score': 0.5349435210227966}], [{'label': 'LABEL_3', 'score': 0.9970813393592834}], [{'label': 'LABEL_6', 'score': 0.9967921376228333}], [{'label': 'LABEL_3', 'score': 0.9973106384277344}], [{'label': 'LABEL_3', 'score': 0.9970788955688477}], [{'label': 'LABEL_3', 'score': 0.9973835349082947}], [{'label': 'LABEL_7', 'score': 0.9824023842811584}], [{'label': 'LABEL_5', 'score': 0.5904661417007446}], [{'label': 'LABEL_3', 'score': 0.9867532849311829}], [{'label': 'LABEL_0', 'score': 0.9949808716773987}], [{'label': 'LABEL_2', 'score': 0.9950990080833435}], [{'label': 'LABEL_7', 'score': 0.977157711982727}], [{'label': 'LABEL_6', 'score': 0.9967537522315979}], [{'label': 'LABEL_3', 'score': 0.9361426830291748}], [{'label': 'LABEL_4', 'score': 0.9888685941696167}], [{'label': 'LABEL_6', 'score': 0.9959050416946411}], [{'label': 'LABEL_5', 'score': 0.3346596360206604}], [{'label': 'LABEL_3', 'score': 0.5914639830589294}], [{'label': 'LABEL_5', 'score': 0.658249020576477}], [{'label': 'LABEL_5', 'score': 0.8423357009887695}], [{'label': 'LABEL_2', 'score': 0.9951809644699097}], [{'label': 'LABEL_6', 'score': 0.6308103203773499}], [{'label': 'LABEL_2', 'score': 0.994602620601654}], [{'label': 'LABEL_6', 'score': 0.9966447353363037}], [{'label': 'LABEL_3', 'score': 0.9974616765975952}], [{'label': 'LABEL_3', 'score': 0.9969215989112854}], [{'label': 'LABEL_6', 'score': 0.4963259994983673}], [{'label': 'LABEL_5', 'score': 0.972189724445343}], [{'label': 'LABEL_0', 'score': 0.41523829102516174}], [{'label': 'LABEL_4', 'score': 0.9896525740623474}], [{'label': 'LABEL_3', 'score': 0.6374887824058533}], [{'label': 'LABEL_6', 'score': 0.9962019324302673}], [{'label': 'LABEL_6', 'score': 0.7649256587028503}], [{'label': 'LABEL_3', 'score': 0.9972450733184814}], [{'label': 'LABEL_6', 'score': 0.9952976107597351}], [{'label': 'LABEL_6', 'score': 0.9960124492645264}], [{'label': 'LABEL_3', 'score': 0.9974107146263123}], [{'label': 'LABEL_2', 'score': 0.36845704913139343}], [{'label': 'LABEL_3', 'score': 0.9975443482398987}], [{'label': 'LABEL_4', 'score': 0.9896939396858215}], [{'label': 'LABEL_2', 'score': 0.9938704967498779}], [{'label': 'LABEL_6', 'score': 0.9969980716705322}], [{'label': 'LABEL_2', 'score': 0.9895483255386353}], [{'label': 'LABEL_3', 'score': 0.9976619482040405}], [{'label': 'LABEL_5', 'score': 0.946994423866272}], [{'label': 'LABEL_4', 'score': 0.6151629686355591}], [{'label': 'LABEL_0', 'score': 0.9940748810768127}], [{'label': 'LABEL_5', 'score': 0.9052307605743408}], [{'label': 'LABEL_4', 'score': 0.9894599914550781}], [{'label': 'LABEL_6', 'score': 0.9958066940307617}], [{'label': 'LABEL_2', 'score': 0.9938668608665466}], [{'label': 'LABEL_5', 'score': 0.9482617378234863}], [{'label': 'LABEL_5', 'score': 0.30460238456726074}], [{'label': 'LABEL_0', 'score': 0.4890289008617401}], [{'label': 'LABEL_7', 'score': 0.3309585452079773}], [{'label': 'LABEL_5', 'score': 0.9565000534057617}], [{'label': 'LABEL_5', 'score': 0.8450884222984314}], [{'label': 'LABEL_3', 'score': 0.9972202777862549}], [{'label': 'LABEL_3', 'score': 0.9972412586212158}], [{'label': 'LABEL_4', 'score': 0.978135347366333}], [{'label': 'LABEL_4', 'score': 0.9880951642990112}], [{'label': 'LABEL_5', 'score': 0.7335878610610962}], [{'label': 'LABEL_6', 'score': 0.996547520160675}], [{'label': 'LABEL_3', 'score': 0.992982029914856}], [{'label': 'LABEL_3', 'score': 0.863248884677887}], [{'label': 'LABEL_3', 'score': 0.9971480965614319}], [{'label': 'LABEL_3', 'score': 0.9970031380653381}], [{'label': 'LABEL_4', 'score': 0.9898760914802551}], [{'label': 'LABEL_6', 'score': 0.9968793392181396}], [{'label': 'LABEL_0', 'score': 0.730452835559845}], [{'label': 'LABEL_5', 'score': 0.9278004169464111}], [{'label': 'LABEL_6', 'score': 0.9967250227928162}], [{'label': 'LABEL_3', 'score': 0.9612966179847717}], [{'label': 'LABEL_3', 'score': 0.8100202083587646}], [{'label': 'LABEL_2', 'score': 0.995227575302124}], [{'label': 'LABEL_3', 'score': 0.9973387122154236}], [{'label': 'LABEL_3', 'score': 0.9966283440589905}], [{'label': 'LABEL_6', 'score': 0.9964606165885925}], [{'label': 'LABEL_5', 'score': 0.9504223465919495}], [{'label': 'LABEL_2', 'score': 0.5069484114646912}], [{'label': 'LABEL_3', 'score': 0.9975478053092957}], [{'label': 'LABEL_7', 'score': 0.8828966021537781}], [{'label': 'LABEL_7', 'score': 0.6439748406410217}], [{'label': 'LABEL_3', 'score': 0.6780329942703247}], [{'label': 'LABEL_5', 'score': 0.8982152342796326}], [{'label': 'LABEL_4', 'score': 0.9695162177085876}], [{'label': 'LABEL_4', 'score': 0.5750471353530884}], [{'label': 'LABEL_5', 'score': 0.7213744521141052}], [{'label': 'LABEL_7', 'score': 0.9755884408950806}], [{'label': 'LABEL_3', 'score': 0.4368126690387726}], [{'label': 'LABEL_3', 'score': 0.9976669549942017}], [{'label': 'LABEL_7', 'score': 0.8395653367042542}], [{'label': 'LABEL_6', 'score': 0.9964130520820618}], [{'label': 'LABEL_6', 'score': 0.9961614608764648}], [{'label': 'LABEL_6', 'score': 0.9968211650848389}], [{'label': 'LABEL_6', 'score': 0.9966073036193848}], [{'label': 'LABEL_7', 'score': 0.4005352258682251}], [{'label': 'LABEL_0', 'score': 0.9935522079467773}], [{'label': 'LABEL_6', 'score': 0.9966198205947876}], [{'label': 'LABEL_5', 'score': 0.44543352723121643}], [{'label': 'LABEL_5', 'score': 0.6456440687179565}], [{'label': 'LABEL_6', 'score': 0.9967184662818909}], [{'label': 'LABEL_5', 'score': 0.9167396426200867}], [{'label': 'LABEL_5', 'score': 0.9600260853767395}], [{'label': 'LABEL_5', 'score': 0.9537191987037659}], [{'label': 'LABEL_3', 'score': 0.997620165348053}], [{'label': 'LABEL_5', 'score': 0.8980598449707031}], [{'label': 'LABEL_6', 'score': 0.9964983463287354}], [{'label': 'LABEL_5', 'score': 0.3903486132621765}], [{'label': 'LABEL_7', 'score': 0.4168314039707184}], [{'label': 'LABEL_6', 'score': 0.9967252612113953}], [{'label': 'LABEL_6', 'score': 0.9964808821678162}], [{'label': 'LABEL_3', 'score': 0.9975841045379639}], [{'label': 'LABEL_3', 'score': 0.9684564471244812}], [{'label': 'LABEL_2', 'score': 0.9927018880844116}], [{'label': 'LABEL_3', 'score': 0.9959965944290161}], [{'label': 'LABEL_5', 'score': 0.9691572189331055}], [{'label': 'LABEL_7', 'score': 0.9796870946884155}], [{'label': 'LABEL_2', 'score': 0.6813617944717407}], [{'label': 'LABEL_6', 'score': 0.9961404204368591}], [{'label': 'LABEL_6', 'score': 0.9967653751373291}], [{'label': 'LABEL_3', 'score': 0.9975692629814148}], [{'label': 'LABEL_5', 'score': 0.9535219073295593}], [{'label': 'LABEL_6', 'score': 0.9968493580818176}], [{'label': 'LABEL_0', 'score': 0.4529796242713928}], [{'label': 'LABEL_3', 'score': 0.9864833950996399}], [{'label': 'LABEL_6', 'score': 0.9969133138656616}], [{'label': 'LABEL_4', 'score': 0.9876147508621216}], [{'label': 'LABEL_6', 'score': 0.9966417551040649}], [{'label': 'LABEL_3', 'score': 0.9973119497299194}], [{'label': 'LABEL_6', 'score': 0.996806263923645}], [{'label': 'LABEL_5', 'score': 0.9512434601783752}], [{'label': 'LABEL_3', 'score': 0.996748685836792}], [{'label': 'LABEL_0', 'score': 0.6120810508728027}], [{'label': 'LABEL_5', 'score': 0.8601065278053284}], [{'label': 'LABEL_2', 'score': 0.9952191710472107}], [{'label': 'LABEL_6', 'score': 0.9966025352478027}], [{'label': 'LABEL_3', 'score': 0.9977297186851501}], [{'label': 'LABEL_6', 'score': 0.996025562286377}], [{'label': 'LABEL_2', 'score': 0.992953360080719}], [{'label': 'LABEL_0', 'score': 0.9939942955970764}], [{'label': 'LABEL_5', 'score': 0.44154155254364014}], [{'label': 'LABEL_0', 'score': 0.8106042742729187}], [{'label': 'LABEL_7', 'score': 0.4981064200401306}], [{'label': 'LABEL_3', 'score': 0.9972990155220032}], [{'label': 'LABEL_0', 'score': 0.778186023235321}], [{'label': 'LABEL_6', 'score': 0.9967766404151917}], [{'label': 'LABEL_3', 'score': 0.9972102046012878}], [{'label': 'LABEL_3', 'score': 0.9974187612533569}], [{'label': 'LABEL_6', 'score': 0.9966604709625244}], [{'label': 'LABEL_6', 'score': 0.9969694018363953}], [{'label': 'LABEL_4', 'score': 0.9386085867881775}], [{'label': 'LABEL_5', 'score': 0.5166800022125244}], [{'label': 'LABEL_3', 'score': 0.979327380657196}], [{'label': 'LABEL_3', 'score': 0.9973209500312805}], [{'label': 'LABEL_3', 'score': 0.9964306950569153}], [{'label': 'LABEL_0', 'score': 0.9946164488792419}], [{'label': 'LABEL_5', 'score': 0.9386701583862305}], [{'label': 'LABEL_5', 'score': 0.938337504863739}], [{'label': 'LABEL_6', 'score': 0.8013139367103577}], [{'label': 'LABEL_5', 'score': 0.8530550599098206}], [{'label': 'LABEL_0', 'score': 0.9945587515830994}], [{'label': 'LABEL_0', 'score': 0.9949235320091248}], [{'label': 'LABEL_6', 'score': 0.9969347715377808}], [{'label': 'LABEL_0', 'score': 0.9949187636375427}], [{'label': 'LABEL_6', 'score': 0.7449140548706055}], [{'label': 'LABEL_3', 'score': 0.9972541928291321}], [{'label': 'LABEL_5', 'score': 0.6260793805122375}], [{'label': 'LABEL_3', 'score': 0.9977548718452454}], [{'label': 'LABEL_6', 'score': 0.9964878559112549}], [{'label': 'LABEL_4', 'score': 0.989816427230835}], [{'label': 'LABEL_3', 'score': 0.9975922703742981}], [{'label': 'LABEL_3', 'score': 0.5794293284416199}], [{'label': 'LABEL_5', 'score': 0.9625439643859863}], [{'label': 'LABEL_4', 'score': 0.9887874722480774}], [{'label': 'LABEL_7', 'score': 0.9776374101638794}], [{'label': 'LABEL_3', 'score': 0.5794293284416199}], [{'label': 'LABEL_5', 'score': 0.9399851560592651}], [{'label': 'LABEL_0', 'score': 0.9948574304580688}], [{'label': 'LABEL_3', 'score': 0.9773862361907959}], [{'label': 'LABEL_5', 'score': 0.6868603825569153}], [{'label': 'LABEL_3', 'score': 0.9756824970245361}], [{'label': 'LABEL_5', 'score': 0.9546834826469421}], [{'label': 'LABEL_6', 'score': 0.9968999624252319}], [{'label': 'LABEL_6', 'score': 0.9961896538734436}], [{'label': 'LABEL_4', 'score': 0.9868469834327698}], [{'label': 'LABEL_3', 'score': 0.485013872385025}], [{'label': 'LABEL_3', 'score': 0.9967169165611267}], [{'label': 'LABEL_0', 'score': 0.3202584981918335}], [{'label': 'LABEL_3', 'score': 0.9848304986953735}], [{'label': 'LABEL_5', 'score': 0.9173479080200195}], [{'label': 'LABEL_6', 'score': 0.9968595504760742}], [{'label': 'LABEL_3', 'score': 0.9918112754821777}], [{'label': 'LABEL_3', 'score': 0.9973767995834351}], [{'label': 'LABEL_3', 'score': 0.9919025301933289}], [{'label': 'LABEL_3', 'score': 0.9975079298019409}], [{'label': 'LABEL_6', 'score': 0.9965782761573792}], [{'label': 'LABEL_5', 'score': 0.58254474401474}], [{'label': 'LABEL_5', 'score': 0.7202010154724121}], [{'label': 'LABEL_5', 'score': 0.8259696960449219}], [{'label': 'LABEL_3', 'score': 0.5776278972625732}], [{'label': 'LABEL_7', 'score': 0.9811770915985107}], [{'label': 'LABEL_0', 'score': 0.5226292014122009}], [{'label': 'LABEL_3', 'score': 0.786213755607605}], [{'label': 'LABEL_0', 'score': 0.9948487281799316}], [{'label': 'LABEL_0', 'score': 0.9943312406539917}], [{'label': 'LABEL_0', 'score': 0.9947591423988342}], [{'label': 'LABEL_3', 'score': 0.9973219037055969}], [{'label': 'LABEL_0', 'score': 0.9945652484893799}], [{'label': 'LABEL_3', 'score': 0.8280422687530518}], [{'label': 'LABEL_3', 'score': 0.9328401684761047}], [{'label': 'LABEL_0', 'score': 0.9938056468963623}], [{'label': 'LABEL_6', 'score': 0.9476615190505981}], [{'label': 'LABEL_6', 'score': 0.8193157911300659}], [{'label': 'LABEL_3', 'score': 0.9969520568847656}], [{'label': 'LABEL_6', 'score': 0.996833860874176}], [{'label': 'LABEL_6', 'score': 0.9966151118278503}], [{'label': 'LABEL_3', 'score': 0.9974580407142639}], [{'label': 'LABEL_3', 'score': 0.9973130822181702}], [{'label': 'LABEL_3', 'score': 0.9969189167022705}], [{'label': 'LABEL_6', 'score': 0.778872549533844}], [{'label': 'LABEL_0', 'score': 0.9946308135986328}], [{'label': 'LABEL_6', 'score': 0.6819460391998291}], [{'label': 'LABEL_3', 'score': 0.9976884126663208}], [{'label': 'LABEL_0', 'score': 0.9941272735595703}], [{'label': 'LABEL_6', 'score': 0.9967363476753235}], [{'label': 'LABEL_6', 'score': 0.9011296629905701}], [{'label': 'LABEL_3', 'score': 0.9966253042221069}], [{'label': 'LABEL_3', 'score': 0.9970920085906982}], [{'label': 'LABEL_0', 'score': 0.9931327700614929}], [{'label': 'LABEL_0', 'score': 0.30833470821380615}], [{'label': 'LABEL_5', 'score': 0.9039831161499023}], [{'label': 'LABEL_6', 'score': 0.9962356686592102}], [{'label': 'LABEL_5', 'score': 0.7092390060424805}], [{'label': 'LABEL_3', 'score': 0.9970767498016357}], [{'label': 'LABEL_0', 'score': 0.9723516702651978}], [{'label': 'LABEL_7', 'score': 0.7660200595855713}], [{'label': 'LABEL_4', 'score': 0.9871042966842651}], [{'label': 'LABEL_0', 'score': 0.6348865032196045}], [{'label': 'LABEL_4', 'score': 0.9892659187316895}], [{'label': 'LABEL_3', 'score': 0.9977028965950012}], [{'label': 'LABEL_0', 'score': 0.4249041974544525}], [{'label': 'LABEL_3', 'score': 0.9972642660140991}], [{'label': 'LABEL_3', 'score': 0.9975294470787048}], [{'label': 'LABEL_3', 'score': 0.9974877834320068}], [{'label': 'LABEL_5', 'score': 0.3381533622741699}], [{'label': 'LABEL_0', 'score': 0.981306254863739}], [{'label': 'LABEL_6', 'score': 0.9968377351760864}], [{'label': 'LABEL_3', 'score': 0.9814965724945068}], [{'label': 'LABEL_7', 'score': 0.5422999262809753}], [{'label': 'LABEL_6', 'score': 0.7604302763938904}], [{'label': 'LABEL_7', 'score': 0.9685369729995728}], [{'label': 'LABEL_3', 'score': 0.9969185590744019}], [{'label': 'LABEL_4', 'score': 0.9900562763214111}], [{'label': 'LABEL_7', 'score': 0.9740641117095947}], [{'label': 'LABEL_0', 'score': 0.9946046471595764}], [{'label': 'LABEL_0', 'score': 0.9943081736564636}], [{'label': 'LABEL_3', 'score': 0.938414454460144}], [{'label': 'LABEL_4', 'score': 0.9901494979858398}], [{'label': 'LABEL_5', 'score': 0.9172253012657166}], [{'label': 'LABEL_0', 'score': 0.9929981231689453}], [{'label': 'LABEL_0', 'score': 0.8598431348800659}], [{'label': 'LABEL_6', 'score': 0.9968892931938171}], [{'label': 'LABEL_3', 'score': 0.48722130060195923}], [{'label': 'LABEL_2', 'score': 0.9940885305404663}], [{'label': 'LABEL_3', 'score': 0.9906417727470398}], [{'label': 'LABEL_3', 'score': 0.8040524125099182}], [{'label': 'LABEL_0', 'score': 0.9946653842926025}], [{'label': 'LABEL_6', 'score': 0.9968165755271912}], [{'label': 'LABEL_6', 'score': 0.996709942817688}], [{'label': 'LABEL_6', 'score': 0.9967267513275146}], [{'label': 'LABEL_3', 'score': 0.9964392781257629}], [{'label': 'LABEL_6', 'score': 0.9962215423583984}], [{'label': 'LABEL_0', 'score': 0.6693137884140015}], [{'label': 'LABEL_3', 'score': 0.9976359605789185}], [{'label': 'LABEL_2', 'score': 0.9944732785224915}], [{'label': 'LABEL_2', 'score': 0.9951657056808472}], [{'label': 'LABEL_5', 'score': 0.935548722743988}], [{'label': 'LABEL_5', 'score': 0.42613112926483154}], [{'label': 'LABEL_6', 'score': 0.996720016002655}], [{'label': 'LABEL_6', 'score': 0.440132737159729}], [{'label': 'LABEL_7', 'score': 0.9404836297035217}], [{'label': 'LABEL_5', 'score': 0.9035109877586365}], [{'label': 'LABEL_4', 'score': 0.8922873735427856}], [{'label': 'LABEL_0', 'score': 0.9947007894515991}], [{'label': 'LABEL_4', 'score': 0.8244117498397827}], [{'label': 'LABEL_0', 'score': 0.5424267053604126}], [{'label': 'LABEL_3', 'score': 0.9969869256019592}], [{'label': 'LABEL_3', 'score': 0.9963183403015137}], [{'label': 'LABEL_3', 'score': 0.8544110655784607}], [{'label': 'LABEL_6', 'score': 0.9966849684715271}], [{'label': 'LABEL_3', 'score': 0.7466500997543335}], [{'label': 'LABEL_2', 'score': 0.28450530767440796}], [{'label': 'LABEL_3', 'score': 0.9727087020874023}], [{'label': 'LABEL_0', 'score': 0.993922770023346}], [{'label': 'LABEL_0', 'score': 0.6035330891609192}], [{'label': 'LABEL_5', 'score': 0.7242045998573303}], [{'label': 'LABEL_3', 'score': 0.9972986578941345}], [{'label': 'LABEL_6', 'score': 0.9964706897735596}], [{'label': 'LABEL_6', 'score': 0.9966630339622498}], [{'label': 'LABEL_0', 'score': 0.994373083114624}], [{'label': 'LABEL_0', 'score': 0.34280911087989807}], [{'label': 'LABEL_3', 'score': 0.9970359802246094}], [{'label': 'LABEL_4', 'score': 0.9699832201004028}], [{'label': 'LABEL_5', 'score': 0.9650004506111145}], [{'label': 'LABEL_5', 'score': 0.9612240195274353}], [{'label': 'LABEL_7', 'score': 0.7953503131866455}], [{'label': 'LABEL_5', 'score': 0.9353042244911194}], [{'label': 'LABEL_5', 'score': 0.90386962890625}], [{'label': 'LABEL_5', 'score': 0.7561343908309937}], [{'label': 'LABEL_5', 'score': 0.5222280025482178}], [{'label': 'LABEL_0', 'score': 0.9929642677307129}], [{'label': 'LABEL_2', 'score': 0.29332199692726135}], [{'label': 'LABEL_0', 'score': 0.9947803616523743}], [{'label': 'LABEL_5', 'score': 0.9267866015434265}], [{'label': 'LABEL_3', 'score': 0.9975249171257019}], [{'label': 'LABEL_6', 'score': 0.9969075322151184}], [{'label': 'LABEL_5', 'score': 0.40499570965766907}], [{'label': 'LABEL_7', 'score': 0.4044744074344635}], [{'label': 'LABEL_6', 'score': 0.996757447719574}], [{'label': 'LABEL_3', 'score': 0.9977226853370667}], [{'label': 'LABEL_3', 'score': 0.44736313819885254}], [{'label': 'LABEL_5', 'score': 0.8086251020431519}], [{'label': 'LABEL_3', 'score': 0.9972198009490967}], [{'label': 'LABEL_0', 'score': 0.7269449830055237}], [{'label': 'LABEL_5', 'score': 0.961816668510437}], [{'label': 'LABEL_6', 'score': 0.9966649413108826}], [{'label': 'LABEL_3', 'score': 0.9967682361602783}], [{'label': 'LABEL_3', 'score': 0.9972537159919739}], [{'label': 'LABEL_5', 'score': 0.42510607838630676}], [{'label': 'LABEL_2', 'score': 0.9288985729217529}], [{'label': 'LABEL_5', 'score': 0.885194718837738}], [{'label': 'LABEL_6', 'score': 0.9963396787643433}], [{'label': 'LABEL_5', 'score': 0.9078323841094971}], [{'label': 'LABEL_0', 'score': 0.9921234250068665}], [{'label': 'LABEL_3', 'score': 0.8869384527206421}], [{'label': 'LABEL_7', 'score': 0.9760670065879822}], [{'label': 'LABEL_0', 'score': 0.9947997331619263}], [{'label': 'LABEL_3', 'score': 0.9975047707557678}], [{'label': 'LABEL_6', 'score': 0.996908962726593}], [{'label': 'LABEL_3', 'score': 0.9975109100341797}], [{'label': 'LABEL_3', 'score': 0.99760901927948}], [{'label': 'LABEL_3', 'score': 0.9971908926963806}], [{'label': 'LABEL_7', 'score': 0.8911855816841125}], [{'label': 'LABEL_6', 'score': 0.9957705140113831}], [{'label': 'LABEL_6', 'score': 0.9906713962554932}], [{'label': 'LABEL_6', 'score': 0.9968055486679077}], [{'label': 'LABEL_5', 'score': 0.8561770915985107}], [{'label': 'LABEL_6', 'score': 0.9965291619300842}], [{'label': 'LABEL_0', 'score': 0.991788923740387}], [{'label': 'LABEL_5', 'score': 0.9007007479667664}], [{'label': 'LABEL_0', 'score': 0.3427959084510803}], [{'label': 'LABEL_6', 'score': 0.9968430995941162}], [{'label': 'LABEL_2', 'score': 0.9946696162223816}], [{'label': 'LABEL_3', 'score': 0.9972177743911743}], [{'label': 'LABEL_5', 'score': 0.9568330645561218}], [{'label': 'LABEL_5', 'score': 0.9481276869773865}], [{'label': 'LABEL_3', 'score': 0.9973936080932617}], [{'label': 'LABEL_0', 'score': 0.9943610429763794}], [{'label': 'LABEL_6', 'score': 0.9961677193641663}], [{'label': 'LABEL_3', 'score': 0.9976710677146912}], [{'label': 'LABEL_5', 'score': 0.5916249752044678}], [{'label': 'LABEL_5', 'score': 0.9404146671295166}], [{'label': 'LABEL_3', 'score': 0.9397562146186829}], [{'label': 'LABEL_5', 'score': 0.8090459704399109}], [{'label': 'LABEL_3', 'score': 0.9974857568740845}], [{'label': 'LABEL_5', 'score': 0.8143187165260315}], [{'label': 'LABEL_5', 'score': 0.6409080028533936}], [{'label': 'LABEL_3', 'score': 0.9975131750106812}], [{'label': 'LABEL_5', 'score': 0.9477218389511108}], [{'label': 'LABEL_6', 'score': 0.9966034889221191}], [{'label': 'LABEL_5', 'score': 0.9603247046470642}], [{'label': 'LABEL_7', 'score': 0.34895238280296326}], [{'label': 'LABEL_0', 'score': 0.9948969483375549}], [{'label': 'LABEL_5', 'score': 0.6832690834999084}], [{'label': 'LABEL_0', 'score': 0.5106649994850159}], [{'label': 'LABEL_6', 'score': 0.5000298023223877}], [{'label': 'LABEL_2', 'score': 0.9942348599433899}], [{'label': 'LABEL_7', 'score': 0.49583664536476135}], [{'label': 'LABEL_3', 'score': 0.9975881576538086}], [{'label': 'LABEL_3', 'score': 0.9975258708000183}], [{'label': 'LABEL_3', 'score': 0.9974881410598755}], [{'label': 'LABEL_7', 'score': 0.9811323285102844}], [{'label': 'LABEL_6', 'score': 0.9967319965362549}], [{'label': 'LABEL_5', 'score': 0.9443221092224121}], [{'label': 'LABEL_3', 'score': 0.9974574446678162}], [{'label': 'LABEL_0', 'score': 0.9950214624404907}], [{'label': 'LABEL_3', 'score': 0.9766697883605957}], [{'label': 'LABEL_7', 'score': 0.5121766924858093}], [{'label': 'LABEL_3', 'score': 0.997387707233429}], [{'label': 'LABEL_3', 'score': 0.9975941777229309}], [{'label': 'LABEL_2', 'score': 0.9927679300308228}], [{'label': 'LABEL_7', 'score': 0.5436738729476929}], [{'label': 'LABEL_6', 'score': 0.9966192245483398}], [{'label': 'LABEL_0', 'score': 0.9945247173309326}], [{'label': 'LABEL_5', 'score': 0.9545698165893555}], [{'label': 'LABEL_3', 'score': 0.9976580142974854}], [{'label': 'LABEL_6', 'score': 0.9958393573760986}], [{'label': 'LABEL_5', 'score': 0.3833894729614258}], [{'label': 'LABEL_6', 'score': 0.42188000679016113}], [{'label': 'LABEL_2', 'score': 0.9817132353782654}], [{'label': 'LABEL_2', 'score': 0.9946131110191345}], [{'label': 'LABEL_6', 'score': 0.9965860843658447}], [{'label': 'LABEL_5', 'score': 0.4759206175804138}], [{'label': 'LABEL_6', 'score': 0.9969609379768372}], [{'label': 'LABEL_2', 'score': 0.9952278137207031}], [{'label': 'LABEL_3', 'score': 0.9973107576370239}], [{'label': 'LABEL_0', 'score': 0.9940869808197021}], [{'label': 'LABEL_3', 'score': 0.9958030581474304}], [{'label': 'LABEL_2', 'score': 0.5715286135673523}], [{'label': 'LABEL_3', 'score': 0.9737222194671631}], [{'label': 'LABEL_3', 'score': 0.9972161054611206}], [{'label': 'LABEL_6', 'score': 0.9964451193809509}], [{'label': 'LABEL_6', 'score': 0.9942399263381958}], [{'label': 'LABEL_6', 'score': 0.6782940626144409}], [{'label': 'LABEL_6', 'score': 0.9967039227485657}], [{'label': 'LABEL_5', 'score': 0.9698082804679871}], [{'label': 'LABEL_3', 'score': 0.9973772764205933}], [{'label': 'LABEL_7', 'score': 0.9820570945739746}], [{'label': 'LABEL_6', 'score': 0.4030910134315491}], [{'label': 'LABEL_2', 'score': 0.9948500990867615}], [{'label': 'LABEL_0', 'score': 0.6064395308494568}], [{'label': 'LABEL_6', 'score': 0.9964722394943237}], [{'label': 'LABEL_5', 'score': 0.8637650609016418}], [{'label': 'LABEL_3', 'score': 0.9970331192016602}], [{'label': 'LABEL_3', 'score': 0.409326434135437}], [{'label': 'LABEL_3', 'score': 0.997400164604187}], [{'label': 'LABEL_6', 'score': 0.9966572523117065}], [{'label': 'LABEL_0', 'score': 0.9918879866600037}], [{'label': 'LABEL_3', 'score': 0.9974064230918884}], [{'label': 'LABEL_2', 'score': 0.9940599799156189}], [{'label': 'LABEL_6', 'score': 0.5957021117210388}], [{'label': 'LABEL_3', 'score': 0.9959791898727417}], [{'label': 'LABEL_3', 'score': 0.9974270462989807}], [{'label': 'LABEL_6', 'score': 0.9966097474098206}], [{'label': 'LABEL_3', 'score': 0.9973545074462891}], [{'label': 'LABEL_3', 'score': 0.9974145889282227}], [{'label': 'LABEL_7', 'score': 0.6496734023094177}], [{'label': 'LABEL_3', 'score': 0.9946656227111816}], [{'label': 'LABEL_5', 'score': 0.9333152174949646}], [{'label': 'LABEL_7', 'score': 0.9823899269104004}], [{'label': 'LABEL_4', 'score': 0.9845792055130005}], [{'label': 'LABEL_5', 'score': 0.8933085799217224}], [{'label': 'LABEL_3', 'score': 0.9970026612281799}], [{'label': 'LABEL_3', 'score': 0.9975317716598511}], [{'label': 'LABEL_6', 'score': 0.9958114624023438}], [{'label': 'LABEL_4', 'score': 0.9886709451675415}], [{'label': 'LABEL_2', 'score': 0.9952724575996399}], [{'label': 'LABEL_0', 'score': 0.9945527911186218}], [{'label': 'LABEL_7', 'score': 0.6226894855499268}], [{'label': 'LABEL_6', 'score': 0.9961918592453003}], [{'label': 'LABEL_2', 'score': 0.994795024394989}], [{'label': 'LABEL_6', 'score': 0.9960278272628784}], [{'label': 'LABEL_3', 'score': 0.9972938895225525}], [{'label': 'LABEL_0', 'score': 0.9948424696922302}], [{'label': 'LABEL_3', 'score': 0.9965682029724121}], [{'label': 'LABEL_3', 'score': 0.9977325201034546}], [{'label': 'LABEL_6', 'score': 0.9969316720962524}], [{'label': 'LABEL_5', 'score': 0.9135139584541321}], [{'label': 'LABEL_6', 'score': 0.9969577789306641}], [{'label': 'LABEL_2', 'score': 0.9937471151351929}], [{'label': 'LABEL_3', 'score': 0.4609742760658264}], [{'label': 'LABEL_4', 'score': 0.9885832071304321}], [{'label': 'LABEL_3', 'score': 0.9976782202720642}], [{'label': 'LABEL_6', 'score': 0.7668017148971558}], [{'label': 'LABEL_6', 'score': 0.9967668056488037}], [{'label': 'LABEL_6', 'score': 0.9966655373573303}], [{'label': 'LABEL_6', 'score': 0.995877742767334}], [{'label': 'LABEL_2', 'score': 0.9929043650627136}], [{'label': 'LABEL_5', 'score': 0.9424425959587097}], [{'label': 'LABEL_2', 'score': 0.9936408400535583}], [{'label': 'LABEL_4', 'score': 0.5479885935783386}], [{'label': 'LABEL_7', 'score': 0.7012417912483215}], [{'label': 'LABEL_3', 'score': 0.5898288488388062}], [{'label': 'LABEL_5', 'score': 0.8740686178207397}], [{'label': 'LABEL_3', 'score': 0.9973676800727844}], [{'label': 'LABEL_5', 'score': 0.535389244556427}], [{'label': 'LABEL_7', 'score': 0.5691549777984619}], [{'label': 'LABEL_5', 'score': 0.9155052304267883}], [{'label': 'LABEL_5', 'score': 0.5064048171043396}], [{'label': 'LABEL_3', 'score': 0.47806283831596375}], [{'label': 'LABEL_6', 'score': 0.9969117045402527}], [{'label': 'LABEL_5', 'score': 0.9490768909454346}], [{'label': 'LABEL_3', 'score': 0.9976110458374023}], [{'label': 'LABEL_0', 'score': 0.9943743944168091}], [{'label': 'LABEL_5', 'score': 0.8755902051925659}], [{'label': 'LABEL_3', 'score': 0.9974386692047119}], [{'label': 'LABEL_6', 'score': 0.995879054069519}], [{'label': 'LABEL_5', 'score': 0.94593346118927}], [{'label': 'LABEL_5', 'score': 0.4490104913711548}], [{'label': 'LABEL_5', 'score': 0.9491333961486816}], [{'label': 'LABEL_7', 'score': 0.7420402765274048}], [{'label': 'LABEL_7', 'score': 0.42156684398651123}], [{'label': 'LABEL_5', 'score': 0.9362685084342957}], [{'label': 'LABEL_3', 'score': 0.9972889423370361}], [{'label': 'LABEL_0', 'score': 0.9929786324501038}], [{'label': 'LABEL_5', 'score': 0.6548575162887573}], [{'label': 'LABEL_4', 'score': 0.9888365268707275}], [{'label': 'LABEL_6', 'score': 0.9970447421073914}], [{'label': 'LABEL_5', 'score': 0.5231918692588806}], [{'label': 'LABEL_3', 'score': 0.9961113333702087}], [{'label': 'LABEL_3', 'score': 0.9976556301116943}], [{'label': 'LABEL_0', 'score': 0.33932891488075256}], [{'label': 'LABEL_3', 'score': 0.9967836141586304}], [{'label': 'LABEL_6', 'score': 0.9964207410812378}], [{'label': 'LABEL_6', 'score': 0.9951043128967285}], [{'label': 'LABEL_6', 'score': 0.9969817996025085}], [{'label': 'LABEL_5', 'score': 0.746803879737854}], [{'label': 'LABEL_6', 'score': 0.9969610571861267}], [{'label': 'LABEL_2', 'score': 0.9950401186943054}], [{'label': 'LABEL_7', 'score': 0.9822465777397156}], [{'label': 'LABEL_6', 'score': 0.9963860511779785}], [{'label': 'LABEL_6', 'score': 0.9968346953392029}], [{'label': 'LABEL_7', 'score': 0.6372975707054138}], [{'label': 'LABEL_2', 'score': 0.9944052696228027}], [{'label': 'LABEL_2', 'score': 0.9943906664848328}], [{'label': 'LABEL_0', 'score': 0.816182017326355}], [{'label': 'LABEL_5', 'score': 0.8564016819000244}], [{'label': 'LABEL_6', 'score': 0.9944080114364624}], [{'label': 'LABEL_7', 'score': 0.5899266600608826}], [{'label': 'LABEL_3', 'score': 0.996367335319519}], [{'label': 'LABEL_5', 'score': 0.9708512425422668}], [{'label': 'LABEL_3', 'score': 0.9073740839958191}], [{'label': 'LABEL_0', 'score': 0.8011019229888916}], [{'label': 'LABEL_3', 'score': 0.9973180890083313}], [{'label': 'LABEL_0', 'score': 0.992893397808075}], [{'label': 'LABEL_7', 'score': 0.9804965853691101}], [{'label': 'LABEL_5', 'score': 0.9336110353469849}], [{'label': 'LABEL_3', 'score': 0.7542250156402588}], [{'label': 'LABEL_0', 'score': 0.9950283169746399}], [{'label': 'LABEL_3', 'score': 0.9949498176574707}], [{'label': 'LABEL_3', 'score': 0.5797709226608276}], [{'label': 'LABEL_3', 'score': 0.9968535304069519}], [{'label': 'LABEL_6', 'score': 0.9967015385627747}], [{'label': 'LABEL_0', 'score': 0.5251734256744385}], [{'label': 'LABEL_5', 'score': 0.9638206362724304}], [{'label': 'LABEL_7', 'score': 0.9793898463249207}], [{'label': 'LABEL_6', 'score': 0.9968770742416382}], [{'label': 'LABEL_7', 'score': 0.5983269810676575}], [{'label': 'LABEL_6', 'score': 0.9970593452453613}], [{'label': 'LABEL_6', 'score': 0.9968677163124084}], [{'label': 'LABEL_0', 'score': 0.9944559931755066}], [{'label': 'LABEL_4', 'score': 0.9820922613143921}], [{'label': 'LABEL_5', 'score': 0.29331398010253906}], [{'label': 'LABEL_5', 'score': 0.669994592666626}], [{'label': 'LABEL_3', 'score': 0.9974943399429321}], [{'label': 'LABEL_0', 'score': 0.99473637342453}], [{'label': 'LABEL_6', 'score': 0.9970310926437378}], [{'label': 'LABEL_5', 'score': 0.9565000534057617}], [{'label': 'LABEL_7', 'score': 0.5218256115913391}], [{'label': 'LABEL_6', 'score': 0.9968733191490173}], [{'label': 'LABEL_6', 'score': 0.38918402791023254}], [{'label': 'LABEL_3', 'score': 0.9960596561431885}], [{'label': 'LABEL_5', 'score': 0.3381533622741699}], [{'label': 'LABEL_4', 'score': 0.9885967373847961}], [{'label': 'LABEL_0', 'score': 0.9908410310745239}], [{'label': 'LABEL_5', 'score': 0.5000032782554626}], [{'label': 'LABEL_6', 'score': 0.9966590404510498}], [{'label': 'LABEL_3', 'score': 0.9972715973854065}], [{'label': 'LABEL_6', 'score': 0.9963667392730713}], [{'label': 'LABEL_6', 'score': 0.5163983106613159}], [{'label': 'LABEL_5', 'score': 0.9291682243347168}], [{'label': 'LABEL_3', 'score': 0.9975113868713379}], [{'label': 'LABEL_3', 'score': 0.9976413249969482}], [{'label': 'LABEL_3', 'score': 0.9398937225341797}], [{'label': 'LABEL_4', 'score': 0.9897668957710266}], [{'label': 'LABEL_5', 'score': 0.9441249966621399}], [{'label': 'LABEL_0', 'score': 0.6935175657272339}], [{'label': 'LABEL_2', 'score': 0.9952396154403687}], [{'label': 'LABEL_6', 'score': 0.37460798025131226}], [{'label': 'LABEL_2', 'score': 0.9948567152023315}], [{'label': 'LABEL_4', 'score': 0.7570468783378601}], [{'label': 'LABEL_3', 'score': 0.9974157810211182}], [{'label': 'LABEL_5', 'score': 0.9388860464096069}], [{'label': 'LABEL_3', 'score': 0.9974324107170105}], [{'label': 'LABEL_2', 'score': 0.995254635810852}], [{'label': 'LABEL_0', 'score': 0.9944766163825989}], [{'label': 'LABEL_6', 'score': 0.9964620471000671}], [{'label': 'LABEL_0', 'score': 0.6467337608337402}], [{'label': 'LABEL_5', 'score': 0.5680115222930908}], [{'label': 'LABEL_6', 'score': 0.9967429041862488}], [{'label': 'LABEL_3', 'score': 0.9975056052207947}], [{'label': 'LABEL_5', 'score': 0.9635758399963379}], [{'label': 'LABEL_0', 'score': 0.9935927987098694}], [{'label': 'LABEL_6', 'score': 0.9967329502105713}], [{'label': 'LABEL_6', 'score': 0.6453459858894348}], [{'label': 'LABEL_6', 'score': 0.699335515499115}], [{'label': 'LABEL_3', 'score': 0.5810938477516174}], [{'label': 'LABEL_2', 'score': 0.9890994429588318}], [{'label': 'LABEL_6', 'score': 0.996570348739624}], [{'label': 'LABEL_3', 'score': 0.9975199103355408}], [{'label': 'LABEL_5', 'score': 0.9688335061073303}], [{'label': 'LABEL_6', 'score': 0.9961207509040833}], [{'label': 'LABEL_6', 'score': 0.9968083500862122}], [{'label': 'LABEL_2', 'score': 0.9937992691993713}], [{'label': 'LABEL_5', 'score': 0.9177185297012329}], [{'label': 'LABEL_0', 'score': 0.5649301409721375}], [{'label': 'LABEL_6', 'score': 0.9966996312141418}], [{'label': 'LABEL_6', 'score': 0.9967460632324219}], [{'label': 'LABEL_2', 'score': 0.9955529570579529}], [{'label': 'LABEL_5', 'score': 0.8920071125030518}], [{'label': 'LABEL_6', 'score': 0.9939361214637756}], [{'label': 'LABEL_5', 'score': 0.9275694489479065}], [{'label': 'LABEL_3', 'score': 0.9966404438018799}], [{'label': 'LABEL_3', 'score': 0.9976072311401367}], [{'label': 'LABEL_3', 'score': 0.9972080588340759}], [{'label': 'LABEL_3', 'score': 0.9975027441978455}], [{'label': 'LABEL_5', 'score': 0.7648425698280334}], [{'label': 'LABEL_6', 'score': 0.6258461475372314}], [{'label': 'LABEL_7', 'score': 0.8998767733573914}], [{'label': 'LABEL_6', 'score': 0.9964548349380493}], [{'label': 'LABEL_6', 'score': 0.9965645670890808}], [{'label': 'LABEL_5', 'score': 0.9691572189331055}], [{'label': 'LABEL_0', 'score': 0.8346157670021057}], [{'label': 'LABEL_6', 'score': 0.9961399435997009}], [{'label': 'LABEL_5', 'score': 0.9495630264282227}], [{'label': 'LABEL_7', 'score': 0.945206880569458}], [{'label': 'LABEL_5', 'score': 0.7578859925270081}], [{'label': 'LABEL_6', 'score': 0.9954220652580261}], [{'label': 'LABEL_3', 'score': 0.9976184964179993}], [{'label': 'LABEL_0', 'score': 0.3857552409172058}], [{'label': 'LABEL_0', 'score': 0.863977313041687}], [{'label': 'LABEL_5', 'score': 0.7597901821136475}], [{'label': 'LABEL_3', 'score': 0.9974592328071594}], [{'label': 'LABEL_0', 'score': 0.5931283831596375}], [{'label': 'LABEL_6', 'score': 0.3102197051048279}], [{'label': 'LABEL_7', 'score': 0.8428662419319153}], [{'label': 'LABEL_0', 'score': 0.9944058656692505}], [{'label': 'LABEL_6', 'score': 0.9967553019523621}], [{'label': 'LABEL_6', 'score': 0.9965187311172485}], [{'label': 'LABEL_3', 'score': 0.9973922967910767}], [{'label': 'LABEL_6', 'score': 0.9965599179267883}], [{'label': 'LABEL_6', 'score': 0.9966968297958374}], [{'label': 'LABEL_3', 'score': 0.9967578053474426}], [{'label': 'LABEL_3', 'score': 0.8312273621559143}], [{'label': 'LABEL_5', 'score': 0.9567481279373169}], [{'label': 'LABEL_3', 'score': 0.9973088502883911}], [{'label': 'LABEL_3', 'score': 0.9910922646522522}], [{'label': 'LABEL_5', 'score': 0.6140848398208618}], [{'label': 'LABEL_3', 'score': 0.9974769949913025}], [{'label': 'LABEL_6', 'score': 0.9100360870361328}], [{'label': 'LABEL_3', 'score': 0.4068162441253662}], [{'label': 'LABEL_3', 'score': 0.9976766705513}], [{'label': 'LABEL_2', 'score': 0.9935616254806519}], [{'label': 'LABEL_7', 'score': 0.9711313247680664}], [{'label': 'LABEL_3', 'score': 0.5981342792510986}], [{'label': 'LABEL_6', 'score': 0.49530312418937683}], [{'label': 'LABEL_0', 'score': 0.6631982326507568}], [{'label': 'LABEL_0', 'score': 0.9929252862930298}], [{'label': 'LABEL_5', 'score': 0.9003592133522034}], [{'label': 'LABEL_3', 'score': 0.7605647444725037}], [{'label': 'LABEL_3', 'score': 0.9966686367988586}], [{'label': 'LABEL_3', 'score': 0.5450090169906616}], [{'label': 'LABEL_3', 'score': 0.9973700046539307}], [{'label': 'LABEL_6', 'score': 0.9962486624717712}], [{'label': 'LABEL_6', 'score': 0.9965919256210327}], [{'label': 'LABEL_3', 'score': 0.9963125586509705}], [{'label': 'LABEL_5', 'score': 0.638927161693573}], [{'label': 'LABEL_3', 'score': 0.9969993829727173}], [{'label': 'LABEL_3', 'score': 0.9971193075180054}], [{'label': 'LABEL_3', 'score': 0.9974943399429321}], [{'label': 'LABEL_3', 'score': 0.9973773956298828}], [{'label': 'LABEL_6', 'score': 0.9969300627708435}], [{'label': 'LABEL_3', 'score': 0.9914290308952332}], [{'label': 'LABEL_5', 'score': 0.7186142802238464}], [{'label': 'LABEL_5', 'score': 0.9589956998825073}], [{'label': 'LABEL_3', 'score': 0.9924382567405701}], [{'label': 'LABEL_3', 'score': 0.9970828890800476}], [{'label': 'LABEL_3', 'score': 0.9955800175666809}], [{'label': 'LABEL_4', 'score': 0.7966569662094116}], [{'label': 'LABEL_6', 'score': 0.9968452453613281}], [{'label': 'LABEL_6', 'score': 0.9968276619911194}], [{'label': 'LABEL_6', 'score': 0.9963392019271851}], [{'label': 'LABEL_0', 'score': 0.9935249090194702}], [{'label': 'LABEL_6', 'score': 0.9968358874320984}], [{'label': 'LABEL_3', 'score': 0.9975849390029907}], [{'label': 'LABEL_6', 'score': 0.9966558218002319}], [{'label': 'LABEL_4', 'score': 0.8011364936828613}], [{'label': 'LABEL_0', 'score': 0.9946552515029907}], [{'label': 'LABEL_3', 'score': 0.9972018003463745}], [{'label': 'LABEL_2', 'score': 0.9644979238510132}], [{'label': 'LABEL_6', 'score': 0.9963093400001526}], [{'label': 'LABEL_0', 'score': 0.9932847023010254}], [{'label': 'LABEL_6', 'score': 0.9949398040771484}], [{'label': 'LABEL_0', 'score': 0.9938749670982361}], [{'label': 'LABEL_3', 'score': 0.9443333148956299}], [{'label': 'LABEL_0', 'score': 0.9945952296257019}], [{'label': 'LABEL_3', 'score': 0.9969286322593689}], [{'label': 'LABEL_3', 'score': 0.9971701502799988}], [{'label': 'LABEL_7', 'score': 0.7824172973632812}], [{'label': 'LABEL_3', 'score': 0.9975554347038269}], [{'label': 'LABEL_7', 'score': 0.9820030927658081}], [{'label': 'LABEL_4', 'score': 0.4982959032058716}], [{'label': 'LABEL_2', 'score': 0.9951569437980652}], [{'label': 'LABEL_6', 'score': 0.99687659740448}], [{'label': 'LABEL_3', 'score': 0.9962664246559143}], [{'label': 'LABEL_6', 'score': 0.9955612421035767}], [{'label': 'LABEL_6', 'score': 0.9315996766090393}], [{'label': 'LABEL_6', 'score': 0.9967198967933655}], [{'label': 'LABEL_3', 'score': 0.9969627261161804}], [{'label': 'LABEL_3', 'score': 0.9939536452293396}], [{'label': 'LABEL_3', 'score': 0.9968847632408142}], [{'label': 'LABEL_5', 'score': 0.5220816731452942}], [{'label': 'LABEL_6', 'score': 0.9961525797843933}], [{'label': 'LABEL_6', 'score': 0.8568206429481506}], [{'label': 'LABEL_6', 'score': 0.9966714382171631}], [{'label': 'LABEL_2', 'score': 0.9951938986778259}], [{'label': 'LABEL_4', 'score': 0.9896148443222046}], [{'label': 'LABEL_4', 'score': 0.9901266098022461}], [{'label': 'LABEL_6', 'score': 0.9965903759002686}], [{'label': 'LABEL_3', 'score': 0.9975257515907288}], [{'label': 'LABEL_0', 'score': 0.9879557490348816}], [{'label': 'LABEL_6', 'score': 0.9966632723808289}], [{'label': 'LABEL_6', 'score': 0.9966757297515869}], [{'label': 'LABEL_3', 'score': 0.9973723888397217}], [{'label': 'LABEL_5', 'score': 0.93113774061203}], [{'label': 'LABEL_7', 'score': 0.790131688117981}], [{'label': 'LABEL_7', 'score': 0.5925073027610779}], [{'label': 'LABEL_7', 'score': 0.8004693984985352}], [{'label': 'LABEL_3', 'score': 0.9974265694618225}], [{'label': 'LABEL_0', 'score': 0.9940811991691589}], [{'label': 'LABEL_5', 'score': 0.9056870341300964}], [{'label': 'LABEL_6', 'score': 0.8691282868385315}], [{'label': 'LABEL_6', 'score': 0.996727705001831}], [{'label': 'LABEL_3', 'score': 0.9972692131996155}], [{'label': 'LABEL_5', 'score': 0.9666711688041687}], [{'label': 'LABEL_5', 'score': 0.9230305552482605}], [{'label': 'LABEL_6', 'score': 0.9966486096382141}], [{'label': 'LABEL_5', 'score': 0.7104660272598267}], [{'label': 'LABEL_0', 'score': 0.32564952969551086}], [{'label': 'LABEL_0', 'score': 0.9948633313179016}], [{'label': 'LABEL_6', 'score': 0.9964399933815002}], [{'label': 'LABEL_6', 'score': 0.9969272017478943}], [{'label': 'LABEL_6', 'score': 0.9966765642166138}], [{'label': 'LABEL_3', 'score': 0.997363269329071}], [{'label': 'LABEL_4', 'score': 0.987453818321228}], [{'label': 'LABEL_4', 'score': 0.9893519282341003}], [{'label': 'LABEL_7', 'score': 0.5289831757545471}], [{'label': 'LABEL_6', 'score': 0.9965335130691528}], [{'label': 'LABEL_6', 'score': 0.9963458180427551}], [{'label': 'LABEL_5', 'score': 0.945773720741272}], [{'label': 'LABEL_6', 'score': 0.7949246764183044}], [{'label': 'LABEL_5', 'score': 0.8088293671607971}], [{'label': 'LABEL_3', 'score': 0.9892800450325012}], [{'label': 'LABEL_3', 'score': 0.5622546672821045}], [{'label': 'LABEL_6', 'score': 0.996648371219635}], [{'label': 'LABEL_2', 'score': 0.4969785809516907}], [{'label': 'LABEL_7', 'score': 0.9479045271873474}], [{'label': 'LABEL_6', 'score': 0.9967674016952515}], [{'label': 'LABEL_5', 'score': 0.4704507887363434}], [{'label': 'LABEL_4', 'score': 0.9897199273109436}], [{'label': 'LABEL_0', 'score': 0.9939622282981873}], [{'label': 'LABEL_5', 'score': 0.5684412717819214}], [{'label': 'LABEL_2', 'score': 0.9946593642234802}], [{'label': 'LABEL_0', 'score': 0.49076563119888306}], [{'label': 'LABEL_4', 'score': 0.9891207218170166}], [{'label': 'LABEL_6', 'score': 0.996845006942749}], [{'label': 'LABEL_3', 'score': 0.9635528326034546}], [{'label': 'LABEL_6', 'score': 0.9940738081932068}], [{'label': 'LABEL_6', 'score': 0.9966212511062622}], [{'label': 'LABEL_6', 'score': 0.9937601685523987}], [{'label': 'LABEL_7', 'score': 0.9394258856773376}], [{'label': 'LABEL_6', 'score': 0.9964897036552429}], [{'label': 'LABEL_2', 'score': 0.9954413175582886}], [{'label': 'LABEL_5', 'score': 0.9298713803291321}], [{'label': 'LABEL_4', 'score': 0.99033522605896}], [{'label': 'LABEL_7', 'score': 0.8727276921272278}], [{'label': 'LABEL_3', 'score': 0.5220427513122559}], [{'label': 'LABEL_3', 'score': 0.9975051283836365}], [{'label': 'LABEL_6', 'score': 0.9942620992660522}], [{'label': 'LABEL_5', 'score': 0.7464281320571899}], [{'label': 'LABEL_3', 'score': 0.9973188042640686}], [{'label': 'LABEL_3', 'score': 0.9957323670387268}], [{'label': 'LABEL_3', 'score': 0.9972220659255981}], [{'label': 'LABEL_2', 'score': 0.9944772124290466}], [{'label': 'LABEL_0', 'score': 0.9931800365447998}], [{'label': 'LABEL_7', 'score': 0.7423489093780518}], [{'label': 'LABEL_4', 'score': 0.489955872297287}], [{'label': 'LABEL_2', 'score': 0.9858248233795166}], [{'label': 'LABEL_6', 'score': 0.9962537288665771}], [{'label': 'LABEL_5', 'score': 0.9688335061073303}], [{'label': 'LABEL_0', 'score': 0.992116391658783}], [{'label': 'LABEL_5', 'score': 0.7874722480773926}], [{'label': 'LABEL_5', 'score': 0.9103758335113525}], [{'label': 'LABEL_5', 'score': 0.9138955473899841}], [{'label': 'LABEL_6', 'score': 0.996566116809845}], [{'label': 'LABEL_6', 'score': 0.9967383742332458}], [{'label': 'LABEL_3', 'score': 0.9973694086074829}], [{'label': 'LABEL_3', 'score': 0.9961332082748413}], [{'label': 'LABEL_4', 'score': 0.9893279671669006}], [{'label': 'LABEL_0', 'score': 0.48901817202568054}], [{'label': 'LABEL_3', 'score': 0.4823567271232605}], [{'label': 'LABEL_3', 'score': 0.9971110820770264}], [{'label': 'LABEL_4', 'score': 0.9891764521598816}], [{'label': 'LABEL_4', 'score': 0.9874225854873657}], [{'label': 'LABEL_7', 'score': 0.48763978481292725}], [{'label': 'LABEL_5', 'score': 0.9004828333854675}], [{'label': 'LABEL_3', 'score': 0.9971269965171814}], [{'label': 'LABEL_6', 'score': 0.996268630027771}], [{'label': 'LABEL_5', 'score': 0.8624283671379089}], [{'label': 'LABEL_6', 'score': 0.9949072003364563}], [{'label': 'LABEL_0', 'score': 0.995005190372467}], [{'label': 'LABEL_3', 'score': 0.3876911997795105}], [{'label': 'LABEL_3', 'score': 0.9668834209442139}], [{'label': 'LABEL_3', 'score': 0.9970815777778625}], [{'label': 'LABEL_6', 'score': 0.9967722296714783}], [{'label': 'LABEL_2', 'score': 0.9953038692474365}], [{'label': 'LABEL_3', 'score': 0.3878246247768402}], [{'label': 'LABEL_7', 'score': 0.9808295965194702}], [{'label': 'LABEL_5', 'score': 0.9483511447906494}], [{'label': 'LABEL_6', 'score': 0.9966233968734741}], [{'label': 'LABEL_5', 'score': 0.9299001693725586}], [{'label': 'LABEL_3', 'score': 0.9972381591796875}], [{'label': 'LABEL_5', 'score': 0.8633905649185181}], [{'label': 'LABEL_0', 'score': 0.9947240948677063}], [{'label': 'LABEL_6', 'score': 0.9965852499008179}], [{'label': 'LABEL_3', 'score': 0.996931791305542}], [{'label': 'LABEL_3', 'score': 0.9974355101585388}], [{'label': 'LABEL_3', 'score': 0.5060766935348511}], [{'label': 'LABEL_6', 'score': 0.9959561228752136}], [{'label': 'LABEL_3', 'score': 0.9973247051239014}], [{'label': 'LABEL_0', 'score': 0.9941344857215881}], [{'label': 'LABEL_2', 'score': 0.9947761297225952}], [{'label': 'LABEL_5', 'score': 0.881820559501648}], [{'label': 'LABEL_5', 'score': 0.6664525270462036}], [{'label': 'LABEL_3', 'score': 0.9974785447120667}], [{'label': 'LABEL_6', 'score': 0.9968581199645996}], [{'label': 'LABEL_5', 'score': 0.90798419713974}], [{'label': 'LABEL_0', 'score': 0.9939687252044678}], [{'label': 'LABEL_6', 'score': 0.9967780709266663}], [{'label': 'LABEL_6', 'score': 0.9962878227233887}], [{'label': 'LABEL_2', 'score': 0.8212558627128601}], [{'label': 'LABEL_3', 'score': 0.3020257353782654}], [{'label': 'LABEL_0', 'score': 0.5088549852371216}], [{'label': 'LABEL_3', 'score': 0.9966607093811035}], [{'label': 'LABEL_6', 'score': 0.9968745708465576}], [{'label': 'LABEL_3', 'score': 0.997718095779419}], [{'label': 'LABEL_3', 'score': 0.6978031992912292}], [{'label': 'LABEL_3', 'score': 0.9964788556098938}], [{'label': 'LABEL_3', 'score': 0.9963855743408203}], [{'label': 'LABEL_4', 'score': 0.9866108894348145}], [{'label': 'LABEL_3', 'score': 0.997356653213501}], [{'label': 'LABEL_5', 'score': 0.7671938538551331}], [{'label': 'LABEL_6', 'score': 0.9966173768043518}], [{'label': 'LABEL_0', 'score': 0.6429234147071838}], [{'label': 'LABEL_6', 'score': 0.9967321157455444}], [{'label': 'LABEL_4', 'score': 0.9890437126159668}], [{'label': 'LABEL_6', 'score': 0.9864815473556519}], [{'label': 'LABEL_6', 'score': 0.9963647723197937}], [{'label': 'LABEL_0', 'score': 0.9938765168190002}], [{'label': 'LABEL_0', 'score': 0.2859398126602173}], [{'label': 'LABEL_5', 'score': 0.7055104970932007}], [{'label': 'LABEL_3', 'score': 0.9975837469100952}], [{'label': 'LABEL_6', 'score': 0.9966687560081482}], [{'label': 'LABEL_4', 'score': 0.9899409413337708}], [{'label': 'LABEL_3', 'score': 0.9972670078277588}], [{'label': 'LABEL_5', 'score': 0.9590018391609192}], [{'label': 'LABEL_5', 'score': 0.89065021276474}], [{'label': 'LABEL_3', 'score': 0.9976636171340942}], [{'label': 'LABEL_7', 'score': 0.7540094256401062}], [{'label': 'LABEL_6', 'score': 0.9965248703956604}], [{'label': 'LABEL_3', 'score': 0.997478187084198}], [{'label': 'LABEL_4', 'score': 0.977628767490387}], [{'label': 'LABEL_0', 'score': 0.8605204224586487}], [{'label': 'LABEL_5', 'score': 0.9212036728858948}], [{'label': 'LABEL_5', 'score': 0.8301931619644165}], [{'label': 'LABEL_6', 'score': 0.9966500401496887}], [{'label': 'LABEL_0', 'score': 0.9938322305679321}], [{'label': 'LABEL_5', 'score': 0.5273595452308655}], [{'label': 'LABEL_5', 'score': 0.9518540501594543}], [{'label': 'LABEL_5', 'score': 0.8884233832359314}], [{'label': 'LABEL_5', 'score': 0.4220542311668396}], [{'label': 'LABEL_4', 'score': 0.9884240031242371}], [{'label': 'LABEL_7', 'score': 0.6504287123680115}], [{'label': 'LABEL_3', 'score': 0.9974977374076843}], [{'label': 'LABEL_0', 'score': 0.9684083461761475}], [{'label': 'LABEL_3', 'score': 0.9975893497467041}], [{'label': 'LABEL_6', 'score': 0.9968233108520508}], [{'label': 'LABEL_6', 'score': 0.9964742064476013}], [{'label': 'LABEL_3', 'score': 0.893650233745575}], [{'label': 'LABEL_4', 'score': 0.9863684773445129}], [{'label': 'LABEL_0', 'score': 0.9937222599983215}], [{'label': 'LABEL_3', 'score': 0.9746725559234619}], [{'label': 'LABEL_3', 'score': 0.9973303079605103}], [{'label': 'LABEL_3', 'score': 0.9953935146331787}], [{'label': 'LABEL_4', 'score': 0.5117159485816956}], [{'label': 'LABEL_5', 'score': 0.5588732361793518}], [{'label': 'LABEL_2', 'score': 0.38191452622413635}], [{'label': 'LABEL_6', 'score': 0.9967023730278015}], [{'label': 'LABEL_5', 'score': 0.9530503153800964}], [{'label': 'LABEL_0', 'score': 0.46807217597961426}], [{'label': 'LABEL_3', 'score': 0.9969394207000732}], [{'label': 'LABEL_6', 'score': 0.9965769648551941}], [{'label': 'LABEL_4', 'score': 0.7216541171073914}], [{'label': 'LABEL_5', 'score': 0.9560203552246094}], [{'label': 'LABEL_5', 'score': 0.6607741713523865}], [{'label': 'LABEL_0', 'score': 0.6467337608337402}], [{'label': 'LABEL_0', 'score': 0.9937276840209961}], [{'label': 'LABEL_5', 'score': 0.779445230960846}], [{'label': 'LABEL_5', 'score': 0.8701722025871277}], [{'label': 'LABEL_3', 'score': 0.9959490299224854}], [{'label': 'LABEL_6', 'score': 0.99636310338974}], [{'label': 'LABEL_6', 'score': 0.5664030909538269}], [{'label': 'LABEL_5', 'score': 0.5676813721656799}], [{'label': 'LABEL_5', 'score': 0.849341094493866}], [{'label': 'LABEL_5', 'score': 0.46823135018348694}], [{'label': 'LABEL_3', 'score': 0.9408429265022278}], [{'label': 'LABEL_2', 'score': 0.6268898248672485}], [{'label': 'LABEL_3', 'score': 0.9964703321456909}], [{'label': 'LABEL_3', 'score': 0.9962825179100037}], [{'label': 'LABEL_3', 'score': 0.9974266886711121}], [{'label': 'LABEL_3', 'score': 0.9972038269042969}], [{'label': 'LABEL_4', 'score': 0.9879317879676819}], [{'label': 'LABEL_2', 'score': 0.9926881790161133}], [{'label': 'LABEL_6', 'score': 0.9965143799781799}], [{'label': 'LABEL_5', 'score': 0.9425703883171082}], [{'label': 'LABEL_5', 'score': 0.8766125440597534}], [{'label': 'LABEL_6', 'score': 0.9966643452644348}], [{'label': 'LABEL_3', 'score': 0.9973995685577393}], [{'label': 'LABEL_3', 'score': 0.9962438344955444}], [{'label': 'LABEL_6', 'score': 0.9967501163482666}], [{'label': 'LABEL_5', 'score': 0.8033348917961121}], [{'label': 'LABEL_7', 'score': 0.9474716782569885}], [{'label': 'LABEL_6', 'score': 0.9962716102600098}], [{'label': 'LABEL_5', 'score': 0.9271352887153625}], [{'label': 'LABEL_7', 'score': 0.7737486958503723}], [{'label': 'LABEL_6', 'score': 0.996678352355957}], [{'label': 'LABEL_5', 'score': 0.9483092427253723}], [{'label': 'LABEL_5', 'score': 0.9635570049285889}], [{'label': 'LABEL_3', 'score': 0.9971815347671509}], [{'label': 'LABEL_5', 'score': 0.9465973973274231}], [{'label': 'LABEL_4', 'score': 0.8411455154418945}], [{'label': 'LABEL_3', 'score': 0.9974702596664429}], [{'label': 'LABEL_0', 'score': 0.9932733774185181}], [{'label': 'LABEL_7', 'score': 0.9481207132339478}], [{'label': 'LABEL_5', 'score': 0.9424381256103516}], [{'label': 'LABEL_6', 'score': 0.9967798590660095}], [{'label': 'LABEL_3', 'score': 0.9975857734680176}], [{'label': 'LABEL_5', 'score': 0.44792118668556213}], [{'label': 'LABEL_2', 'score': 0.9944012761116028}], [{'label': 'LABEL_0', 'score': 0.372611403465271}], [{'label': 'LABEL_0', 'score': 0.9940778017044067}], [{'label': 'LABEL_5', 'score': 0.8515106439590454}], [{'label': 'LABEL_7', 'score': 0.9322116374969482}], [{'label': 'LABEL_5', 'score': 0.9340178966522217}], [{'label': 'LABEL_6', 'score': 0.9970019459724426}], [{'label': 'LABEL_5', 'score': 0.9691572189331055}], [{'label': 'LABEL_5', 'score': 0.46133115887641907}], [{'label': 'LABEL_5', 'score': 0.7914846539497375}], [{'label': 'LABEL_6', 'score': 0.9963610768318176}], [{'label': 'LABEL_6', 'score': 0.9966205358505249}], [{'label': 'LABEL_7', 'score': 0.5989052057266235}], [{'label': 'LABEL_3', 'score': 0.6805475354194641}], [{'label': 'LABEL_2', 'score': 0.994360625743866}], [{'label': 'LABEL_3', 'score': 0.8644096255302429}], [{'label': 'LABEL_5', 'score': 0.9504961967468262}], [{'label': 'LABEL_6', 'score': 0.9969011545181274}], [{'label': 'LABEL_3', 'score': 0.9974779486656189}], [{'label': 'LABEL_5', 'score': 0.5832427740097046}], [{'label': 'LABEL_5', 'score': 0.963792622089386}], [{'label': 'LABEL_3', 'score': 0.9969203472137451}], [{'label': 'LABEL_7', 'score': 0.9825026988983154}], [{'label': 'LABEL_6', 'score': 0.9948368072509766}], [{'label': 'LABEL_5', 'score': 0.9251307249069214}], [{'label': 'LABEL_5', 'score': 0.9312326312065125}], [{'label': 'LABEL_3', 'score': 0.9972411394119263}], [{'label': 'LABEL_2', 'score': 0.9948364496231079}], [{'label': 'LABEL_5', 'score': 0.687127947807312}], [{'label': 'LABEL_4', 'score': 0.9870432019233704}], [{'label': 'LABEL_3', 'score': 0.4942649304866791}], [{'label': 'LABEL_0', 'score': 0.9934324026107788}], [{'label': 'LABEL_5', 'score': 0.9071164131164551}], [{'label': 'LABEL_0', 'score': 0.9949571490287781}], [{'label': 'LABEL_5', 'score': 0.5767332911491394}], [{'label': 'LABEL_0', 'score': 0.511861264705658}], [{'label': 'LABEL_2', 'score': 0.9921562671661377}], [{'label': 'LABEL_5', 'score': 0.5014235377311707}], [{'label': 'LABEL_0', 'score': 0.9945443868637085}], [{'label': 'LABEL_5', 'score': 0.9606580138206482}], [{'label': 'LABEL_4', 'score': 0.9892169237136841}], [{'label': 'LABEL_6', 'score': 0.9966855645179749}], [{'label': 'LABEL_2', 'score': 0.9953359961509705}], [{'label': 'LABEL_6', 'score': 0.9965494871139526}], [{'label': 'LABEL_3', 'score': 0.9965301156044006}], [{'label': 'LABEL_3', 'score': 0.9974862337112427}], [{'label': 'LABEL_3', 'score': 0.9668750762939453}], [{'label': 'LABEL_7', 'score': 0.9790178537368774}], [{'label': 'LABEL_4', 'score': 0.7059824466705322}], [{'label': 'LABEL_3', 'score': 0.9973756074905396}], [{'label': 'LABEL_6', 'score': 0.9964821338653564}], [{'label': 'LABEL_3', 'score': 0.9883108735084534}], [{'label': 'LABEL_0', 'score': 0.9941850304603577}], [{'label': 'LABEL_4', 'score': 0.988246738910675}], [{'label': 'LABEL_0', 'score': 0.8410620093345642}], [{'label': 'LABEL_6', 'score': 0.9969387054443359}], [{'label': 'LABEL_3', 'score': 0.9977356195449829}], [{'label': 'LABEL_5', 'score': 0.5954871773719788}], [{'label': 'LABEL_3', 'score': 0.9972230195999146}], [{'label': 'LABEL_0', 'score': 0.994608998298645}], [{'label': 'LABEL_0', 'score': 0.6767048835754395}], [{'label': 'LABEL_6', 'score': 0.9966763257980347}], [{'label': 'LABEL_5', 'score': 0.6743001341819763}], [{'label': 'LABEL_3', 'score': 0.9970881342887878}], [{'label': 'LABEL_7', 'score': 0.9737400412559509}], [{'label': 'LABEL_0', 'score': 0.9947577118873596}], [{'label': 'LABEL_0', 'score': 0.99265056848526}], [{'label': 'LABEL_2', 'score': 0.5498408675193787}], [{'label': 'LABEL_6', 'score': 0.9966669678688049}], [{'label': 'LABEL_3', 'score': 0.9899954795837402}], [{'label': 'LABEL_6', 'score': 0.996764063835144}], [{'label': 'LABEL_0', 'score': 0.994284451007843}], [{'label': 'LABEL_6', 'score': 0.9963520765304565}], [{'label': 'LABEL_5', 'score': 0.9517183303833008}], [{'label': 'LABEL_6', 'score': 0.9968315958976746}], [{'label': 'LABEL_3', 'score': 0.9976937174797058}], [{'label': 'LABEL_7', 'score': 0.9582430124282837}], [{'label': 'LABEL_4', 'score': 0.9881483912467957}], [{'label': 'LABEL_4', 'score': 0.9903862476348877}], [{'label': 'LABEL_3', 'score': 0.9973204731941223}], [{'label': 'LABEL_3', 'score': 0.9976369142532349}], [{'label': 'LABEL_6', 'score': 0.9966018199920654}], [{'label': 'LABEL_6', 'score': 0.9964408278465271}], [{'label': 'LABEL_3', 'score': 0.7227637767791748}], [{'label': 'LABEL_3', 'score': 0.7553077340126038}], [{'label': 'LABEL_3', 'score': 0.9973926544189453}], [{'label': 'LABEL_3', 'score': 0.9745965600013733}], [{'label': 'LABEL_5', 'score': 0.9646077156066895}], [{'label': 'LABEL_0', 'score': 0.9933454990386963}], [{'label': 'LABEL_6', 'score': 0.9969097971916199}], [{'label': 'LABEL_2', 'score': 0.3606571853160858}], [{'label': 'LABEL_3', 'score': 0.9970888495445251}], [{'label': 'LABEL_6', 'score': 0.46209916472435}], [{'label': 'LABEL_3', 'score': 0.9221817851066589}], [{'label': 'LABEL_0', 'score': 0.7467023730278015}], [{'label': 'LABEL_3', 'score': 0.9975953698158264}], [{'label': 'LABEL_4', 'score': 0.9837225079536438}], [{'label': 'LABEL_6', 'score': 0.9967561364173889}], [{'label': 'LABEL_2', 'score': 0.9954710006713867}], [{'label': 'LABEL_0', 'score': 0.9947323799133301}], [{'label': 'LABEL_3', 'score': 0.49848267436027527}], [{'label': 'LABEL_5', 'score': 0.9536243677139282}], [{'label': 'LABEL_4', 'score': 0.986610472202301}], [{'label': 'LABEL_5', 'score': 0.3734884560108185}], [{'label': 'LABEL_6', 'score': 0.9942012429237366}], [{'label': 'LABEL_0', 'score': 0.9932373762130737}], [{'label': 'LABEL_3', 'score': 0.9975078105926514}], [{'label': 'LABEL_3', 'score': 0.997246503829956}], [{'label': 'LABEL_2', 'score': 0.5760983228683472}], [{'label': 'LABEL_2', 'score': 0.9953269958496094}], [{'label': 'LABEL_6', 'score': 0.9966863989830017}], [{'label': 'LABEL_3', 'score': 0.9975414276123047}], [{'label': 'LABEL_3', 'score': 0.996826708316803}], [{'label': 'LABEL_5', 'score': 0.5297533869743347}], [{'label': 'LABEL_3', 'score': 0.995824933052063}], [{'label': 'LABEL_2', 'score': 0.9140836596488953}], [{'label': 'LABEL_3', 'score': 0.9975916147232056}], [{'label': 'LABEL_3', 'score': 0.9260826706886292}], [{'label': 'LABEL_5', 'score': 0.9103330373764038}], [{'label': 'LABEL_3', 'score': 0.7156339287757874}], [{'label': 'LABEL_5', 'score': 0.9615771770477295}], [{'label': 'LABEL_3', 'score': 0.9969654679298401}], [{'label': 'LABEL_6', 'score': 0.99669349193573}], [{'label': 'LABEL_6', 'score': 0.9951323866844177}], [{'label': 'LABEL_3', 'score': 0.9974525570869446}], [{'label': 'LABEL_2', 'score': 0.9946950078010559}], [{'label': 'LABEL_3', 'score': 0.9972374439239502}], [{'label': 'LABEL_3', 'score': 0.8648297190666199}], [{'label': 'LABEL_3', 'score': 0.9975027441978455}], [{'label': 'LABEL_6', 'score': 0.9967039227485657}], [{'label': 'LABEL_2', 'score': 0.5058975219726562}], [{'label': 'LABEL_5', 'score': 0.8754561543464661}], [{'label': 'LABEL_0', 'score': 0.31490370631217957}], [{'label': 'LABEL_5', 'score': 0.9278067350387573}], [{'label': 'LABEL_0', 'score': 0.9938336610794067}], [{'label': 'LABEL_3', 'score': 0.99708491563797}], [{'label': 'LABEL_6', 'score': 0.9956575632095337}], [{'label': 'LABEL_0', 'score': 0.6063776016235352}], [{'label': 'LABEL_3', 'score': 0.9861641526222229}], [{'label': 'LABEL_3', 'score': 0.8706518411636353}], [{'label': 'LABEL_0', 'score': 0.9943585991859436}], [{'label': 'LABEL_5', 'score': 0.8763299584388733}], [{'label': 'LABEL_5', 'score': 0.8791499733924866}], [{'label': 'LABEL_2', 'score': 0.6225848197937012}], [{'label': 'LABEL_3', 'score': 0.9973325729370117}], [{'label': 'LABEL_0', 'score': 0.5167590379714966}], [{'label': 'LABEL_5', 'score': 0.4921248257160187}], [{'label': 'LABEL_6', 'score': 0.9969407916069031}], [{'label': 'LABEL_3', 'score': 0.9975074529647827}], [{'label': 'LABEL_3', 'score': 0.9972099661827087}], [{'label': 'LABEL_6', 'score': 0.9945586323738098}], [{'label': 'LABEL_3', 'score': 0.9976863861083984}], [{'label': 'LABEL_3', 'score': 0.9951890707015991}], [{'label': 'LABEL_3', 'score': 0.9970404505729675}], [{'label': 'LABEL_5', 'score': 0.5157906413078308}], [{'label': 'LABEL_5', 'score': 0.9660260677337646}], [{'label': 'LABEL_3', 'score': 0.7194426655769348}], [{'label': 'LABEL_4', 'score': 0.9329379796981812}], [{'label': 'LABEL_6', 'score': 0.9968863129615784}], [{'label': 'LABEL_3', 'score': 0.9963149428367615}], [{'label': 'LABEL_0', 'score': 0.9948658347129822}], [{'label': 'LABEL_4', 'score': 0.9884045124053955}], [{'label': 'LABEL_3', 'score': 0.9972134232521057}], [{'label': 'LABEL_4', 'score': 0.6113296747207642}], [{'label': 'LABEL_3', 'score': 0.9973446726799011}], [{'label': 'LABEL_6', 'score': 0.991773784160614}], [{'label': 'LABEL_6', 'score': 0.996886670589447}], [{'label': 'LABEL_2', 'score': 0.4140141010284424}], [{'label': 'LABEL_7', 'score': 0.9502055048942566}], [{'label': 'LABEL_7', 'score': 0.45551928877830505}], [{'label': 'LABEL_0', 'score': 0.9932137727737427}], [{'label': 'LABEL_3', 'score': 0.9965634942054749}], [{'label': 'LABEL_2', 'score': 0.994885265827179}], [{'label': 'LABEL_5', 'score': 0.943744957447052}], [{'label': 'LABEL_7', 'score': 0.6676998138427734}], [{'label': 'LABEL_2', 'score': 0.9948128461837769}], [{'label': 'LABEL_3', 'score': 0.9975458979606628}], [{'label': 'LABEL_5', 'score': 0.7610251307487488}], [{'label': 'LABEL_3', 'score': 0.9975377321243286}], [{'label': 'LABEL_2', 'score': 0.9952061772346497}], [{'label': 'LABEL_6', 'score': 0.9965582489967346}], [{'label': 'LABEL_4', 'score': 0.9889339804649353}], [{'label': 'LABEL_3', 'score': 0.8950612545013428}], [{'label': 'LABEL_2', 'score': 0.9935294985771179}], [{'label': 'LABEL_6', 'score': 0.9969567060470581}], [{'label': 'LABEL_2', 'score': 0.8663126230239868}], [{'label': 'LABEL_6', 'score': 0.9964321851730347}], [{'label': 'LABEL_5', 'score': 0.8476198315620422}], [{'label': 'LABEL_0', 'score': 0.9947296380996704}], [{'label': 'LABEL_3', 'score': 0.9967515468597412}], [{'label': 'LABEL_6', 'score': 0.9966149926185608}], [{'label': 'LABEL_6', 'score': 0.9967716336250305}], [{'label': 'LABEL_7', 'score': 0.4554790258407593}], [{'label': 'LABEL_5', 'score': 0.9183588027954102}], [{'label': 'LABEL_5', 'score': 0.8590018153190613}], [{'label': 'LABEL_4', 'score': 0.9884756803512573}], [{'label': 'LABEL_6', 'score': 0.9968076944351196}], [{'label': 'LABEL_6', 'score': 0.996901273727417}], [{'label': 'LABEL_3', 'score': 0.7417964339256287}], [{'label': 'LABEL_6', 'score': 0.9965834021568298}], [{'label': 'LABEL_5', 'score': 0.7283464074134827}], [{'label': 'LABEL_0', 'score': 0.6585296988487244}], [{'label': 'LABEL_3', 'score': 0.5833794474601746}], [{'label': 'LABEL_7', 'score': 0.6690671443939209}], [{'label': 'LABEL_3', 'score': 0.9975652694702148}], [{'label': 'LABEL_7', 'score': 0.913480281829834}], [{'label': 'LABEL_0', 'score': 0.9938831329345703}], [{'label': 'LABEL_5', 'score': 0.7152647376060486}], [{'label': 'LABEL_6', 'score': 0.9968089461326599}], [{'label': 'LABEL_4', 'score': 0.9895510077476501}], [{'label': 'LABEL_6', 'score': 0.9964879751205444}], [{'label': 'LABEL_5', 'score': 0.8691995143890381}], [{'label': 'LABEL_7', 'score': 0.9810263514518738}], [{'label': 'LABEL_5', 'score': 0.9376030564308167}], [{'label': 'LABEL_5', 'score': 0.9413437843322754}], [{'label': 'LABEL_3', 'score': 0.9690253138542175}], [{'label': 'LABEL_3', 'score': 0.9970302581787109}], [{'label': 'LABEL_7', 'score': 0.7260481715202332}], [{'label': 'LABEL_0', 'score': 0.9928444027900696}], [{'label': 'LABEL_5', 'score': 0.889482319355011}], [{'label': 'LABEL_0', 'score': 0.7072446942329407}], [{'label': 'LABEL_6', 'score': 0.42782536149024963}], [{'label': 'LABEL_5', 'score': 0.906330406665802}], [{'label': 'LABEL_0', 'score': 0.9944591522216797}], [{'label': 'LABEL_7', 'score': 0.9143761992454529}], [{'label': 'LABEL_5', 'score': 0.9660260677337646}], [{'label': 'LABEL_2', 'score': 0.4265969693660736}], [{'label': 'LABEL_6', 'score': 0.9969347715377808}], [{'label': 'LABEL_3', 'score': 0.9974834322929382}], [{'label': 'LABEL_3', 'score': 0.8861126899719238}], [{'label': 'LABEL_6', 'score': 0.9966931343078613}], [{'label': 'LABEL_3', 'score': 0.9975354671478271}], [{'label': 'LABEL_6', 'score': 0.9964998960494995}], [{'label': 'LABEL_3', 'score': 0.9976276755332947}], [{'label': 'LABEL_3', 'score': 0.997386634349823}], [{'label': 'LABEL_3', 'score': 0.997351884841919}], [{'label': 'LABEL_3', 'score': 0.9975320100784302}], [{'label': 'LABEL_2', 'score': 0.994939923286438}], [{'label': 'LABEL_0', 'score': 0.9943510293960571}], [{'label': 'LABEL_6', 'score': 0.9966843724250793}], [{'label': 'LABEL_0', 'score': 0.9941813349723816}], [{'label': 'LABEL_3', 'score': 0.997593343257904}], [{'label': 'LABEL_4', 'score': 0.9643293023109436}], [{'label': 'LABEL_4', 'score': 0.9899999499320984}], [{'label': 'LABEL_5', 'score': 0.7440148591995239}], [{'label': 'LABEL_6', 'score': 0.9961793422698975}], [{'label': 'LABEL_3', 'score': 0.9976340532302856}], [{'label': 'LABEL_3', 'score': 0.997421383857727}], [{'label': 'LABEL_7', 'score': 0.7029055953025818}], [{'label': 'LABEL_6', 'score': 0.996752142906189}], [{'label': 'LABEL_7', 'score': 0.9821678400039673}], [{'label': 'LABEL_3', 'score': 0.9968612194061279}], [{'label': 'LABEL_3', 'score': 0.6719332933425903}], [{'label': 'LABEL_6', 'score': 0.9969070553779602}], [{'label': 'LABEL_5', 'score': 0.9345688819885254}], [{'label': 'LABEL_5', 'score': 0.900222897529602}], [{'label': 'LABEL_3', 'score': 0.9962087869644165}], [{'label': 'LABEL_3', 'score': 0.9963932633399963}], [{'label': 'LABEL_3', 'score': 0.9343236088752747}], [{'label': 'LABEL_7', 'score': 0.6210295557975769}], [{'label': 'LABEL_5', 'score': 0.35709449648857117}], [{'label': 'LABEL_6', 'score': 0.9968848824501038}], [{'label': 'LABEL_6', 'score': 0.9964285492897034}], [{'label': 'LABEL_2', 'score': 0.9951446652412415}], [{'label': 'LABEL_6', 'score': 0.9968827962875366}], [{'label': 'LABEL_3', 'score': 0.9977548718452454}], [{'label': 'LABEL_3', 'score': 0.5038589835166931}], [{'label': 'LABEL_5', 'score': 0.9460557103157043}], [{'label': 'LABEL_3', 'score': 0.9976418018341064}], [{'label': 'LABEL_5', 'score': 0.8617005348205566}], [{'label': 'LABEL_5', 'score': 0.8806086182594299}], [{'label': 'LABEL_5', 'score': 0.6806703805923462}], [{'label': 'LABEL_7', 'score': 0.5343253016471863}], [{'label': 'LABEL_5', 'score': 0.9666711688041687}], [{'label': 'LABEL_0', 'score': 0.9939907789230347}], [{'label': 'LABEL_5', 'score': 0.9468759298324585}], [{'label': 'LABEL_7', 'score': 0.9009470343589783}], [{'label': 'LABEL_6', 'score': 0.9967549443244934}], [{'label': 'LABEL_5', 'score': 0.9422751069068909}], [{'label': 'LABEL_0', 'score': 0.9948108196258545}], [{'label': 'LABEL_3', 'score': 0.9963513612747192}], [{'label': 'LABEL_2', 'score': 0.9951032400131226}], [{'label': 'LABEL_5', 'score': 0.7407928109169006}], [{'label': 'LABEL_6', 'score': 0.24924643337726593}], [{'label': 'LABEL_3', 'score': 0.9966652989387512}], [{'label': 'LABEL_5', 'score': 0.9006882905960083}], [{'label': 'LABEL_0', 'score': 0.994594156742096}], [{'label': 'LABEL_5', 'score': 0.717911422252655}], [{'label': 'LABEL_3', 'score': 0.4925849735736847}], [{'label': 'LABEL_6', 'score': 0.9965195655822754}], [{'label': 'LABEL_3', 'score': 0.997363269329071}], [{'label': 'LABEL_7', 'score': 0.9769040942192078}], [{'label': 'LABEL_6', 'score': 0.9966297745704651}], [{'label': 'LABEL_6', 'score': 0.9964906573295593}], [{'label': 'LABEL_6', 'score': 0.9963136315345764}], [{'label': 'LABEL_0', 'score': 0.9947664737701416}], [{'label': 'LABEL_7', 'score': 0.9648576974868774}], [{'label': 'LABEL_5', 'score': 0.8304745554924011}], [{'label': 'LABEL_3', 'score': 0.9968938827514648}], [{'label': 'LABEL_3', 'score': 0.997082531452179}], [{'label': 'LABEL_2', 'score': 0.9950969815254211}], [{'label': 'LABEL_3', 'score': 0.9966253042221069}], [{'label': 'LABEL_3', 'score': 0.6855552792549133}], [{'label': 'LABEL_5', 'score': 0.4225006699562073}], [{'label': 'LABEL_0', 'score': 0.5572910308837891}], [{'label': 'LABEL_6', 'score': 0.9930230379104614}], [{'label': 'LABEL_0', 'score': 0.994575023651123}], [{'label': 'LABEL_6', 'score': 0.9967315196990967}], [{'label': 'LABEL_0', 'score': 0.2892424762248993}], [{'label': 'LABEL_7', 'score': 0.37023329734802246}], [{'label': 'LABEL_5', 'score': 0.6846528053283691}], [{'label': 'LABEL_3', 'score': 0.9975560903549194}], [{'label': 'LABEL_2', 'score': 0.9951657056808472}], [{'label': 'LABEL_2', 'score': 0.9934992790222168}], [{'label': 'LABEL_6', 'score': 0.9967678785324097}], [{'label': 'LABEL_0', 'score': 0.561165988445282}], [{'label': 'LABEL_5', 'score': 0.9413268566131592}], [{'label': 'LABEL_6', 'score': 0.9967175126075745}], [{'label': 'LABEL_3', 'score': 0.9974880218505859}], [{'label': 'LABEL_0', 'score': 0.993973433971405}], [{'label': 'LABEL_6', 'score': 0.996393620967865}], [{'label': 'LABEL_3', 'score': 0.9969066977500916}], [{'label': 'LABEL_5', 'score': 0.9346356391906738}], [{'label': 'LABEL_2', 'score': 0.6729457974433899}], [{'label': 'LABEL_5', 'score': 0.9256157875061035}], [{'label': 'LABEL_4', 'score': 0.9907005429267883}], [{'label': 'LABEL_6', 'score': 0.98539137840271}], [{'label': 'LABEL_3', 'score': 0.9974380731582642}], [{'label': 'LABEL_6', 'score': 0.9959197044372559}], [{'label': 'LABEL_3', 'score': 0.997689962387085}], [{'label': 'LABEL_6', 'score': 0.9966333508491516}], [{'label': 'LABEL_0', 'score': 0.9933034777641296}], [{'label': 'LABEL_3', 'score': 0.9973790645599365}], [{'label': 'LABEL_5', 'score': 0.6767944693565369}], [{'label': 'LABEL_6', 'score': 0.9963734745979309}], [{'label': 'LABEL_3', 'score': 0.9975753426551819}], [{'label': 'LABEL_0', 'score': 0.9947178959846497}], [{'label': 'LABEL_3', 'score': 0.49720871448516846}], [{'label': 'LABEL_3', 'score': 0.9973267316818237}], [{'label': 'LABEL_7', 'score': 0.9824689626693726}], [{'label': 'LABEL_4', 'score': 0.9889346957206726}], [{'label': 'LABEL_2', 'score': 0.9953887462615967}], [{'label': 'LABEL_5', 'score': 0.8086273670196533}], [{'label': 'LABEL_0', 'score': 0.39614859223365784}], [{'label': 'LABEL_5', 'score': 0.8379158973693848}], [{'label': 'LABEL_3', 'score': 0.9970434308052063}], [{'label': 'LABEL_6', 'score': 0.9961636066436768}], [{'label': 'LABEL_0', 'score': 0.9928043484687805}], [{'label': 'LABEL_6', 'score': 0.5976821780204773}], [{'label': 'LABEL_4', 'score': 0.780148446559906}], [{'label': 'LABEL_3', 'score': 0.9964960217475891}], [{'label': 'LABEL_3', 'score': 0.9976857900619507}], [{'label': 'LABEL_3', 'score': 0.9974696636199951}], [{'label': 'LABEL_4', 'score': 0.9888085722923279}], [{'label': 'LABEL_3', 'score': 0.41745656728744507}], [{'label': 'LABEL_3', 'score': 0.9975851774215698}], [{'label': 'LABEL_0', 'score': 0.9944796562194824}], [{'label': 'LABEL_6', 'score': 0.4133276045322418}], [{'label': 'LABEL_6', 'score': 0.7549071311950684}], [{'label': 'LABEL_3', 'score': 0.9976338148117065}], [{'label': 'LABEL_3', 'score': 0.9976382255554199}], [{'label': 'LABEL_3', 'score': 0.9970812201499939}], [{'label': 'LABEL_3', 'score': 0.9973174929618835}], [{'label': 'LABEL_5', 'score': 0.4232509732246399}], [{'label': 'LABEL_6', 'score': 0.99549400806427}], [{'label': 'LABEL_3', 'score': 0.9943423271179199}], [{'label': 'LABEL_2', 'score': 0.5018868446350098}], [{'label': 'LABEL_6', 'score': 0.9968026876449585}], [{'label': 'LABEL_6', 'score': 0.9967120885848999}], [{'label': 'LABEL_3', 'score': 0.9974046349525452}], [{'label': 'LABEL_7', 'score': 0.8356524109840393}], [{'label': 'LABEL_3', 'score': 0.9974833130836487}], [{'label': 'LABEL_6', 'score': 0.9959524869918823}], [{'label': 'LABEL_0', 'score': 0.9170970916748047}], [{'label': 'LABEL_6', 'score': 0.9964991807937622}], [{'label': 'LABEL_6', 'score': 0.9969691634178162}], [{'label': 'LABEL_3', 'score': 0.9961346387863159}], [{'label': 'LABEL_5', 'score': 0.8969823718070984}], [{'label': 'LABEL_3', 'score': 0.9263066649436951}], [{'label': 'LABEL_3', 'score': 0.9971576929092407}], [{'label': 'LABEL_4', 'score': 0.6459788680076599}], [{'label': 'LABEL_2', 'score': 0.9934079647064209}], [{'label': 'LABEL_5', 'score': 0.7764545679092407}], [{'label': 'LABEL_0', 'score': 0.7120339870452881}], [{'label': 'LABEL_7', 'score': 0.9595907330513}], [{'label': 'LABEL_6', 'score': 0.9898097515106201}], [{'label': 'LABEL_0', 'score': 0.9942370653152466}], [{'label': 'LABEL_5', 'score': 0.8257519602775574}], [{'label': 'LABEL_3', 'score': 0.9321987628936768}], [{'label': 'LABEL_6', 'score': 0.996538519859314}], [{'label': 'LABEL_3', 'score': 0.5726661682128906}], [{'label': 'LABEL_0', 'score': 0.9948959946632385}], [{'label': 'LABEL_3', 'score': 0.9973729848861694}], [{'label': 'LABEL_5', 'score': 0.9577720165252686}], [{'label': 'LABEL_6', 'score': 0.9965464472770691}], [{'label': 'LABEL_7', 'score': 0.5883104205131531}], [{'label': 'LABEL_6', 'score': 0.9963262677192688}], [{'label': 'LABEL_3', 'score': 0.5584911704063416}], [{'label': 'LABEL_5', 'score': 0.8095386624336243}], [{'label': 'LABEL_3', 'score': 0.9944878220558167}], [{'label': 'LABEL_6', 'score': 0.5182099342346191}], [{'label': 'LABEL_6', 'score': 0.9965741634368896}], [{'label': 'LABEL_5', 'score': 0.9189237952232361}], [{'label': 'LABEL_6', 'score': 0.9967232346534729}], [{'label': 'LABEL_2', 'score': 0.995211660861969}], [{'label': 'LABEL_5', 'score': 0.9372708797454834}], [{'label': 'LABEL_7', 'score': 0.9816086888313293}], [{'label': 'LABEL_3', 'score': 0.9805594682693481}], [{'label': 'LABEL_0', 'score': 0.4482695460319519}], [{'label': 'LABEL_6', 'score': 0.9964068531990051}], [{'label': 'LABEL_5', 'score': 0.8757263422012329}], [{'label': 'LABEL_3', 'score': 0.9966301321983337}], [{'label': 'LABEL_3', 'score': 0.9972680807113647}], [{'label': 'LABEL_6', 'score': 0.9959405660629272}], [{'label': 'LABEL_3', 'score': 0.5360329151153564}], [{'label': 'LABEL_5', 'score': 0.7726341485977173}], [{'label': 'LABEL_4', 'score': 0.7087041735649109}], [{'label': 'LABEL_0', 'score': 0.9931870698928833}], [{'label': 'LABEL_4', 'score': 0.9906169772148132}], [{'label': 'LABEL_3', 'score': 0.9858924746513367}], [{'label': 'LABEL_7', 'score': 0.4355267584323883}], [{'label': 'LABEL_3', 'score': 0.99688321352005}], [{'label': 'LABEL_0', 'score': 0.9940180778503418}], [{'label': 'LABEL_7', 'score': 0.980014979839325}], [{'label': 'LABEL_6', 'score': 0.9967051148414612}], [{'label': 'LABEL_6', 'score': 0.9967430233955383}], [{'label': 'LABEL_6', 'score': 0.7069948315620422}], [{'label': 'LABEL_6', 'score': 0.9966068267822266}], [{'label': 'LABEL_4', 'score': 0.990481972694397}], [{'label': 'LABEL_0', 'score': 0.9945982694625854}], [{'label': 'LABEL_5', 'score': 0.9216175675392151}], [{'label': 'LABEL_3', 'score': 0.9959588646888733}], [{'label': 'LABEL_2', 'score': 0.993986964225769}], [{'label': 'LABEL_6', 'score': 0.9967485666275024}], [{'label': 'LABEL_0', 'score': 0.994734525680542}], [{'label': 'LABEL_2', 'score': 0.995098888874054}], [{'label': 'LABEL_3', 'score': 0.996932864189148}], [{'label': 'LABEL_6', 'score': 0.996368408203125}], [{'label': 'LABEL_0', 'score': 0.7395305633544922}], [{'label': 'LABEL_7', 'score': 0.8998342156410217}], [{'label': 'LABEL_6', 'score': 0.9849237203598022}], [{'label': 'LABEL_5', 'score': 0.7686298489570618}], [{'label': 'LABEL_2', 'score': 0.8135233521461487}], [{'label': 'LABEL_6', 'score': 0.9945423603057861}], [{'label': 'LABEL_3', 'score': 0.5566226840019226}], [{'label': 'LABEL_3', 'score': 0.9059007167816162}], [{'label': 'LABEL_0', 'score': 0.7714334726333618}], [{'label': 'LABEL_5', 'score': 0.8829665780067444}], [{'label': 'LABEL_6', 'score': 0.9967461824417114}], [{'label': 'LABEL_5', 'score': 0.9603624939918518}], [{'label': 'LABEL_0', 'score': 0.945868968963623}], [{'label': 'LABEL_0', 'score': 0.9934105277061462}], [{'label': 'LABEL_2', 'score': 0.716219425201416}], [{'label': 'LABEL_3', 'score': 0.9948074221611023}], [{'label': 'LABEL_5', 'score': 0.8849982619285583}], [{'label': 'LABEL_6', 'score': 0.9962540864944458}], [{'label': 'LABEL_0', 'score': 0.994775652885437}], [{'label': 'LABEL_6', 'score': 0.9961155652999878}], [{'label': 'LABEL_2', 'score': 0.9687346816062927}], [{'label': 'LABEL_0', 'score': 0.9929943680763245}], [{'label': 'LABEL_0', 'score': 0.9936003684997559}], [{'label': 'LABEL_3', 'score': 0.997501790523529}], [{'label': 'LABEL_4', 'score': 0.7705954313278198}], [{'label': 'LABEL_6', 'score': 0.9952327609062195}], [{'label': 'LABEL_5', 'score': 0.9221248030662537}], [{'label': 'LABEL_3', 'score': 0.9968248605728149}], [{'label': 'LABEL_4', 'score': 0.9787154197692871}], [{'label': 'LABEL_2', 'score': 0.9862149357795715}], [{'label': 'LABEL_7', 'score': 0.9354318976402283}], [{'label': 'LABEL_5', 'score': 0.9355803728103638}], [{'label': 'LABEL_7', 'score': 0.9370747804641724}], [{'label': 'LABEL_6', 'score': 0.6150925159454346}], [{'label': 'LABEL_3', 'score': 0.997542142868042}], [{'label': 'LABEL_3', 'score': 0.7389645576477051}], [{'label': 'LABEL_6', 'score': 0.996243953704834}], [{'label': 'LABEL_7', 'score': 0.9806177020072937}], [{'label': 'LABEL_2', 'score': 0.9953327775001526}], [{'label': 'LABEL_2', 'score': 0.9945871829986572}], [{'label': 'LABEL_6', 'score': 0.9966551065444946}], [{'label': 'LABEL_5', 'score': 0.35766953229904175}], [{'label': 'LABEL_2', 'score': 0.9933596253395081}], [{'label': 'LABEL_3', 'score': 0.5131317377090454}], [{'label': 'LABEL_0', 'score': 0.9942933320999146}], [{'label': 'LABEL_3', 'score': 0.6546497344970703}], [{'label': 'LABEL_7', 'score': 0.9817556142807007}], [{'label': 'LABEL_5', 'score': 0.9248595237731934}], [{'label': 'LABEL_6', 'score': 0.9968951940536499}], [{'label': 'LABEL_4', 'score': 0.8803785443305969}], [{'label': 'LABEL_4', 'score': 0.9863231182098389}], [{'label': 'LABEL_6', 'score': 0.9946019649505615}], [{'label': 'LABEL_3', 'score': 0.9951633214950562}], [{'label': 'LABEL_3', 'score': 0.9956204295158386}], [{'label': 'LABEL_3', 'score': 0.9959294199943542}], [{'label': 'LABEL_6', 'score': 0.9966868758201599}], [{'label': 'LABEL_6', 'score': 0.9966490864753723}], [{'label': 'LABEL_4', 'score': 0.990364134311676}], [{'label': 'LABEL_3', 'score': 0.9017354846000671}], [{'label': 'LABEL_4', 'score': 0.98861163854599}], [{'label': 'LABEL_6', 'score': 0.9967603087425232}], [{'label': 'LABEL_7', 'score': 0.5633933544158936}], [{'label': 'LABEL_4', 'score': 0.9891889095306396}], [{'label': 'LABEL_6', 'score': 0.9965870380401611}], [{'label': 'LABEL_6', 'score': 0.5720645785331726}], [{'label': 'LABEL_2', 'score': 0.8578126430511475}], [{'label': 'LABEL_6', 'score': 0.9964723587036133}], [{'label': 'LABEL_6', 'score': 0.9960674047470093}], [{'label': 'LABEL_3', 'score': 0.997404158115387}], [{'label': 'LABEL_3', 'score': 0.9964107871055603}], [{'label': 'LABEL_6', 'score': 0.9966413974761963}], [{'label': 'LABEL_0', 'score': 0.994938850402832}], [{'label': 'LABEL_5', 'score': 0.9063878059387207}], [{'label': 'LABEL_3', 'score': 0.9972243309020996}], [{'label': 'LABEL_3', 'score': 0.9968342185020447}], [{'label': 'LABEL_6', 'score': 0.9967689514160156}], [{'label': 'LABEL_5', 'score': 0.9611998200416565}], [{'label': 'LABEL_3', 'score': 0.9971283078193665}], [{'label': 'LABEL_5', 'score': 0.8485788106918335}], [{'label': 'LABEL_5', 'score': 0.5457811951637268}], [{'label': 'LABEL_3', 'score': 0.9968684315681458}], [{'label': 'LABEL_6', 'score': 0.9968233108520508}], [{'label': 'LABEL_6', 'score': 0.9964262843132019}], [{'label': 'LABEL_5', 'score': 0.9259936809539795}], [{'label': 'LABEL_5', 'score': 0.9534506797790527}], [{'label': 'LABEL_0', 'score': 0.9940880537033081}], [{'label': 'LABEL_6', 'score': 0.996368408203125}], [{'label': 'LABEL_3', 'score': 0.997546374797821}], [{'label': 'LABEL_0', 'score': 0.9944100975990295}], [{'label': 'LABEL_6', 'score': 0.9969594478607178}], [{'label': 'LABEL_3', 'score': 0.9968474507331848}], [{'label': 'LABEL_3', 'score': 0.9929232597351074}], [{'label': 'LABEL_0', 'score': 0.7250164151191711}], [{'label': 'LABEL_3', 'score': 0.9973639845848083}], [{'label': 'LABEL_6', 'score': 0.45695260167121887}], [{'label': 'LABEL_3', 'score': 0.9973307847976685}], [{'label': 'LABEL_0', 'score': 0.9944350719451904}], [{'label': 'LABEL_3', 'score': 0.997171938419342}], [{'label': 'LABEL_2', 'score': 0.9952238202095032}], [{'label': 'LABEL_0', 'score': 0.34932366013526917}], [{'label': 'LABEL_6', 'score': 0.9969611763954163}], [{'label': 'LABEL_3', 'score': 0.9971868395805359}], [{'label': 'LABEL_3', 'score': 0.9960144758224487}], [{'label': 'LABEL_2', 'score': 0.5739908218383789}], [{'label': 'LABEL_4', 'score': 0.9882307052612305}], [{'label': 'LABEL_2', 'score': 0.9946435689926147}], [{'label': 'LABEL_2', 'score': 0.9951698184013367}], [{'label': 'LABEL_2', 'score': 0.9928125739097595}], [{'label': 'LABEL_5', 'score': 0.9616655111312866}], [{'label': 'LABEL_5', 'score': 0.9613227248191833}], [{'label': 'LABEL_0', 'score': 0.9946596026420593}], [{'label': 'LABEL_3', 'score': 0.9974237680435181}], [{'label': 'LABEL_3', 'score': 0.99710613489151}], [{'label': 'LABEL_6', 'score': 0.9965881109237671}], [{'label': 'LABEL_5', 'score': 0.6603002548217773}], [{'label': 'LABEL_2', 'score': 0.9945205450057983}], [{'label': 'LABEL_0', 'score': 0.9940458536148071}], [{'label': 'LABEL_6', 'score': 0.7129899263381958}], [{'label': 'LABEL_3', 'score': 0.9963493347167969}], [{'label': 'LABEL_3', 'score': 0.5410251021385193}], [{'label': 'LABEL_5', 'score': 0.9092922806739807}], [{'label': 'LABEL_2', 'score': 0.9947400689125061}], [{'label': 'LABEL_0', 'score': 0.9947797060012817}], [{'label': 'LABEL_0', 'score': 0.30815649032592773}], [{'label': 'LABEL_6', 'score': 0.6791989803314209}], [{'label': 'LABEL_2', 'score': 0.6261739134788513}], [{'label': 'LABEL_6', 'score': 0.9961681962013245}], [{'label': 'LABEL_5', 'score': 0.6632314324378967}], [{'label': 'LABEL_3', 'score': 0.5275359153747559}], [{'label': 'LABEL_0', 'score': 0.9946627616882324}], [{'label': 'LABEL_7', 'score': 0.7703291773796082}], [{'label': 'LABEL_2', 'score': 0.5929913520812988}], [{'label': 'LABEL_7', 'score': 0.37182411551475525}], [{'label': 'LABEL_3', 'score': 0.9971327781677246}], [{'label': 'LABEL_2', 'score': 0.9898350834846497}], [{'label': 'LABEL_6', 'score': 0.9966009855270386}], [{'label': 'LABEL_0', 'score': 0.9947385191917419}], [{'label': 'LABEL_2', 'score': 0.5571892857551575}], [{'label': 'LABEL_6', 'score': 0.44624361395835876}], [{'label': 'LABEL_3', 'score': 0.7309870719909668}], [{'label': 'LABEL_2', 'score': 0.992228090763092}], [{'label': 'LABEL_3', 'score': 0.8177208304405212}], [{'label': 'LABEL_6', 'score': 0.9960461258888245}], [{'label': 'LABEL_6', 'score': 0.9965848922729492}], [{'label': 'LABEL_6', 'score': 0.9951347708702087}], [{'label': 'LABEL_5', 'score': 0.7284255027770996}], [{'label': 'LABEL_0', 'score': 0.994421660900116}], [{'label': 'LABEL_2', 'score': 0.5314645767211914}], [{'label': 'LABEL_3', 'score': 0.806786835193634}], [{'label': 'LABEL_2', 'score': 0.9933564066886902}], [{'label': 'LABEL_0', 'score': 0.8983754515647888}], [{'label': 'LABEL_6', 'score': 0.9962677359580994}], [{'label': 'LABEL_3', 'score': 0.9972766041755676}], [{'label': 'LABEL_0', 'score': 0.34949061274528503}], [{'label': 'LABEL_0', 'score': 0.9948535561561584}], [{'label': 'LABEL_2', 'score': 0.9943418502807617}], [{'label': 'LABEL_3', 'score': 0.9974961876869202}], [{'label': 'LABEL_6', 'score': 0.9964538812637329}], [{'label': 'LABEL_0', 'score': 0.9714313745498657}], [{'label': 'LABEL_7', 'score': 0.9582430124282837}], [{'label': 'LABEL_5', 'score': 0.9691572189331055}], [{'label': 'LABEL_4', 'score': 0.9886547327041626}], [{'label': 'LABEL_7', 'score': 0.5745217204093933}], [{'label': 'LABEL_2', 'score': 0.9946263432502747}], [{'label': 'LABEL_6', 'score': 0.9944748282432556}], [{'label': 'LABEL_6', 'score': 0.996618390083313}], [{'label': 'LABEL_5', 'score': 0.8992441296577454}], [{'label': 'LABEL_0', 'score': 0.9946326017379761}], [{'label': 'LABEL_3', 'score': 0.9974063038825989}], [{'label': 'LABEL_2', 'score': 0.994524359703064}], [{'label': 'LABEL_0', 'score': 0.4858808219432831}], [{'label': 'LABEL_3', 'score': 0.8674488067626953}], [{'label': 'LABEL_7', 'score': 0.7824172973632812}], [{'label': 'LABEL_3', 'score': 0.7541736364364624}], [{'label': 'LABEL_3', 'score': 0.9959015250205994}], [{'label': 'LABEL_6', 'score': 0.9964625239372253}], [{'label': 'LABEL_3', 'score': 0.997439980506897}], [{'label': 'LABEL_4', 'score': 0.9894832968711853}], [{'label': 'LABEL_3', 'score': 0.9948337078094482}], [{'label': 'LABEL_5', 'score': 0.8354582190513611}], [{'label': 'LABEL_6', 'score': 0.9964643716812134}], [{'label': 'LABEL_5', 'score': 0.957048237323761}], [{'label': 'LABEL_4', 'score': 0.7638159990310669}], [{'label': 'LABEL_6', 'score': 0.9956812858581543}], [{'label': 'LABEL_5', 'score': 0.5600945949554443}], [{'label': 'LABEL_2', 'score': 0.9922439455986023}], [{'label': 'LABEL_3', 'score': 0.3776901364326477}], [{'label': 'LABEL_2', 'score': 0.9950059056282043}], [{'label': 'LABEL_6', 'score': 0.99659663438797}], [{'label': 'LABEL_6', 'score': 0.9966878294944763}], [{'label': 'LABEL_6', 'score': 0.9968185424804688}], [{'label': 'LABEL_7', 'score': 0.8103269338607788}], [{'label': 'LABEL_5', 'score': 0.9602798223495483}], [{'label': 'LABEL_6', 'score': 0.9964548349380493}], [{'label': 'LABEL_7', 'score': 0.6852239370346069}], [{'label': 'LABEL_3', 'score': 0.997641921043396}], [{'label': 'LABEL_3', 'score': 0.9975855350494385}], [{'label': 'LABEL_3', 'score': 0.9972585439682007}], [{'label': 'LABEL_0', 'score': 0.3475935459136963}], [{'label': 'LABEL_4', 'score': 0.9313560128211975}], [{'label': 'LABEL_6', 'score': 0.9964764714241028}], [{'label': 'LABEL_0', 'score': 0.975765585899353}], [{'label': 'LABEL_6', 'score': 0.9967247843742371}], [{'label': 'LABEL_3', 'score': 0.9971147775650024}], [{'label': 'LABEL_7', 'score': 0.7278445363044739}], [{'label': 'LABEL_6', 'score': 0.9960284233093262}], [{'label': 'LABEL_5', 'score': 0.9284591674804688}], [{'label': 'LABEL_3', 'score': 0.997728168964386}], [{'label': 'LABEL_3', 'score': 0.9399279356002808}], [{'label': 'LABEL_0', 'score': 0.6175316572189331}], [{'label': 'LABEL_6', 'score': 0.99676513671875}], [{'label': 'LABEL_3', 'score': 0.9976199269294739}], [{'label': 'LABEL_0', 'score': 0.994279146194458}], [{'label': 'LABEL_3', 'score': 0.9953334927558899}], [{'label': 'LABEL_4', 'score': 0.9896414875984192}], [{'label': 'LABEL_2', 'score': 0.9910178184509277}], [{'label': 'LABEL_3', 'score': 0.9976636171340942}], [{'label': 'LABEL_3', 'score': 0.9974778294563293}], [{'label': 'LABEL_3', 'score': 0.9954091906547546}], [{'label': 'LABEL_6', 'score': 0.9965885877609253}], [{'label': 'LABEL_3', 'score': 0.9956064820289612}], [{'label': 'LABEL_0', 'score': 0.9943037033081055}], [{'label': 'LABEL_3', 'score': 0.9960547685623169}], [{'label': 'LABEL_5', 'score': 0.6813125610351562}], [{'label': 'LABEL_7', 'score': 0.8339551687240601}], [{'label': 'LABEL_5', 'score': 0.6811402440071106}], [{'label': 'LABEL_4', 'score': 0.9884036183357239}], [{'label': 'LABEL_5', 'score': 0.346786767244339}], [{'label': 'LABEL_0', 'score': 0.9936931133270264}], [{'label': 'LABEL_3', 'score': 0.9957823753356934}], [{'label': 'LABEL_6', 'score': 0.9967177510261536}], [{'label': 'LABEL_2', 'score': 0.9952050447463989}], [{'label': 'LABEL_2', 'score': 0.6825481057167053}], [{'label': 'LABEL_2', 'score': 0.9949514865875244}], [{'label': 'LABEL_6', 'score': 0.8717144727706909}], [{'label': 'LABEL_3', 'score': 0.8213310241699219}], [{'label': 'LABEL_2', 'score': 0.9952459931373596}], [{'label': 'LABEL_6', 'score': 0.9960224032402039}], [{'label': 'LABEL_3', 'score': 0.9271384477615356}], [{'label': 'LABEL_0', 'score': 0.39203324913978577}], [{'label': 'LABEL_3', 'score': 0.9971548318862915}], [{'label': 'LABEL_2', 'score': 0.9943986535072327}], [{'label': 'LABEL_5', 'score': 0.9320448637008667}], [{'label': 'LABEL_5', 'score': 0.8743361830711365}], [{'label': 'LABEL_2', 'score': 0.9942994117736816}], [{'label': 'LABEL_5', 'score': 0.931969404220581}], [{'label': 'LABEL_3', 'score': 0.9974888563156128}], [{'label': 'LABEL_5', 'score': 0.9278675317764282}], [{'label': 'LABEL_3', 'score': 0.996837854385376}], [{'label': 'LABEL_4', 'score': 0.9872112274169922}], [{'label': 'LABEL_7', 'score': 0.37191468477249146}], [{'label': 'LABEL_6', 'score': 0.9959924817085266}], [{'label': 'LABEL_3', 'score': 0.919924259185791}], [{'label': 'LABEL_3', 'score': 0.9925536513328552}], [{'label': 'LABEL_3', 'score': 0.6420069336891174}], [{'label': 'LABEL_6', 'score': 0.5961964726448059}], [{'label': 'LABEL_6', 'score': 0.9956679344177246}], [{'label': 'LABEL_5', 'score': 0.9220557808876038}], [{'label': 'LABEL_0', 'score': 0.9949393272399902}], [{'label': 'LABEL_6', 'score': 0.9887329339981079}], [{'label': 'LABEL_6', 'score': 0.9965268969535828}], [{'label': 'LABEL_4', 'score': 0.706180214881897}], [{'label': 'LABEL_6', 'score': 0.9963793158531189}], [{'label': 'LABEL_3', 'score': 0.9965035915374756}], [{'label': 'LABEL_6', 'score': 0.9496167898178101}], [{'label': 'LABEL_0', 'score': 0.7530975937843323}], [{'label': 'LABEL_3', 'score': 0.9975065588951111}], [{'label': 'LABEL_5', 'score': 0.9607601165771484}], [{'label': 'LABEL_6', 'score': 0.996479332447052}], [{'label': 'LABEL_0', 'score': 0.9935584664344788}], [{'label': 'LABEL_6', 'score': 0.9967972636222839}], [{'label': 'LABEL_3', 'score': 0.9962658286094666}], [{'label': 'LABEL_0', 'score': 0.44977548718452454}], [{'label': 'LABEL_5', 'score': 0.9310725331306458}], [{'label': 'LABEL_2', 'score': 0.9940863847732544}], [{'label': 'LABEL_2', 'score': 0.995245635509491}], [{'label': 'LABEL_5', 'score': 0.8469603657722473}], [{'label': 'LABEL_3', 'score': 0.3749396502971649}], [{'label': 'LABEL_6', 'score': 0.9313710927963257}], [{'label': 'LABEL_3', 'score': 0.7449435591697693}], [{'label': 'LABEL_6', 'score': 0.9968780279159546}], [{'label': 'LABEL_5', 'score': 0.9321866631507874}], [{'label': 'LABEL_3', 'score': 0.9977002739906311}], [{'label': 'LABEL_3', 'score': 0.9976320266723633}], [{'label': 'LABEL_3', 'score': 0.9975033402442932}], [{'label': 'LABEL_3', 'score': 0.9975250363349915}], [{'label': 'LABEL_3', 'score': 0.9976984858512878}], [{'label': 'LABEL_3', 'score': 0.997192919254303}], [{'label': 'LABEL_7', 'score': 0.6905155181884766}], [{'label': 'LABEL_3', 'score': 0.9969486594200134}], [{'label': 'LABEL_5', 'score': 0.9157916903495789}], [{'label': 'LABEL_3', 'score': 0.9975841045379639}], [{'label': 'LABEL_5', 'score': 0.8767731785774231}], [{'label': 'LABEL_4', 'score': 0.9875218272209167}], [{'label': 'LABEL_0', 'score': 0.9932234287261963}], [{'label': 'LABEL_3', 'score': 0.5456882119178772}], [{'label': 'LABEL_0', 'score': 0.33600741624832153}], [{'label': 'LABEL_5', 'score': 0.8529253005981445}], [{'label': 'LABEL_3', 'score': 0.99689781665802}], [{'label': 'LABEL_2', 'score': 0.9952656030654907}], [{'label': 'LABEL_5', 'score': 0.963029146194458}], [{'label': 'LABEL_5', 'score': 0.9635570049285889}], [{'label': 'LABEL_2', 'score': 0.9572063684463501}], [{'label': 'LABEL_3', 'score': 0.9971066117286682}], [{'label': 'LABEL_6', 'score': 0.25166621804237366}], [{'label': 'LABEL_3', 'score': 0.9974256157875061}], [{'label': 'LABEL_4', 'score': 0.9893346428871155}], [{'label': 'LABEL_4', 'score': 0.907513439655304}], [{'label': 'LABEL_2', 'score': 0.9952113032341003}], [{'label': 'LABEL_0', 'score': 0.9937812685966492}], [{'label': 'LABEL_0', 'score': 0.9941279888153076}], [{'label': 'LABEL_3', 'score': 0.9975355863571167}], [{'label': 'LABEL_6', 'score': 0.9965065121650696}], [{'label': 'LABEL_0', 'score': 0.5954902768135071}], [{'label': 'LABEL_6', 'score': 0.996346652507782}], [{'label': 'LABEL_6', 'score': 0.9967612624168396}], [{'label': 'LABEL_6', 'score': 0.9557483196258545}], [{'label': 'LABEL_4', 'score': 0.8426920771598816}], [{'label': 'LABEL_4', 'score': 0.6499492526054382}], [{'label': 'LABEL_6', 'score': 0.9964287877082825}], [{'label': 'LABEL_3', 'score': 0.9964242577552795}], [{'label': 'LABEL_3', 'score': 0.9974520802497864}], [{'label': 'LABEL_3', 'score': 0.9960260391235352}], [{'label': 'LABEL_3', 'score': 0.9765634536743164}], [{'label': 'LABEL_5', 'score': 0.9319519996643066}], [{'label': 'LABEL_7', 'score': 0.7824172973632812}], [{'label': 'LABEL_3', 'score': 0.5794293284416199}], [{'label': 'LABEL_2', 'score': 0.9950162768363953}], [{'label': 'LABEL_5', 'score': 0.9708512425422668}], [{'label': 'LABEL_5', 'score': 0.3825547993183136}], [{'label': 'LABEL_3', 'score': 0.9970542192459106}], [{'label': 'LABEL_3', 'score': 0.9970550537109375}], [{'label': 'LABEL_2', 'score': 0.9950647950172424}], [{'label': 'LABEL_3', 'score': 0.9969303011894226}], [{'label': 'LABEL_5', 'score': 0.9475752711296082}], [{'label': 'LABEL_6', 'score': 0.9905588626861572}], [{'label': 'LABEL_3', 'score': 0.9974810481071472}], [{'label': 'LABEL_5', 'score': 0.6265356540679932}], [{'label': 'LABEL_6', 'score': 0.9963096976280212}], [{'label': 'LABEL_6', 'score': 0.9961780309677124}], [{'label': 'LABEL_5', 'score': 0.6768072247505188}]]\n"
          ]
        }
      ]
    },
    {
      "cell_type": "code",
      "source": [
        "test_data['pred'] = pred_list\n",
        "test_data['score'] = score_list\n",
        "test_data"
      ],
      "metadata": {
        "colab": {
          "base_uri": "https://localhost:8080/",
          "height": 424
        },
        "id": "MuCAGVDIcc4k",
        "outputId": "fb6fb8f1-2070-4fa2-fd5b-ed66ac929a3c"
      },
      "execution_count": 20,
      "outputs": [
        {
          "output_type": "execute_result",
          "data": {
            "text/plain": [
              "                                              Utterance  Target_num pred  \\\n",
              "0              why don’t you look in the mirror, scrud.           0    4   \n",
              "1     are there no conscious men in the city for you...           5    4   \n",
              "2     i have a feeling that the robin that builds he...           0    0   \n",
              "3                  i feel she said quickly i am so glad           2    2   \n",
              "4          that's one way! me, i- i went for the watch.           4    4   \n",
              "...                                                 ...         ...  ...   \n",
              "2967             after my boyfriend and i had separated           5    5   \n",
              "2968                          im feeling happy and well           2    2   \n",
              "2969  i didnt think i was angry but now that im typi...           0    0   \n",
              "2970                              i was feeling playful           2    2   \n",
              "2971  i was feeling on the inside my face broke out ...           5    5   \n",
              "\n",
              "         score  \n",
              "0     0.936113  \n",
              "1     0.872708  \n",
              "2     0.995056  \n",
              "3     0.997166  \n",
              "4     0.730054  \n",
              "...        ...  \n",
              "2967  0.661458  \n",
              "2968  0.997086  \n",
              "2969  0.995060  \n",
              "2970  0.996563  \n",
              "2971  0.997464  \n",
              "\n",
              "[2972 rows x 4 columns]"
            ],
            "text/html": [
              "\n",
              "  <div id=\"df-79db8583-c588-4a02-a332-9b4f47fd13a2\">\n",
              "    <div class=\"colab-df-container\">\n",
              "      <div>\n",
              "<style scoped>\n",
              "    .dataframe tbody tr th:only-of-type {\n",
              "        vertical-align: middle;\n",
              "    }\n",
              "\n",
              "    .dataframe tbody tr th {\n",
              "        vertical-align: top;\n",
              "    }\n",
              "\n",
              "    .dataframe thead th {\n",
              "        text-align: right;\n",
              "    }\n",
              "</style>\n",
              "<table border=\"1\" class=\"dataframe\">\n",
              "  <thead>\n",
              "    <tr style=\"text-align: right;\">\n",
              "      <th></th>\n",
              "      <th>Utterance</th>\n",
              "      <th>Target_num</th>\n",
              "      <th>pred</th>\n",
              "      <th>score</th>\n",
              "    </tr>\n",
              "  </thead>\n",
              "  <tbody>\n",
              "    <tr>\n",
              "      <th>0</th>\n",
              "      <td>why don’t you look in the mirror, scrud.</td>\n",
              "      <td>0</td>\n",
              "      <td>4</td>\n",
              "      <td>0.936113</td>\n",
              "    </tr>\n",
              "    <tr>\n",
              "      <th>1</th>\n",
              "      <td>are there no conscious men in the city for you...</td>\n",
              "      <td>5</td>\n",
              "      <td>4</td>\n",
              "      <td>0.872708</td>\n",
              "    </tr>\n",
              "    <tr>\n",
              "      <th>2</th>\n",
              "      <td>i have a feeling that the robin that builds he...</td>\n",
              "      <td>0</td>\n",
              "      <td>0</td>\n",
              "      <td>0.995056</td>\n",
              "    </tr>\n",
              "    <tr>\n",
              "      <th>3</th>\n",
              "      <td>i feel she said quickly i am so glad</td>\n",
              "      <td>2</td>\n",
              "      <td>2</td>\n",
              "      <td>0.997166</td>\n",
              "    </tr>\n",
              "    <tr>\n",
              "      <th>4</th>\n",
              "      <td>that's one way! me, i- i went for the watch.</td>\n",
              "      <td>4</td>\n",
              "      <td>4</td>\n",
              "      <td>0.730054</td>\n",
              "    </tr>\n",
              "    <tr>\n",
              "      <th>...</th>\n",
              "      <td>...</td>\n",
              "      <td>...</td>\n",
              "      <td>...</td>\n",
              "      <td>...</td>\n",
              "    </tr>\n",
              "    <tr>\n",
              "      <th>2967</th>\n",
              "      <td>after my boyfriend and i had separated</td>\n",
              "      <td>5</td>\n",
              "      <td>5</td>\n",
              "      <td>0.661458</td>\n",
              "    </tr>\n",
              "    <tr>\n",
              "      <th>2968</th>\n",
              "      <td>im feeling happy and well</td>\n",
              "      <td>2</td>\n",
              "      <td>2</td>\n",
              "      <td>0.997086</td>\n",
              "    </tr>\n",
              "    <tr>\n",
              "      <th>2969</th>\n",
              "      <td>i didnt think i was angry but now that im typi...</td>\n",
              "      <td>0</td>\n",
              "      <td>0</td>\n",
              "      <td>0.995060</td>\n",
              "    </tr>\n",
              "    <tr>\n",
              "      <th>2970</th>\n",
              "      <td>i was feeling playful</td>\n",
              "      <td>2</td>\n",
              "      <td>2</td>\n",
              "      <td>0.996563</td>\n",
              "    </tr>\n",
              "    <tr>\n",
              "      <th>2971</th>\n",
              "      <td>i was feeling on the inside my face broke out ...</td>\n",
              "      <td>5</td>\n",
              "      <td>5</td>\n",
              "      <td>0.997464</td>\n",
              "    </tr>\n",
              "  </tbody>\n",
              "</table>\n",
              "<p>2972 rows × 4 columns</p>\n",
              "</div>\n",
              "      <button class=\"colab-df-convert\" onclick=\"convertToInteractive('df-79db8583-c588-4a02-a332-9b4f47fd13a2')\"\n",
              "              title=\"Convert this dataframe to an interactive table.\"\n",
              "              style=\"display:none;\">\n",
              "        \n",
              "  <svg xmlns=\"http://www.w3.org/2000/svg\" height=\"24px\"viewBox=\"0 0 24 24\"\n",
              "       width=\"24px\">\n",
              "    <path d=\"M0 0h24v24H0V0z\" fill=\"none\"/>\n",
              "    <path d=\"M18.56 5.44l.94 2.06.94-2.06 2.06-.94-2.06-.94-.94-2.06-.94 2.06-2.06.94zm-11 1L8.5 8.5l.94-2.06 2.06-.94-2.06-.94L8.5 2.5l-.94 2.06-2.06.94zm10 10l.94 2.06.94-2.06 2.06-.94-2.06-.94-.94-2.06-.94 2.06-2.06.94z\"/><path d=\"M17.41 7.96l-1.37-1.37c-.4-.4-.92-.59-1.43-.59-.52 0-1.04.2-1.43.59L10.3 9.45l-7.72 7.72c-.78.78-.78 2.05 0 2.83L4 21.41c.39.39.9.59 1.41.59.51 0 1.02-.2 1.41-.59l7.78-7.78 2.81-2.81c.8-.78.8-2.07 0-2.86zM5.41 20L4 18.59l7.72-7.72 1.47 1.35L5.41 20z\"/>\n",
              "  </svg>\n",
              "      </button>\n",
              "      \n",
              "  <style>\n",
              "    .colab-df-container {\n",
              "      display:flex;\n",
              "      flex-wrap:wrap;\n",
              "      gap: 12px;\n",
              "    }\n",
              "\n",
              "    .colab-df-convert {\n",
              "      background-color: #E8F0FE;\n",
              "      border: none;\n",
              "      border-radius: 50%;\n",
              "      cursor: pointer;\n",
              "      display: none;\n",
              "      fill: #1967D2;\n",
              "      height: 32px;\n",
              "      padding: 0 0 0 0;\n",
              "      width: 32px;\n",
              "    }\n",
              "\n",
              "    .colab-df-convert:hover {\n",
              "      background-color: #E2EBFA;\n",
              "      box-shadow: 0px 1px 2px rgba(60, 64, 67, 0.3), 0px 1px 3px 1px rgba(60, 64, 67, 0.15);\n",
              "      fill: #174EA6;\n",
              "    }\n",
              "\n",
              "    [theme=dark] .colab-df-convert {\n",
              "      background-color: #3B4455;\n",
              "      fill: #D2E3FC;\n",
              "    }\n",
              "\n",
              "    [theme=dark] .colab-df-convert:hover {\n",
              "      background-color: #434B5C;\n",
              "      box-shadow: 0px 1px 3px 1px rgba(0, 0, 0, 0.15);\n",
              "      filter: drop-shadow(0px 1px 2px rgba(0, 0, 0, 0.3));\n",
              "      fill: #FFFFFF;\n",
              "    }\n",
              "  </style>\n",
              "\n",
              "      <script>\n",
              "        const buttonEl =\n",
              "          document.querySelector('#df-79db8583-c588-4a02-a332-9b4f47fd13a2 button.colab-df-convert');\n",
              "        buttonEl.style.display =\n",
              "          google.colab.kernel.accessAllowed ? 'block' : 'none';\n",
              "\n",
              "        async function convertToInteractive(key) {\n",
              "          const element = document.querySelector('#df-79db8583-c588-4a02-a332-9b4f47fd13a2');\n",
              "          const dataTable =\n",
              "            await google.colab.kernel.invokeFunction('convertToInteractive',\n",
              "                                                     [key], {});\n",
              "          if (!dataTable) return;\n",
              "\n",
              "          const docLinkHtml = 'Like what you see? Visit the ' +\n",
              "            '<a target=\"_blank\" href=https://colab.research.google.com/notebooks/data_table.ipynb>data table notebook</a>'\n",
              "            + ' to learn more about interactive tables.';\n",
              "          element.innerHTML = '';\n",
              "          dataTable['output_type'] = 'display_data';\n",
              "          await google.colab.output.renderOutput(dataTable, element);\n",
              "          const docLink = document.createElement('div');\n",
              "          docLink.innerHTML = docLinkHtml;\n",
              "          element.appendChild(docLink);\n",
              "        }\n",
              "      </script>\n",
              "    </div>\n",
              "  </div>\n",
              "  "
            ]
          },
          "metadata": {},
          "execution_count": 20
        }
      ]
    },
    {
      "cell_type": "code",
      "source": [
        "test_data['pred'] = pd.to_numeric(test_data['pred'])\n",
        "test_data[\"Target\"]=test_data[\"Target_num\"].replace({2:\"joy\", 5:\"sadness\", 4:\"neutral\", 0:\"anger\", 1:\"fear\", 6:\"surprise\", 3:\"love\"})\n",
        "test_data[\"pred\"]=test_data[\"pred\"].replace({2:\"joy\", 5:\"sadness\", 4:\"neutral\", 0:\"anger\", 1:\"fear\", 6:\"surprise\", 3:\"love\"})"
      ],
      "metadata": {
        "id": "kizBu5qhcnC2"
      },
      "execution_count": 21,
      "outputs": []
    },
    {
      "cell_type": "code",
      "source": [
        "from sklearn.metrics import classification_report\n",
        "\n",
        "print(classification_report(y_true=test_data['Target'], y_pred=test_data['pred']))"
      ],
      "metadata": {
        "colab": {
          "base_uri": "https://localhost:8080/"
        },
        "id": "LJFH-ltuctth",
        "outputId": "191b9423-6c32-4a8a-f9f5-6c2c6e19f0d4"
      },
      "execution_count": 22,
      "outputs": [
        {
          "output_type": "stream",
          "name": "stdout",
          "text": [
            "              precision    recall  f1-score   support\n",
            "\n",
            "       anger       0.84      0.77      0.80       382\n",
            "        fear       0.86      0.81      0.83       264\n",
            "         joy       0.89      0.88      0.88       850\n",
            "        love       0.84      0.85      0.85       164\n",
            "     neutral       0.76      0.83      0.79       471\n",
            "     sadness       0.93      0.92      0.92       648\n",
            "    surprise       0.65      0.69      0.67       193\n",
            "\n",
            "    accuracy                           0.85      2972\n",
            "   macro avg       0.82      0.82      0.82      2972\n",
            "weighted avg       0.85      0.85      0.85      2972\n",
            "\n"
          ]
        }
      ]
    },
    {
      "cell_type": "code",
      "source": [
        "from sklearn.metrics import confusion_matrix,classification_report\n",
        "def plot_confusion_matrix(cm, classes,\n",
        "                          normalize=False,\n",
        "                          title='Confusion matrix',\n",
        "                          cmap=plt.cm.Blues):\n",
        "\n",
        "    import itertools\n",
        "    \n",
        "    plt.figure(figsize=(10, 10))\n",
        "    plt.imshow(cm, interpolation='nearest', cmap=cmap)\n",
        "    plt.title(title)\n",
        "    plt.colorbar()\n",
        "    tick_marks = np.arange(len(classes))\n",
        "    plt.xticks(tick_marks, classes, rotation=45)\n",
        "    plt.yticks(tick_marks, classes)\n",
        "    fmt = '.2f' if normalize else 'd'\n",
        "    thresh = cm.max() / 2.\n",
        "    for i, j in itertools.product(range(cm.shape[0]), range(cm.shape[1])):\n",
        "        plt.text(j, i, format(cm[i, j], fmt),\n",
        "                 horizontalalignment=\"center\",\n",
        "                 color=\"white\" if cm[i, j] > thresh else \"black\")\n",
        "    \n",
        "    plt.ylabel('True label')\n",
        "    plt.xlabel('Predicted label')\n",
        "    plt.tight_layout()"
      ],
      "metadata": {
        "id": "STE5dxrxv0a4"
      },
      "execution_count": 33,
      "outputs": []
    },
    {
      "cell_type": "code",
      "source": [
        "cm=confusion_matrix(test_data['Target'],test_data['pred'])\n",
        "print(cm)"
      ],
      "metadata": {
        "colab": {
          "base_uri": "https://localhost:8080/"
        },
        "id": "DDhCh_U10Ddw",
        "outputId": "4f1769f3-dd86-4ac6-fdda-9c06301abcd3"
      },
      "execution_count": 24,
      "outputs": [
        {
          "output_type": "stream",
          "name": "stdout",
          "text": [
            "[[293  15  17   0  27  15  15]\n",
            " [  5 213   2   0  11   8  25]\n",
            " [ 15   4 748  26  37   8  12]\n",
            " [  0   0  24 140   0   0   0]\n",
            " [ 14   3  30   0 393  15  16]\n",
            " [ 10   5   8   0  25 596   4]\n",
            " [ 10   7  14   0  27   2 133]]\n"
          ]
        }
      ]
    },
    {
      "cell_type": "code",
      "source": [
        "classes=[\"anger\",\"fear\",\"joy\",\"love\",\"neutral\",\"sadness\",\"surprise\"]\n",
        "plot_confusion_matrix(cm,classes)"
      ],
      "metadata": {
        "id": "tBJAfQhfwKaa",
        "colab": {
          "base_uri": "https://localhost:8080/",
          "height": 727
        },
        "outputId": "ec09cf86-cf36-4eff-f43e-7c59fb1a8c66"
      },
      "execution_count": 34,
      "outputs": [
        {
          "output_type": "display_data",
          "data": {
            "text/plain": [
              "<Figure size 720x720 with 2 Axes>"
            ],
            "image/png": "[encoded data removed]"
          },
          "metadata": {
            "needs_background": "light"
          }
        }
      ]
    }
  ]
}